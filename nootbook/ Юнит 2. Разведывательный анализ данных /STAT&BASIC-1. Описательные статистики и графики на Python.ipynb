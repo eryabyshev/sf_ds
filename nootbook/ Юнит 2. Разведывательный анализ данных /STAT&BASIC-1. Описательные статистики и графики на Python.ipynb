{
 "cells": [
  {
   "cell_type": "markdown",
   "metadata": {},
   "source": [
    "# Описательные статистики"
   ]
  },
  {
   "cell_type": "markdown",
   "metadata": {},
   "source": [
    "Итак, среднее — это сумма значений, поделённая на их количество. Допустим, в классе из 7 человек ученики получили следующие оценки: \n",
    "4, 5, 3, 4, 2, 5, 5"
   ]
  },
  {
   "cell_type": "code",
   "execution_count": 2,
   "metadata": {},
   "outputs": [
    {
     "name": "stdout",
     "output_type": "stream",
     "text": [
      "Мода на 1.0 бала средней оценки.\n"
     ]
    }
   ],
   "source": [
    "import numpy as np\n",
    "from scipy import stats\n",
    "\n",
    "data = np.array([4, 5, 3, 4, 2, 5, 5])\n",
    "\n",
    "data.mean()\n",
    "stats.mode(data).mode[0]\n",
    "\n",
    "print(\"Мода на {} бала средней оценки.\".format(stats.mode(data).mode[0] - data.mean()))\n"
   ]
  },
  {
   "cell_type": "markdown",
   "metadata": {},
   "source": [
    "В таблице выше представлен ряд данных о весе 20 случайно выбранных клиентов медицинской клиники — 10 мужчин и 10 женщин (в кг). Скопируйте датафрейм, который описывают нашу таблицу, в свой ноутбук и выполните задание."
   ]
  },
  {
   "cell_type": "code",
   "execution_count": 3,
   "metadata": {},
   "outputs": [],
   "source": [
    "import pandas as pd\n",
    "\n",
    "df = pd.DataFrame({\n",
    "    'mens': [80.2, 80.8, 57.5, 98, 50.5, 73.8, 77.4, 59.7, 77.9, 52.6],\n",
    "    'womens': [57.9, 57.3, 72.8, 48.2, 59.5, 48.3, 61.2, 53.9, 53.9, 70.7]\n",
    "})"
   ]
  },
  {
   "cell_type": "markdown",
   "metadata": {},
   "source": [
    "Средний вес мужчины в данной выборке превышает средний вес женщины на ______ кг.\n",
    "\n",
    "Введите значение, округлив до 1 знака после точки-разделителя."
   ]
  },
  {
   "cell_type": "code",
   "execution_count": 4,
   "metadata": {},
   "outputs": [
    {
     "data": {
      "text/plain": [
       "12.5"
      ]
     },
     "execution_count": 4,
     "metadata": {},
     "output_type": "execute_result"
    }
   ],
   "source": [
    "mens = df['mens'].mean()\n",
    "womens = df['womens'].mean()\n",
    "\n",
    "round(mens - womens, 1)"
   ]
  },
  {
   "cell_type": "markdown",
   "metadata": {},
   "source": [
    "Дано два набора данных: 2, 7, 4, 3, 6, 4, 1, 2 и 5, 2, 4, 8, 1, 6, 7\n",
    "Медиана в первом наборе данных равна _____. (введите значение с точкой в качестве разделителя) "
   ]
  },
  {
   "cell_type": "code",
   "execution_count": 5,
   "metadata": {},
   "outputs": [
    {
     "name": "stdout",
     "output_type": "stream",
     "text": [
      "3.5\n"
     ]
    },
    {
     "data": {
      "text/plain": [
       "'Это на 1.5 меньше медианы во втором наборе данных. (введите значение с точкой в качестве разделителя)'"
      ]
     },
     "execution_count": 5,
     "metadata": {},
     "output_type": "execute_result"
    }
   ],
   "source": [
    "first = np.median([2, 7, 4, 3, 6, 4, 1, 2])\n",
    "\n",
    "print(first)\n",
    "second = np.median([5, 2, 4, 8, 1, 6, 7])\n",
    "\n",
    "\"Это на {} меньше медианы во втором наборе данных. (введите значение с точкой в качестве разделителя)\".format(second - first)"
   ]
  },
  {
   "cell_type": "markdown",
   "metadata": {},
   "source": [
    "Медианный вес среди мужчин (введите значение с точкой в качестве разделителя):"
   ]
  },
  {
   "cell_type": "code",
   "execution_count": 6,
   "metadata": {},
   "outputs": [
    {
     "data": {
      "text/plain": [
       "75.6"
      ]
     },
     "execution_count": 6,
     "metadata": {},
     "output_type": "execute_result"
    }
   ],
   "source": [
    "np.median(df.mens)"
   ]
  },
  {
   "cell_type": "markdown",
   "metadata": {},
   "source": [
    "Медианный вес среди женщин (введите значение с точкой в качестве разделителя):"
   ]
  },
  {
   "cell_type": "code",
   "execution_count": 7,
   "metadata": {},
   "outputs": [
    {
     "data": {
      "text/plain": [
       "57.6"
      ]
     },
     "execution_count": 7,
     "metadata": {},
     "output_type": "execute_result"
    }
   ],
   "source": [
    "round(np.median(df.womens), 1)"
   ]
  },
  {
   "cell_type": "markdown",
   "metadata": {},
   "source": [
    "Для создания общего списка пациентов объедините серии мужчин и женщин в один patients, а затем найдите медиану.\n",
    "\n",
    "Медианный вес всех пациентов в выборке (введите значение с точкой в качестве разделителя): "
   ]
  },
  {
   "cell_type": "code",
   "execution_count": 8,
   "metadata": {},
   "outputs": [
    {
     "data": {
      "text/plain": [
       "59.6"
      ]
     },
     "execution_count": 8,
     "metadata": {},
     "output_type": "execute_result"
    }
   ],
   "source": [
    "patients = []\n",
    "\n",
    "for i in df.mens.values:\n",
    "    patients.append(i)\n",
    "for i in df.womens.values:\n",
    "    patients.append(i)\n",
    "\n",
    "    \n",
    "np.median(patients)\n"
   ]
  },
  {
   "cell_type": "markdown",
   "metadata": {},
   "source": [
    "Возьмём два знакомых нам по третьей задаче набора данных:\n",
    "\n",
    "2, 7, 4, 3, 6, 4, 1, 2 и 5, 2, 4, 8, 1, 6, 7\n",
    "\n",
    "Найдите квартили для обоих наборов данных и выберите все верные утверждения из списка ниже:"
   ]
  },
  {
   "cell_type": "code",
   "execution_count": 10,
   "metadata": {},
   "outputs": [
    {
     "name": "stdout",
     "output_type": "stream",
     "text": [
      "low: 2.0 height: 4.5\n",
      "low: 3.0 height: 6.5\n"
     ]
    }
   ],
   "source": [
    "first = np.array([2, 7, 4, 3, 6, 4, 1, 2 ])\n",
    "first_quantile_low = np.quantile(first, 0.25)\n",
    "first_quantile_height = np.quantile(first, 0.75)\n",
    "\n",
    "print(\"low:\", first_quantile_low, \"height:\", first_quantile_height)\n",
    "\n",
    "second = np.array([5, 2, 4, 8, 1, 6, 7 ])\n",
    "second_quantile_low = np.quantile(second, 0.25)\n",
    "second_quantile_height = np.quantile(second, 0.75)\n",
    "\n",
    "print(\"low:\", second_quantile_low, \"height:\", second_quantile_height)\n"
   ]
  },
  {
   "cell_type": "markdown",
   "metadata": {},
   "source": [
    "Найдите Q1 и Q3 для мужчин и женщин, используя Python (выпишите результат, округляя до 1 знака после точки-разделителя)"
   ]
  },
  {
   "cell_type": "code",
   "execution_count": 11,
   "metadata": {},
   "outputs": [],
   "source": [
    "df = pd.DataFrame({\n",
    "    'mens': [80, 80.8, 57.5, 98, 50.5, 73.8, 77.4, 59.7, 77.9, 52.6],\n",
    "    'womens': [57.9, 57.3, 72.8, 48.2, 59.5, 48.3, 61.2, 53.9, 53.9, 70.7]\n",
    "})"
   ]
  },
  {
   "cell_type": "code",
   "execution_count": 12,
   "metadata": {},
   "outputs": [
    {
     "name": "stdout",
     "output_type": "stream",
     "text": [
      "q1 mens: 58.6 q3 mens: 79.0\n",
      "q1 womens: 53.9 q3 womens: 60.4\n",
      "4.7\n"
     ]
    }
   ],
   "source": [
    "mens_q1 = round(df.mens.quantile(0.25, interpolation='midpoint'), 1)\n",
    "mens_q3 = round(df.mens.quantile(0.75, interpolation='midpoint'), 1)\n",
    "\n",
    "womens_q1 = round(df.womens.quantile(0.25, interpolation='midpoint'), 1)\n",
    "womens_q3 = round(df.womens.quantile(0.75, interpolation='midpoint'), 1)\n",
    "\n",
    "\n",
    "print('q1 mens:', mens_q1, 'q3 mens:', mens_q3)\n",
    "print('q1 womens:', womens_q1, 'q3 womens:', womens_q3)\n",
    "      \n",
    "print(round(mens_q1 - womens_q1, 1))\n",
    "      "
   ]
  },
  {
   "cell_type": "markdown",
   "metadata": {},
   "source": [
    "Найдите размах и межквартильный размах для веса на выборке пациентов клиники."
   ]
  },
  {
   "cell_type": "code",
   "execution_count": null,
   "metadata": {},
   "outputs": [],
   "source": [
    "    df = pd.DataFrame({\n",
    "    'mens': [80.2, 80.8, 57.5, 98, 50.5, 73.8, 77.4, 59.7, 77.9, 52.6],\n",
    "    'womens': [57.9, 57.3, 72.8, 48.2, 59.5, 48.3, 61.2, 53.9, 53.9, 70.7]\n",
    "})"
   ]
  },
  {
   "cell_type": "code",
   "execution_count": 13,
   "metadata": {},
   "outputs": [
    {
     "name": "stdout",
     "output_type": "stream",
     "text": [
      "mens range: 47.5 mens IQR 20.4\n",
      "womens range: 24.6 womens IQR 6.5\n"
     ]
    }
   ],
   "source": [
    "def print_range_and_iqr(df, field_name):\n",
    "    min = df[field_name].min()\n",
    "    max = df[field_name].max()\n",
    "    range = round(abs(min - max), 1)\n",
    "\n",
    "    q1 = df[field_name].quantile(0.25, interpolation='midpoint')\n",
    "    q3 = df[field_name].quantile(0.75, interpolation='midpoint')\n",
    "\n",
    "    iqr = round(abs(q1 - q3), 1)\n",
    "\n",
    "    print(field_name, \"range:\", range, field_name, 'IQR', iqr)\n",
    "    \n",
    "print_range_and_iqr(df, 'mens')\n",
    "print_range_and_iqr(df, 'womens')\n",
    "    \n",
    "\n"
   ]
  },
  {
   "cell_type": "markdown",
   "metadata": {},
   "source": [
    "Вычисляем стандартное отклонение"
   ]
  },
  {
   "cell_type": "code",
   "execution_count": null,
   "metadata": {},
   "outputs": [],
   "source": [
    "def prinе_std_and_dispersion(df, field_name):\n",
    "    std = df[field_name].std()\n",
    "    dispersion = df[field_name].var()\n",
    "    \n",
    "    print(field_name, 'std:', round(std, 1), field_name, 'dispersion:', round(dispersion, 1))\n",
    "    \n",
    "    \n",
    "prinе_std_and_dispersion(df, 'mens')\n",
    "prinе_std_and_dispersion(df, 'womens')"
   ]
  },
  {
   "cell_type": "markdown",
   "metadata": {},
   "source": [
    "Проверьте наличие выбросов в выборке пациентов клиники:"
   ]
  },
  {
   "cell_type": "code",
   "execution_count": 30,
   "metadata": {},
   "outputs": [
    {
     "data": {
      "text/plain": [
       "array([], dtype=float64)"
      ]
     },
     "metadata": {},
     "output_type": "display_data"
    },
    {
     "data": {
      "text/plain": [
       "array([], dtype=float64)"
      ]
     },
     "metadata": {},
     "output_type": "display_data"
    }
   ],
   "source": [
    "mens = np.array([80.2, 80.8, 57.5, 98, 50.5, 73.8, 77.4, 59.7, 77.9, 52.6])\n",
    "\n",
    "q1 = np.quantile(mens, 0.25, interpolation='midpoint')\n",
    "q3 = np.quantile(mens, 0.75, interpolation='midpoint')\n",
    "iqr = abs(q1 - q3)\n",
    "\n",
    "display(mens[mens < q1 - 1.5 * iqr])\n",
    "display(mens[mens > q3 + 1.5 * iqr])\n"
   ]
  },
  {
   "cell_type": "code",
   "execution_count": 29,
   "metadata": {},
   "outputs": [
    {
     "data": {
      "text/plain": [
       "array([], dtype=float64)"
      ]
     },
     "metadata": {},
     "output_type": "display_data"
    },
    {
     "data": {
      "text/plain": [
       "array([72.8, 70.7])"
      ]
     },
     "metadata": {},
     "output_type": "display_data"
    }
   ],
   "source": [
    "womens = np.array([57.9, 57.3, 72.8, 48.2, 59.5, 48.3, 61.2, 53.9, 53.9, 70.7])\n",
    "q1 = np.quantile(womens, 0.25, interpolation='midpoint')\n",
    "q3 = np.quantile(womens, 0.75, interpolation='midpoint')\n",
    "iqr = abs(q1 - q3)\n",
    "\n",
    "display(womens[womens < q1 - 1.5 * iqr])\n",
    "display(womens[womens > q3 + 1.5 * iqr])"
   ]
  },
  {
   "cell_type": "markdown",
   "metadata": {},
   "source": [
    "Таблица показывает среднюю температуру в январе (в градусах по Цельсию) в одном российском городе за 2007-2018 годы:"
   ]
  },
  {
   "cell_type": "code",
   "execution_count": 19,
   "metadata": {},
   "outputs": [],
   "source": [
    "df = pd.DataFrame({\n",
    "    'year': [2007, 2008, 2009, 2010, 2011, 2012, 2013, 2014, 2015, 2016, 2017, 2018],\n",
    "    'temp': [-4.7, -6.1, -5.5, -3.3, -7.1, -3.1, -5.2, -7.3, -12.1, -6.6, -5.9, -6.3]\n",
    "})"
   ]
  },
  {
   "cell_type": "code",
   "execution_count": 20,
   "metadata": {},
   "outputs": [
    {
     "name": "stdout",
     "output_type": "stream",
     "text": [
      "mean: -6.1\n",
      "median: -6.0\n",
      "std: 2.3\n",
      "range: 9.0\n",
      "iqr: 1.9\n"
     ]
    },
    {
     "data": {
      "text/html": [
       "<div>\n",
       "<style scoped>\n",
       "    .dataframe tbody tr th:only-of-type {\n",
       "        vertical-align: middle;\n",
       "    }\n",
       "\n",
       "    .dataframe tbody tr th {\n",
       "        vertical-align: top;\n",
       "    }\n",
       "\n",
       "    .dataframe thead th {\n",
       "        text-align: right;\n",
       "    }\n",
       "</style>\n",
       "<table border=\"1\" class=\"dataframe\">\n",
       "  <thead>\n",
       "    <tr style=\"text-align: right;\">\n",
       "      <th></th>\n",
       "      <th>year</th>\n",
       "      <th>temp</th>\n",
       "    </tr>\n",
       "  </thead>\n",
       "  <tbody>\n",
       "    <tr>\n",
       "      <th>8</th>\n",
       "      <td>2015</td>\n",
       "      <td>-12.1</td>\n",
       "    </tr>\n",
       "  </tbody>\n",
       "</table>\n",
       "</div>"
      ],
      "text/plain": [
       "   year  temp\n",
       "8  2015 -12.1"
      ]
     },
     "metadata": {},
     "output_type": "display_data"
    },
    {
     "data": {
      "text/html": [
       "<div>\n",
       "<style scoped>\n",
       "    .dataframe tbody tr th:only-of-type {\n",
       "        vertical-align: middle;\n",
       "    }\n",
       "\n",
       "    .dataframe tbody tr th {\n",
       "        vertical-align: top;\n",
       "    }\n",
       "\n",
       "    .dataframe thead th {\n",
       "        text-align: right;\n",
       "    }\n",
       "</style>\n",
       "<table border=\"1\" class=\"dataframe\">\n",
       "  <thead>\n",
       "    <tr style=\"text-align: right;\">\n",
       "      <th></th>\n",
       "      <th>year</th>\n",
       "      <th>temp</th>\n",
       "    </tr>\n",
       "  </thead>\n",
       "  <tbody>\n",
       "  </tbody>\n",
       "</table>\n",
       "</div>"
      ],
      "text/plain": [
       "Empty DataFrame\n",
       "Columns: [year, temp]\n",
       "Index: []"
      ]
     },
     "metadata": {},
     "output_type": "display_data"
    }
   ],
   "source": [
    "mean = df.temp.mean()\n",
    "median = df.temp.median()\n",
    "std = df.temp.std()\n",
    "range = abs(df.temp.max() - df.temp.min())\n",
    "\n",
    "q1 = df.temp.quantile(0.25, interpolation='midpoint')\n",
    "q3 = df.temp.quantile(0.75, interpolation='midpoint')\n",
    "iqr = abs(q1 - q3)\n",
    "\n",
    "\n",
    "print(\"mean:\", round(mean, 1))\n",
    "print(\"median:\", round(median, 1))\n",
    "print(\"std:\", round(std, 1))\n",
    "print(\"range:\", round(range, 1))\n",
    "print(\"iqr:\", round(iqr, 1))\n",
    "\n",
    "display(df[df.temp < q1 - 1.5 * iqr])\n",
    "display(df[df.temp > q3 + 1.5 * iqr])\n"
   ]
  },
  {
   "cell_type": "markdown",
   "metadata": {},
   "source": [
    "Разберемся с тем, как построить графики в python.\n",
    "\n",
    "Предположим, у нас есть данные о расходах на мобильную связь 20 пользователей в городе А и 20 пользователей в городе Б."
   ]
  },
  {
   "cell_type": "code",
   "execution_count": null,
   "metadata": {},
   "outputs": [],
   "source": [
    "df = pd.DataFrame({\n",
    "    'city_a': [240, 440, 455, 475, 475, 490, 490, 500, 500, 500, 530, 550, 578, 580, 620, 687, 694, 703, 859],\n",
    "    'city_b': [500, 564, 590, 600, 600, 600, 645, 650, 660, 667, 689, 692, 700, 700, 705, 735, 760, 764, 805]\n",
    "})\n",
    "\n",
    "boxplot = df.boxplot(column=['city_a', 'city_b'])\n",
    "hist = df.hist(column=['city_a', 'city_b'])"
   ]
  },
  {
   "cell_type": "markdown",
   "metadata": {},
   "source": [
    "В Python постройте boxplot на предложенном в предыдущей задаче наборе данных. Найдите на графике отображение медианы. Чему она равна? "
   ]
  },
  {
   "cell_type": "code",
   "execution_count": 31,
   "metadata": {},
   "outputs": [
    {
     "name": "stdout",
     "output_type": "stream",
     "text": [
      "value    38.0\n",
      "dtype: float64\n"
     ]
    },
    {
     "data": {
      "text/plain": [
       "<matplotlib.axes._subplots.AxesSubplot at 0x7f37b75c6850>"
      ]
     },
     "execution_count": 31,
     "metadata": {},
     "output_type": "execute_result"
    },
    {
     "data": {
      "image/png": "[encoded data removed]",
      "text/plain": [
       "<Figure size 432x288 with 1 Axes>"
      ]
     },
     "metadata": {
      "needs_background": "light"
     },
     "output_type": "display_data"
    }
   ],
   "source": [
    "data = pd.DataFrame({\n",
    "  'value': [48, 44, 42.5, 40.5, 40.5, 39, 39, 38, 38, 38, 35, 33, 30.2, 30, 26, 19.3, 27, 21]\n",
    "})\n",
    "print(data.median(axis=0))\n",
    "data.boxplot()"
   ]
  },
  {
   "cell_type": "markdown",
   "metadata": {},
   "source": [
    "В таблице ниже приведены данные о двух группах пользователей определенного сервиса–помощника в администрировании. Данные соответствуют общему количество времени, которое пользователи провели онлайн, используя соответствующее приложение (в часах за месяц)."
   ]
  },
  {
   "cell_type": "code",
   "execution_count": 32,
   "metadata": {},
   "outputs": [],
   "source": [
    "df = pd.DataFrame({\n",
    "    'group_a': [72, 66, 63.75, 60.75, 60.75, 58.5, 58.5, 57, 57, 57, 52.5, 49.5, 45.3, 45, 39, 28.95, 40.5, 31.5, 49],\n",
    "    'group_b': [71, 72, 60, 50, 57, 77, 81, 58, 62, 61, 73, 74, 76, 65, 66, 67, 67, 67, 69]\n",
    "})"
   ]
  },
  {
   "cell_type": "code",
   "execution_count": 33,
   "metadata": {},
   "outputs": [
    {
     "data": {
      "text/plain": [
       "<matplotlib.axes._subplots.AxesSubplot at 0x7f37b7598e50>"
      ]
     },
     "execution_count": 33,
     "metadata": {},
     "output_type": "execute_result"
    },
    {
     "data": {
      "image/png": "[encoded data removed]",
      "text/plain": [
       "<Figure size 432x288 with 1 Axes>"
      ]
     },
     "metadata": {
      "needs_background": "light"
     },
     "output_type": "display_data"
    }
   ],
   "source": [
    "df.boxplot(column = ['group_a', 'group_b'])"
   ]
  },
  {
   "cell_type": "code",
   "execution_count": 14,
   "metadata": {},
   "outputs": [
    {
     "name": "stdout",
     "output_type": "stream",
     "text": [
      "3.91\n"
     ]
    }
   ],
   "source": [
    "x = [1, 2, 3, 4, 5, 6, 7, 8]\n",
    "p = [0.05, 0.1, 0.3, 0.25, 0.15, 0.07, 0.05, 0.03]\n",
    "\n",
    "e_x = 0\n",
    "\n",
    "for i in range(len(x)):\n",
    "    e_x += x[i] * p[i]\n",
    "\n",
    "print(e_x)\n"
   ]
  },
  {
   "cell_type": "code",
   "execution_count": 22,
   "metadata": {},
   "outputs": [],
   "source": [
    "import pandas as pd\n",
    "\n",
    "df = pd.DataFrame({\n",
    "    'mens': [80.2, 80.8, 57.5, 98, 50.5, 73.8, 77.4, 59.7, 77.9, 52.6],\n",
    "    'womens': [57.9, 57.3, 72.8, 48.2, 59.5, 48.3, 61.2, 53.9, 53.9, 70.7]\n",
    "})"
   ]
  },
  {
   "cell_type": "code",
   "execution_count": null,
   "metadata": {},
   "outputs": [],
   "source": [
    "Найдите дисперсию и стандартное отклонение веса для выборки пациентов клиники. Выпишите результат, округляя до 1 знака после точки-разделителя:\n",
    "\n",
    "Для мужчин: Стандартное отклонение, Дисперсия"
   ]
  },
  {
   "cell_type": "code",
   "execution_count": 24,
   "metadata": {},
   "outputs": [
    {
     "data": {
      "text/plain": [
       "15.2"
      ]
     },
     "execution_count": 24,
     "metadata": {},
     "output_type": "execute_result"
    }
   ],
   "source": [
    "round(df.mens.std(), 1)"
   ]
  },
  {
   "cell_type": "code",
   "execution_count": 25,
   "metadata": {},
   "outputs": [
    {
     "data": {
      "text/plain": [
       "230.5"
      ]
     },
     "execution_count": 25,
     "metadata": {},
     "output_type": "execute_result"
    }
   ],
   "source": [
    "round(df.mens.var(), 1)"
   ]
  },
  {
   "cell_type": "markdown",
   "metadata": {},
   "source": [
    "Для женщин: Стандартное отклонение, Дисперсия"
   ]
  },
  {
   "cell_type": "code",
   "execution_count": 26,
   "metadata": {},
   "outputs": [
    {
     "data": {
      "text/plain": [
       "8.3"
      ]
     },
     "execution_count": 26,
     "metadata": {},
     "output_type": "execute_result"
    }
   ],
   "source": [
    "round(df.womens.std(), 1)"
   ]
  },
  {
   "cell_type": "code",
   "execution_count": 27,
   "metadata": {},
   "outputs": [
    {
     "data": {
      "text/plain": [
       "68.4"
      ]
     },
     "execution_count": 27,
     "metadata": {},
     "output_type": "execute_result"
    }
   ],
   "source": [
    "round(df.womens.var(), 1)"
   ]
  },
  {
   "cell_type": "code",
   "execution_count": null,
   "metadata": {},
   "outputs": [],
   "source": []
  }
 ],
 "metadata": {
  "kernelspec": {
   "display_name": "Python 3",
   "language": "python",
   "name": "python3"
  },
  "language_info": {
   "codemirror_mode": {
    "name": "ipython",
    "version": 3
   },
   "file_extension": ".py",
   "mimetype": "text/x-python",
   "name": "python",
   "nbconvert_exporter": "python",
   "pygments_lexer": "ipython3",
   "version": "3.7.6"
  }
 },
 "nbformat": 4,
 "nbformat_minor": 4
}
