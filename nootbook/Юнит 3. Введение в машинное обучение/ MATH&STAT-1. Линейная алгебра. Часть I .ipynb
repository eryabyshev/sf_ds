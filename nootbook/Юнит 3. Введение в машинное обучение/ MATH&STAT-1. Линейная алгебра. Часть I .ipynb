{
 "cells": [
  {
   "cell_type": "markdown",
   "metadata": {},
   "source": [
    "# Векторы. Основные понятия"
   ]
  },
  {
   "cell_type": "markdown",
   "metadata": {},
   "source": [
    "Определение: Вектор — это набор чисел, записанных в определённом порядке (в столбик или в строчку)."
   ]
  },
  {
   "cell_type": "markdown",
   "metadata": {},
   "source": [
    "На рынке новостроек появилось предложение от застройщика \"Гарантия\" — двухкомнатная квартира общей площадью 59.5 кв.м, жилой площадью 31.4 кв.м на 19-м этаже 22-х этажного дома. В доме 2 подъезда. Цена за квадратный метр квартиры у этого застройщика составляет 60550 рублей.\n",
    "Признаков может быть сколько угодно много. Таким образом, мы можем описать нашу квартиру числовой последовательностью важных для нас признаков при покупке квартиры: "
   ]
  },
  {
   "cell_type": "code",
   "execution_count": 52,
   "metadata": {},
   "outputs": [],
   "source": [
    "import numpy as np\n",
    "apartment = np.array([59.50, 31.40, 19, 2, 60550, 2])"
   ]
  },
  {
   "cell_type": "markdown",
   "metadata": {},
   "source": [
    "В NumPy вектор и массив - одно и то же. \n",
    "Исключение - понятие вектор-столбец и вектор-строка - фактически двумерные массивы, \n",
    "где один из атрибутов shape равен 1."
   ]
  },
  {
   "cell_type": "code",
   "execution_count": 53,
   "metadata": {},
   "outputs": [
    {
     "name": "stdout",
     "output_type": "stream",
     "text": [
      "ndim: 1\n",
      "shape: (6,)\n"
     ]
    }
   ],
   "source": [
    "print(\"ndim:\", apartment.ndim) # число осей (измерений) массива - n.dim: 1\n",
    "print(\"shape:\", apartment.shape) # размеры массива, для вектора определена только длина - shape: (6, )"
   ]
  },
  {
   "cell_type": "code",
   "execution_count": 54,
   "metadata": {},
   "outputs": [
    {
     "data": {
      "text/plain": [
       "0.5277310924369748"
      ]
     },
     "execution_count": 54,
     "metadata": {},
     "output_type": "execute_result"
    }
   ],
   "source": [
    "# вычислим долю жилой площади в квартире\n",
    "share_living_space = apartment[1]/apartment[0]\n",
    "share_living_space"
   ]
  },
  {
   "cell_type": "markdown",
   "metadata": {},
   "source": [
    "Избавимся от старых признаков, посредством функции delete(), которую предоставляет библиотека numpy. Передадим в значение функции индексы признаков, которые необходимо удалить из нашего массива apartment:"
   ]
  },
  {
   "cell_type": "code",
   "execution_count": 55,
   "metadata": {},
   "outputs": [],
   "source": [
    "apartment = np.delete(apartment, [0, 1])\n",
    "apartment = np.append(apartment, share_living_space)"
   ]
  },
  {
   "cell_type": "code",
   "execution_count": 56,
   "metadata": {},
   "outputs": [
    {
     "data": {
      "text/plain": [
       "5"
      ]
     },
     "execution_count": 56,
     "metadata": {},
     "output_type": "execute_result"
    }
   ],
   "source": [
    "len(apartment)"
   ]
  },
  {
   "cell_type": "markdown",
   "metadata": {},
   "source": [
    "Пусть дан вектор в python вида t = np.array([12, 14, 17, 19, 24, 28, 31, 31, 27, 22, 17, 13]), содержащий информацию о средней температуре воздуха (в градусах Цельсия) в Риме с января по декабрь включительно."
   ]
  },
  {
   "cell_type": "code",
   "execution_count": 57,
   "metadata": {},
   "outputs": [
    {
     "data": {
      "text/plain": [
       "24"
      ]
     },
     "execution_count": 57,
     "metadata": {},
     "output_type": "execute_result"
    }
   ],
   "source": [
    "t = np.array([12, 14, 17, 19, 24, 28, 31, 31, 27, 22, 17, 13])\n",
    "t[4]\n",
    "    "
   ]
  },
  {
   "cell_type": "markdown",
   "metadata": {},
   "source": [
    "Найдите сумму и разность вектров "
   ]
  },
  {
   "cell_type": "code",
   "execution_count": 58,
   "metadata": {},
   "outputs": [
    {
     "data": {
      "text/plain": [
       "array([10, 13])"
      ]
     },
     "execution_count": 58,
     "metadata": {},
     "output_type": "execute_result"
    }
   ],
   "source": [
    "x = np.array([5, 2])\n",
    "y = np.array([-5, -11])\n",
    "x - y"
   ]
  },
  {
   "cell_type": "markdown",
   "metadata": {},
   "source": [
    "Доходы Алексея за три месяца составили 120, 150, 90, и тысяч рублей, его жены: 130, 130, и 130 тысяч рублей, а тёщи: 2, 3, и  2.5 тысячи евро."
   ]
  },
  {
   "cell_type": "markdown",
   "metadata": {},
   "source": [
    "Найдите вектор доходов тёщи в тыс. рублей, если курс евро составляет 72 рубля"
   ]
  },
  {
   "cell_type": "code",
   "execution_count": 59,
   "metadata": {},
   "outputs": [
    {
     "data": {
      "text/plain": [
       "array([144., 216., 180.])"
      ]
     },
     "execution_count": 59,
     "metadata": {},
     "output_type": "execute_result"
    }
   ],
   "source": [
    "mother_in_law = np.array([2, 3, 2.5]) * 72\n",
    "mother_in_law"
   ]
  },
  {
   "cell_type": "markdown",
   "metadata": {},
   "source": [
    "Найдите вектор суммарного дохода семьи в тыс. рублей по месяцам"
   ]
  },
  {
   "cell_type": "code",
   "execution_count": 60,
   "metadata": {},
   "outputs": [
    {
     "data": {
      "text/plain": [
       "array([394., 496., 400.])"
      ]
     },
     "execution_count": 60,
     "metadata": {},
     "output_type": "execute_result"
    }
   ],
   "source": [
    "alex = np.array([120, 150, 90])\n",
    "wife = np.array([130, 130, 130])\n",
    "\n",
    "mother_in_law + alex + wife"
   ]
  },
  {
   "cell_type": "markdown",
   "metadata": {},
   "source": [
    "Найдите линейную комбинацию векторов "
   ]
  },
  {
   "cell_type": "code",
   "execution_count": 61,
   "metadata": {},
   "outputs": [
    {
     "data": {
      "text/plain": [
       "array([7, 7])"
      ]
     },
     "execution_count": 61,
     "metadata": {},
     "output_type": "execute_result"
    }
   ],
   "source": [
    "x = np.array([4, 5])\n",
    "y = np.array([2, 1])\n",
    "u = np.array([1, 0])\n",
    "\n",
    "xc = 2\n",
    "yc = -3\n",
    "uc = 5\n",
    "\n",
    "x * xc + y * yc + uc * u\n"
   ]
  },
  {
   "cell_type": "markdown",
   "metadata": {},
   "source": [
    "Юный предприниматель Вовочка мастерит ракеты на водном топливе и продает их. За 4 недели он смастерил 3, 4, 5 и 9 ракет, а продал 1, 5, 3 и 6 ракет соответственно.\n",
    "\n",
    "На изготовление одной ракеты он тратит 200 рублей, а продаёт их по 400 рублей за штуку.\n",
    "\n",
    "Найдите вектор прибыли Вовочки за эти 4 недели."
   ]
  },
  {
   "cell_type": "code",
   "execution_count": 62,
   "metadata": {},
   "outputs": [
    {
     "data": {
      "text/plain": [
       "array([-200, 1200,  200,  600])"
      ]
     },
     "execution_count": 62,
     "metadata": {},
     "output_type": "execute_result"
    }
   ],
   "source": [
    "made = np.array([3,4,5,9])\n",
    "sale = np.array([1,5,3,6])\n",
    "\n",
    "value = 200\n",
    "cost = 400\n",
    "\n",
    "sale * cost - made * value\n"
   ]
  },
  {
   "cell_type": "markdown",
   "metadata": {},
   "source": [
    "# Скалярное произведение векторов"
   ]
  },
  {
   "cell_type": "markdown",
   "metadata": {},
   "source": [
    "Найдите скалярное произведение векторов"
   ]
  },
  {
   "cell_type": "code",
   "execution_count": 63,
   "metadata": {},
   "outputs": [
    {
     "data": {
      "text/plain": [
       "7"
      ]
     },
     "execution_count": 63,
     "metadata": {},
     "output_type": "execute_result"
    }
   ],
   "source": [
    "x = np.array([4,5,-1])\n",
    "y = np.array([2,0,1])\n",
    "\n",
    "np.dot(x, y)"
   ]
  },
  {
   "cell_type": "markdown",
   "metadata": {},
   "source": [
    "Вычислите длину вектора"
   ]
  },
  {
   "cell_type": "code",
   "execution_count": 64,
   "metadata": {},
   "outputs": [
    {
     "data": {
      "text/plain": [
       "7.280109889280518"
      ]
     },
     "execution_count": 64,
     "metadata": {},
     "output_type": "execute_result"
    }
   ],
   "source": [
    "x = np.array([4, 6, 1])\n",
    "\n",
    "def getLen(array):\n",
    "    sum = 0\n",
    "    for i in array:\n",
    "        sum += i**2\n",
    "    return sum ** 0.5\n",
    "\n",
    "getLen(x)"
   ]
  },
  {
   "cell_type": "markdown",
   "metadata": {},
   "source": [
    "В Hut_Paradise_DF представлен фрагмент базы данных агенства «Рай в Шалаше». По строкам расположены квартиры, по столбцам — параметры: арендная плата, общая площадь, количество комнат, этаж, количество показов на две недели и жилая площадь:"
   ]
  },
  {
   "cell_type": "code",
   "execution_count": 65,
   "metadata": {},
   "outputs": [],
   "source": [
    "import pandas as pd\n",
    "Hut_Paradise_DF = pd.DataFrame({'1.Rent': [65, 70, 120, 35, 40, 50, 100, 90, 85], \n",
    "                                '2.Area': [50, 52, 80, 33, 33, 44, 80, 65, 65], \n",
    "                                '3.Rooms':[3, 2, 1, 1, 1, 2, 4, 3, 2],\n",
    "                                '4.Floor':[5, 12, 10, 3, 6, 13, 8, 21, 5], \n",
    "                                '5.Demo two weeks':[8, 4, 5, 10, 20, 12, 5, 1, 10], \n",
    "                                '6.Liv.Area': [37, 40, 65, 20, 16, 35, 60, 50, 40]})"
   ]
  },
  {
   "cell_type": "markdown",
   "metadata": {},
   "source": [
    "Найдите вектор параметров квартиры номер 5"
   ]
  },
  {
   "cell_type": "code",
   "execution_count": 66,
   "metadata": {},
   "outputs": [
    {
     "data": {
      "text/plain": [
       "array([40, 33,  1,  6, 20, 16])"
      ]
     },
     "execution_count": 66,
     "metadata": {},
     "output_type": "execute_result"
    }
   ],
   "source": [
    "Hut_Paradise_DF.values[:][4]"
   ]
  },
  {
   "cell_type": "markdown",
   "metadata": {},
   "source": [
    "Найдите вектор этажей всех квартир:"
   ]
  },
  {
   "cell_type": "code",
   "execution_count": 67,
   "metadata": {},
   "outputs": [
    {
     "data": {
      "text/plain": [
       "array([ 5, 12, 10,  3,  6, 13,  8, 21,  5])"
      ]
     },
     "execution_count": 67,
     "metadata": {},
     "output_type": "execute_result"
    }
   ],
   "source": [
    "Hut_Paradise_DF['4.Floor'].values"
   ]
  },
  {
   "cell_type": "code",
   "execution_count": 68,
   "metadata": {},
   "outputs": [
    {
     "data": {
      "text/plain": [
       "10"
      ]
     },
     "execution_count": 68,
     "metadata": {},
     "output_type": "execute_result"
    }
   ],
   "source": [
    "Hut_Paradise_DF.values[2][3]"
   ]
  },
  {
   "cell_type": "markdown",
   "metadata": {},
   "source": [
    "Найдите количество квартир"
   ]
  },
  {
   "cell_type": "code",
   "execution_count": 69,
   "metadata": {},
   "outputs": [
    {
     "data": {
      "text/plain": [
       "9"
      ]
     },
     "execution_count": 69,
     "metadata": {},
     "output_type": "execute_result"
    }
   ],
   "source": [
    "len(Hut_Paradise_DF.values)"
   ]
  },
  {
   "cell_type": "markdown",
   "metadata": {},
   "source": [
    "Вычислите вектор нежилой площади"
   ]
  },
  {
   "cell_type": "code",
   "execution_count": 70,
   "metadata": {},
   "outputs": [
    {
     "data": {
      "text/plain": [
       "array([13, 12, 15, 13, 17,  9, 20, 15, 25])"
      ]
     },
     "execution_count": 70,
     "metadata": {},
     "output_type": "execute_result"
    }
   ],
   "source": [
    "(Hut_Paradise_DF['2.Area'] - Hut_Paradise_DF['6.Liv.Area']).values"
   ]
  },
  {
   "cell_type": "code",
   "execution_count": 71,
   "metadata": {},
   "outputs": [
    {
     "data": {
      "text/plain": [
       "array([26., 28., 48., 14., 16., 20., 40., 36., 34.])"
      ]
     },
     "execution_count": 71,
     "metadata": {},
     "output_type": "execute_result"
    }
   ],
   "source": [
    "ua_g = 4 / 10\n",
    "\n",
    "(Hut_Paradise_DF['1.Rent'] * ua_g).values\n",
    "\n"
   ]
  },
  {
   "cell_type": "markdown",
   "metadata": {},
   "source": [
    "Пусть в первой квартире один просмотр занимает 10 минут, во второй — 20 минут, в третьей — полчаса, в четверой — 15 минут, в пятой — 5 минут, в шестой — 40 минут, в седьмой — 20 минут, в восьмой — 8 минут и в девятой — 20 минут. Найдите продолжительность просмотров в минутах во всех квартирах за 2 недели:"
   ]
  },
  {
   "cell_type": "code",
   "execution_count": 72,
   "metadata": {},
   "outputs": [
    {
     "data": {
      "text/plain": [
       "1348"
      ]
     },
     "execution_count": 72,
     "metadata": {},
     "output_type": "execute_result"
    }
   ],
   "source": [
    "time = np.array([10, 20, 30, 15, 5, 40, 20, 8, 20])\n",
    "(Hut_Paradise_DF['5.Demo two weeks'].values * time).sum()"
   ]
  },
  {
   "cell_type": "code",
   "execution_count": 73,
   "metadata": {},
   "outputs": [],
   "source": [
    "u=np.array([3,0,1,1,1])\n",
    "v=np.array([0,1,0,2,-2])\n",
    "w=np.array([1,-4,-1,0,-2])"
   ]
  },
  {
   "cell_type": "markdown",
   "metadata": {},
   "source": [
    "Составьте линейную комбинацию векторов v и w с коэффициентами 2 и -3"
   ]
  },
  {
   "cell_type": "code",
   "execution_count": 74,
   "metadata": {},
   "outputs": [
    {
     "data": {
      "text/plain": [
       "array([-3, 14,  3,  4,  2])"
      ]
     },
     "execution_count": 74,
     "metadata": {},
     "output_type": "execute_result"
    }
   ],
   "source": [
    "result = v * 2 + -3 * w\n",
    "result"
   ]
  },
  {
   "cell_type": "code",
   "execution_count": 75,
   "metadata": {},
   "outputs": [
    {
     "data": {
      "text/plain": [
       "0"
      ]
     },
     "execution_count": 75,
     "metadata": {},
     "output_type": "execute_result"
    }
   ],
   "source": [
    "np.dot(result, u)"
   ]
  },
  {
   "cell_type": "markdown",
   "metadata": {},
   "source": [
    "Нормируйте векторы"
   ]
  },
  {
   "cell_type": "code",
   "execution_count": 76,
   "metadata": {},
   "outputs": [
    {
     "name": "stdout",
     "output_type": "stream",
     "text": [
      "0.289\n",
      "0.667\n",
      "0.213\n"
     ]
    }
   ],
   "source": [
    "def vectorLenght(vector):\n",
    "    result = 0\n",
    "    for i in vector:\n",
    "        result += i**2\n",
    "    return result ** 0.5\n",
    "\n",
    "def invLenght(lenght):\n",
    "    return 1 / lenght\n",
    "\n",
    "\n",
    "u_normal = u * invLenght(vectorLenght(u))\n",
    "v_normal = v * invLenght(vectorLenght(v))\n",
    "w_normal = w * invLenght(vectorLenght(w))\n",
    "\n",
    "print(round(u_normal[2], 3))\n",
    "print(round(v_normal[3], 3))\n",
    "print(round(w_normal[0], 3))"
   ]
  },
  {
   "cell_type": "markdown",
   "metadata": {},
   "source": [
    "# Матрицы\n",
    "\n",
    "Данные по доходам и расходам каждого члена семьи Ивановых записаны в одномерные массивы NumPy"
   ]
  },
  {
   "cell_type": "code",
   "execution_count": 77,
   "metadata": {},
   "outputs": [],
   "source": [
    "import numpy as np\n",
    "\n",
    "Husband_Income = np.array([100,220,140])\n",
    "Wife_Income = np.array([150,200,130])\n",
    "Mother_In_Law_Income = np.array([90,80,100])\n",
    "\n",
    "Husband_Сonsumption = np.array([50,50,60])\n",
    "Wife_Сonsumption = np.array([100,80,140])\n",
    "Mother_In_Law_Сonsumption = np.array([100,20,140])"
   ]
  },
  {
   "cell_type": "markdown",
   "metadata": {},
   "source": [
    "Составьте матрицу Inc доходов семьи, расположив доходы мужа, жены и тещи в первый, второй и третий столбцы."
   ]
  },
  {
   "cell_type": "code",
   "execution_count": 78,
   "metadata": {},
   "outputs": [
    {
     "data": {
      "text/plain": [
       "array([100, 200, 100])"
      ]
     },
     "execution_count": 78,
     "metadata": {},
     "output_type": "execute_result"
    }
   ],
   "source": [
    "Inc = np.array([Husband_Income, Wife_Income, Mother_In_Law_Income])\n",
    "Inc.diagonal()"
   ]
  },
  {
   "cell_type": "markdown",
   "metadata": {},
   "source": [
    "Составьте матрицу Cons расходов семьи, расположив расходы мужа, жены и тещи в первый, второй и третий столбцы."
   ]
  },
  {
   "cell_type": "code",
   "execution_count": 79,
   "metadata": {},
   "outputs": [
    {
     "data": {
      "text/plain": [
       "array([ 60,  80, 100])"
      ]
     },
     "execution_count": 79,
     "metadata": {},
     "output_type": "execute_result"
    }
   ],
   "source": [
    "Cons = np.array([Husband_Сonsumption, Wife_Сonsumption, Mother_In_Law_Сonsumption])\n",
    "np.diag(Cons[:, ::-1])"
   ]
  },
  {
   "cell_type": "markdown",
   "metadata": {},
   "source": [
    "Доходы представлены до уплаты налогов. Налоговая ставка - 13%. Вычислите матрицу доходов семьи Ивановых после уплаты налогов."
   ]
  },
  {
   "cell_type": "code",
   "execution_count": 80,
   "metadata": {},
   "outputs": [
    {
     "data": {
      "text/plain": [
       "array([ 87. , 130.5,  78.3])"
      ]
     },
     "execution_count": 80,
     "metadata": {},
     "output_type": "execute_result"
    }
   ],
   "source": [
    "fee = Inc * 0.13\n",
    "real_inc = (Inc - fee)\n",
    "real_inc.T[0]"
   ]
  },
  {
   "cell_type": "markdown",
   "metadata": {},
   "source": [
    "Вычислите матрицу P, которая покажет баланс семьи Ивановых за один месяц (то есть разницу между доходами и расходами)"
   ]
  },
  {
   "cell_type": "code",
   "execution_count": 81,
   "metadata": {},
   "outputs": [
    {
     "data": {
      "text/plain": [
       "array([[ 37. ,  30.5, -21.7],\n",
       "       [141.4,  94. ,  49.6],\n",
       "       [ 61.8, -26.9, -53. ]])"
      ]
     },
     "execution_count": 81,
     "metadata": {},
     "output_type": "execute_result"
    }
   ],
   "source": [
    "(real_inc - Cons).T"
   ]
  },
  {
   "cell_type": "markdown",
   "metadata": {},
   "source": [
    "Даны матрица A и вектор x"
   ]
  },
  {
   "cell_type": "code",
   "execution_count": 82,
   "metadata": {},
   "outputs": [],
   "source": [
    "A = np.array([[5,-1,3,1,2], [-2,8,5,-1,1]])\n",
    "x = np.array([1,2,3,4,5])"
   ]
  },
  {
   "cell_type": "markdown",
   "metadata": {},
   "source": [
    "Найдите произведение матрицы и вектора в том порядке, в котором их можно умножить."
   ]
  },
  {
   "cell_type": "code",
   "execution_count": 83,
   "metadata": {},
   "outputs": [
    {
     "data": {
      "text/plain": [
       "array([26, 30])"
      ]
     },
     "execution_count": 83,
     "metadata": {},
     "output_type": "execute_result"
    }
   ],
   "source": [
    "A@x"
   ]
  },
  {
   "cell_type": "code",
   "execution_count": 84,
   "metadata": {},
   "outputs": [
    {
     "data": {
      "text/plain": [
       "14"
      ]
     },
     "execution_count": 84,
     "metadata": {},
     "output_type": "execute_result"
    }
   ],
   "source": [
    "A = np.array([[1,9,8,5], [3,6,3,2], [3,3,3,3], [0,2,5,9], [4,4,1,2]])\n",
    "B = np.array([[1,-1,0,1,1], [-2,0,2,-1,1]])\n",
    "\n",
    "(B@A)[0][3]"
   ]
  },
  {
   "cell_type": "code",
   "execution_count": 85,
   "metadata": {},
   "outputs": [
    {
     "data": {
      "text/plain": [
       "array([[22,  3,  0],\n",
       "       [ 3,  7,  0],\n",
       "       [ 0,  0,  3]])"
      ]
     },
     "execution_count": 85,
     "metadata": {},
     "output_type": "execute_result"
    }
   ],
   "source": [
    "x = np.array([1,2,1,0,4])\n",
    "y = np.array([2,1,-1,1,0])\n",
    "z = np.array([-1,1,-1,0,0])\n",
    "\n",
    "a = np.array([x, y, z])\n",
    "aT = np.array([x, y, z]).T\n",
    "\n",
    "a@aT"
   ]
  },
  {
   "cell_type": "markdown",
   "metadata": {},
   "source": [
    "В салоне красоты «Феи ножниц» работает 8 стилистов: Аня, Борис, Вика, Галя, Дима, Егор, Женя и Юра.\n",
    "\n",
    "В dataframe Count_DF содержится информация по количеству услуг, оказанных каждым стилистом за апрель.\n",
    "\n",
    "В dataframe Price_DF содержится информация по стоимости услуг у каждого стилиста в тысячах рублей."
   ]
  },
  {
   "cell_type": "code",
   "execution_count": 86,
   "metadata": {},
   "outputs": [],
   "source": [
    "Count_DF = pd.DataFrame({'Женские стрижки': [10, 2, 12, 4, 6, 10, 22, 7], \n",
    "                                'Мужские стрижки': [5, 21, 12, 8, 25, 3, 1, 0], \n",
    "                                'Окрашивания':[12, 3, 0, 18, 27, 2, 4, 31],\n",
    "                              'Укладка':[15, 25, 30, 14, 25, 17, 25, 31],\n",
    "                                'Уход':[10, 6, 4, 5, 18, 12, 20, 28]\n",
    "                                }, \n",
    "                               index=['Аня', 'Борис', 'Вика', 'Галя', 'Дима', 'Егор', 'Женя','Юра'])\n",
    "Price_DF = pd.DataFrame({'Женские стрижки': [2, 1.8, 2, 1.8, 2.5, 5, 1.1, 4.5], \n",
    "                                'Мужские стрижки': [1.5, 2.5, 2, 1.2, 3.5, 5, 1, 4], \n",
    "                                'Окрашивания':[1, 1, 0, 2.8, 2, 3, 1.5, 2.5],\n",
    "                              'Укладка':[0.8, 1, 0.5, 0.8, 1, 2, 0.5, 1],\n",
    "                                'Уход':[1, 1, 2, 2, 1.5, 2.5, 1.7, 2] \n",
    "                                }, \n",
    "                               index=['Аня', 'Борис', 'Вика', 'Галя', 'Дима', 'Егор', 'Женя','Юра'])"
   ]
  },
  {
   "cell_type": "markdown",
   "metadata": {},
   "source": [
    "Найдите вектор выручки Бориса."
   ]
  },
  {
   "cell_type": "code",
   "execution_count": 87,
   "metadata": {},
   "outputs": [
    {
     "data": {
      "text/plain": [
       "array([ 3.6, 52.5,  3. , 25. ,  6. ])"
      ]
     },
     "execution_count": 87,
     "metadata": {},
     "output_type": "execute_result"
    }
   ],
   "source": [
    "count = Count_DF.iloc()[1].values\n",
    "\n",
    "price = Price_DF.iloc[1].values\n",
    "\n",
    "count * price "
   ]
  },
  {
   "cell_type": "markdown",
   "metadata": {},
   "source": [
    "Найдите вектор прибыли салона по стилистам, если за каждую услугу стилисты платят определенную комиссию салону.\n",
    "\n",
    "Вектор комиссий com = [0.2, 0.2, 0.3, 0.1, 0.1]"
   ]
  },
  {
   "cell_type": "code",
   "execution_count": 88,
   "metadata": {},
   "outputs": [
    {
     "data": {
      "text/plain": [
       "array([11.3 , 15.22, 11.9 , 20.6 , 41.9 , 21.2 , 11.49, 38.25])"
      ]
     },
     "execution_count": 88,
     "metadata": {},
     "output_type": "execute_result"
    }
   ],
   "source": [
    "com = np.array([0.2, 0.2, 0.3, 0.1, 0.1])\n",
    "((Count_DF * Price_DF)@com).values"
   ]
  },
  {
   "cell_type": "markdown",
   "metadata": {},
   "source": [
    "Найдите вектор прибыли стилистов."
   ]
  },
  {
   "cell_type": "code",
   "execution_count": 89,
   "metadata": {},
   "outputs": [
    {
     "data": {
      "text/plain": [
       "array([ 50.2 ,  74.88,  59.1 ,  67.8 , 166.6 , 113.8 ,  66.21, 157.75])"
      ]
     },
     "execution_count": 89,
     "metadata": {},
     "output_type": "execute_result"
    }
   ],
   "source": [
    "((Count_DF * Price_DF)@(np.ones(5)-com)).values"
   ]
  },
  {
   "cell_type": "markdown",
   "metadata": {},
   "source": [
    "# Обратная матрица"
   ]
  },
  {
   "cell_type": "code",
   "execution_count": 90,
   "metadata": {},
   "outputs": [
    {
     "data": {
      "text/plain": [
       "matrix([[ 5., -2.],\n",
       "        [-2.,  1.]])"
      ]
     },
     "execution_count": 90,
     "metadata": {},
     "output_type": "execute_result"
    }
   ],
   "source": [
    "matrix = np.matrix([[1,2], [2, 5]])\n",
    "\n",
    "np.linalg.inv(matrix)"
   ]
  },
  {
   "cell_type": "markdown",
   "metadata": {},
   "source": [
    "# Определитель матрицы"
   ]
  },
  {
   "cell_type": "code",
   "execution_count": 91,
   "metadata": {},
   "outputs": [
    {
     "data": {
      "text/plain": [
       "29.99999999999999"
      ]
     },
     "execution_count": 91,
     "metadata": {},
     "output_type": "execute_result"
    }
   ],
   "source": [
    "A = np.array([[1,2], [1,1]])\n",
    "B = np.array([[5, -2], [-1, 4]])\n",
    "\n",
    "np.linalg.det(A + B)"
   ]
  },
  {
   "cell_type": "code",
   "execution_count": 92,
   "metadata": {},
   "outputs": [
    {
     "data": {
      "text/plain": [
       "0.12500000000000003"
      ]
     },
     "execution_count": 92,
     "metadata": {},
     "output_type": "execute_result"
    }
   ],
   "source": [
    "A = np.array([[2, 0, 0], [0, 1, 0], [0, 0, 4]])\n",
    "Ainv = np.linalg.inv(A)\n",
    "np.linalg.det(A)\n",
    "np.linalg.det(Ainv)"
   ]
  },
  {
   "cell_type": "markdown",
   "metadata": {},
   "source": [
    "Дана матрица А"
   ]
  },
  {
   "cell_type": "code",
   "execution_count": 93,
   "metadata": {},
   "outputs": [],
   "source": [
    "A = np.array([[8, 6, 11], [7, 5, 9],[6, 10, 6]])"
   ]
  },
  {
   "cell_type": "markdown",
   "metadata": {},
   "source": [
    "Найдите обратную матрицу к матрице А"
   ]
  },
  {
   "cell_type": "code",
   "execution_count": 94,
   "metadata": {},
   "outputs": [
    {
     "data": {
      "text/plain": [
       "0.375"
      ]
     },
     "execution_count": 94,
     "metadata": {},
     "output_type": "execute_result"
    }
   ],
   "source": [
    "Ainv = np.linalg.inv(A)\n",
    "\n",
    "Ainv[1][0]\n"
   ]
  },
  {
   "cell_type": "markdown",
   "metadata": {},
   "source": [
    "Дана система векторов:"
   ]
  },
  {
   "cell_type": "code",
   "execution_count": 95,
   "metadata": {},
   "outputs": [],
   "source": [
    "v1 = np.array([9, 10, 7, 7, 9])\n",
    "v2 = np.array([2, 0, 5, 1, 4])\n",
    "v3 = np.array([4, 0, 0, 4, 1])\n",
    "v4 = np.array([3, -4, 3, -1, -4])"
   ]
  },
  {
   "cell_type": "markdown",
   "metadata": {},
   "source": [
    "Найдите ранг системы векторов v1, v2, v3, v4."
   ]
  },
  {
   "cell_type": "code",
   "execution_count": 96,
   "metadata": {},
   "outputs": [
    {
     "data": {
      "text/plain": [
       "4"
      ]
     },
     "execution_count": 96,
     "metadata": {},
     "output_type": "execute_result"
    }
   ],
   "source": [
    "sys = np.array([v1, v2, v3, v4])\n",
    "np.linalg.matrix_rank(sys)"
   ]
  },
  {
   "cell_type": "code",
   "execution_count": 97,
   "metadata": {},
   "outputs": [
    {
     "ename": "LinAlgError",
     "evalue": "Last 2 dimensions of the array must be square",
     "output_type": "error",
     "traceback": [
      "\u001b[0;31m\u001b[0m",
      "\u001b[0;31mLinAlgError\u001b[0mTraceback (most recent call last)",
      "\u001b[0;32m<ipython-input-97-80e1e9438fa1>\u001b[0m in \u001b[0;36m<module>\u001b[0;34m\u001b[0m\n\u001b[0;32m----> 1\u001b[0;31m \u001b[0mnp\u001b[0m\u001b[0;34m.\u001b[0m\u001b[0mlinalg\u001b[0m\u001b[0;34m.\u001b[0m\u001b[0mdet\u001b[0m\u001b[0;34m(\u001b[0m\u001b[0msys\u001b[0m\u001b[0;34m)\u001b[0m\u001b[0;34m\u001b[0m\u001b[0;34m\u001b[0m\u001b[0m\n\u001b[0m",
      "\u001b[0;32m<__array_function__ internals>\u001b[0m in \u001b[0;36mdet\u001b[0;34m(*args, **kwargs)\u001b[0m\n",
      "\u001b[0;32m/opt/conda/lib/python3.7/site-packages/numpy/linalg/linalg.py\u001b[0m in \u001b[0;36mdet\u001b[0;34m(a)\u001b[0m\n\u001b[1;32m   2111\u001b[0m     \u001b[0ma\u001b[0m \u001b[0;34m=\u001b[0m \u001b[0masarray\u001b[0m\u001b[0;34m(\u001b[0m\u001b[0ma\u001b[0m\u001b[0;34m)\u001b[0m\u001b[0;34m\u001b[0m\u001b[0;34m\u001b[0m\u001b[0m\n\u001b[1;32m   2112\u001b[0m     \u001b[0m_assert_stacked_2d\u001b[0m\u001b[0;34m(\u001b[0m\u001b[0ma\u001b[0m\u001b[0;34m)\u001b[0m\u001b[0;34m\u001b[0m\u001b[0;34m\u001b[0m\u001b[0m\n\u001b[0;32m-> 2113\u001b[0;31m     \u001b[0m_assert_stacked_square\u001b[0m\u001b[0;34m(\u001b[0m\u001b[0ma\u001b[0m\u001b[0;34m)\u001b[0m\u001b[0;34m\u001b[0m\u001b[0;34m\u001b[0m\u001b[0m\n\u001b[0m\u001b[1;32m   2114\u001b[0m     \u001b[0mt\u001b[0m\u001b[0;34m,\u001b[0m \u001b[0mresult_t\u001b[0m \u001b[0;34m=\u001b[0m \u001b[0m_commonType\u001b[0m\u001b[0;34m(\u001b[0m\u001b[0ma\u001b[0m\u001b[0;34m)\u001b[0m\u001b[0;34m\u001b[0m\u001b[0;34m\u001b[0m\u001b[0m\n\u001b[1;32m   2115\u001b[0m     \u001b[0msignature\u001b[0m \u001b[0;34m=\u001b[0m \u001b[0;34m'D->D'\u001b[0m \u001b[0;32mif\u001b[0m \u001b[0misComplexType\u001b[0m\u001b[0;34m(\u001b[0m\u001b[0mt\u001b[0m\u001b[0;34m)\u001b[0m \u001b[0;32melse\u001b[0m \u001b[0;34m'd->d'\u001b[0m\u001b[0;34m\u001b[0m\u001b[0;34m\u001b[0m\u001b[0m\n",
      "\u001b[0;32m/opt/conda/lib/python3.7/site-packages/numpy/linalg/linalg.py\u001b[0m in \u001b[0;36m_assert_stacked_square\u001b[0;34m(*arrays)\u001b[0m\n\u001b[1;32m    211\u001b[0m         \u001b[0mm\u001b[0m\u001b[0;34m,\u001b[0m \u001b[0mn\u001b[0m \u001b[0;34m=\u001b[0m \u001b[0ma\u001b[0m\u001b[0;34m.\u001b[0m\u001b[0mshape\u001b[0m\u001b[0;34m[\u001b[0m\u001b[0;34m-\u001b[0m\u001b[0;36m2\u001b[0m\u001b[0;34m:\u001b[0m\u001b[0;34m]\u001b[0m\u001b[0;34m\u001b[0m\u001b[0;34m\u001b[0m\u001b[0m\n\u001b[1;32m    212\u001b[0m         \u001b[0;32mif\u001b[0m \u001b[0mm\u001b[0m \u001b[0;34m!=\u001b[0m \u001b[0mn\u001b[0m\u001b[0;34m:\u001b[0m\u001b[0;34m\u001b[0m\u001b[0;34m\u001b[0m\u001b[0m\n\u001b[0;32m--> 213\u001b[0;31m             \u001b[0;32mraise\u001b[0m \u001b[0mLinAlgError\u001b[0m\u001b[0;34m(\u001b[0m\u001b[0;34m'Last 2 dimensions of the array must be square'\u001b[0m\u001b[0;34m)\u001b[0m\u001b[0;34m\u001b[0m\u001b[0;34m\u001b[0m\u001b[0m\n\u001b[0m\u001b[1;32m    214\u001b[0m \u001b[0;34m\u001b[0m\u001b[0m\n\u001b[1;32m    215\u001b[0m \u001b[0;32mdef\u001b[0m \u001b[0m_assert_finite\u001b[0m\u001b[0;34m(\u001b[0m\u001b[0;34m*\u001b[0m\u001b[0marrays\u001b[0m\u001b[0;34m)\u001b[0m\u001b[0;34m:\u001b[0m\u001b[0;34m\u001b[0m\u001b[0;34m\u001b[0m\u001b[0m\n",
      "\u001b[0;31mLinAlgError\u001b[0m: Last 2 dimensions of the array must be square"
     ]
    }
   ],
   "source": [
    "np.linalg.det(sys)"
   ]
  },
  {
   "cell_type": "code",
   "execution_count": null,
   "metadata": {},
   "outputs": [],
   "source": [
    "(sys@sys.T)[0][3]"
   ]
  },
  {
   "cell_type": "code",
   "execution_count": null,
   "metadata": {},
   "outputs": [],
   "source": [
    "round(np.linalg.det((sys@sys.T)))"
   ]
  },
  {
   "cell_type": "code",
   "execution_count": null,
   "metadata": {},
   "outputs": [],
   "source": [
    "np.linalg.matrix_rank(np.linalg.det((sys@sys.T)))"
   ]
  },
  {
   "cell_type": "code",
   "execution_count": null,
   "metadata": {},
   "outputs": [],
   "source": [
    "round(np.linalg.inv(sys@sys.T)[2][0], 3)"
   ]
  },
  {
   "cell_type": "code",
   "execution_count": null,
   "metadata": {},
   "outputs": [],
   "source": [
    "A = np.array([[4,7],[5,10]])\n",
    "\n",
    "B = np.array([[4,7,20],[5,10,30]])\n",
    "\n",
    "np.linalg.matrix_rank(B)"
   ]
  },
  {
   "cell_type": "code",
   "execution_count": null,
   "metadata": {},
   "outputs": [],
   "source": []
  },
  {
   "cell_type": "code",
   "execution_count": null,
   "metadata": {},
   "outputs": [],
   "source": []
  }
 ],
 "metadata": {
  "kernelspec": {
   "display_name": "Python 3",
   "language": "python",
   "name": "python3"
  },
  "language_info": {
   "codemirror_mode": {
    "name": "ipython",
    "version": 3
   },
   "file_extension": ".py",
   "mimetype": "text/x-python",
   "name": "python",
   "nbconvert_exporter": "python",
   "pygments_lexer": "ipython3",
   "version": "3.7.6"
  }
 },
 "nbformat": 4,
 "nbformat_minor": 4
}
