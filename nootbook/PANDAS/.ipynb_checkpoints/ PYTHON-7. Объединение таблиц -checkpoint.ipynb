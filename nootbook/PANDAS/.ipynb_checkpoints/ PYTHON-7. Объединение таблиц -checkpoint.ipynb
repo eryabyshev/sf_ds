{
 "cells": [
  {
   "cell_type": "markdown",
   "metadata": {},
   "source": [
    "# Объединение таблиц "
   ]
  },
  {
   "cell_type": "code",
   "execution_count": 1,
   "metadata": {},
   "outputs": [
    {
     "ename": "SyntaxError",
     "evalue": "invalid syntax (<ipython-input-1-109ac106eb68>, line 1)",
     "output_type": "error",
     "traceback": [
      "\u001b[0;36m  File \u001b[0;32m\"<ipython-input-1-109ac106eb68>\"\u001b[0;36m, line \u001b[0;32m1\u001b[0m\n\u001b[0;31m    Скачайте файлы ratings.csv и movies.csv из предыдущего шага. Давайте повторим основные методы получения информации о датасете, которые мы изучали в модуле 1 \"Общее знакомство с библиотекой Pandas\".\u001b[0m\n\u001b[0m                 ^\u001b[0m\n\u001b[0;31mSyntaxError\u001b[0m\u001b[0;31m:\u001b[0m invalid syntax\n"
     ]
    }
   ],
   "source": [
    "Скачайте файлы ratings.csv и movies.csv из предыдущего шага. Давайте повторим основные методы получения информации о датасете, которые мы изучали в модуле 1 \"Общее знакомство с библиотекой Pandas\".\n",
    "\n",
    "Сколько строк в файле рейтингов, не считая строки заголовка (подсказка: количество непустых значений соответствует количеству строк)? "
   ]
  },
  {
   "cell_type": "code",
   "execution_count": null,
   "metadata": {},
   "outputs": [],
   "source": []
  }
 ],
 "metadata": {
  "kernelspec": {
   "display_name": "Python 3",
   "language": "python",
   "name": "python3"
  },
  "language_info": {
   "codemirror_mode": {
    "name": "ipython",
    "version": 3
   },
   "file_extension": ".py",
   "mimetype": "text/x-python",
   "name": "python",
   "nbconvert_exporter": "python",
   "pygments_lexer": "ipython3",
   "version": "3.7.6"
  }
 },
 "nbformat": 4,
 "nbformat_minor": 4
}
