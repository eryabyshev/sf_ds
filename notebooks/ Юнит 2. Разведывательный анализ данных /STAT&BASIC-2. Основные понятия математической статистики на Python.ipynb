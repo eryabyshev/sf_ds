{
 "cells": [
  {
   "cell_type": "markdown",
   "metadata": {},
   "source": [
    "## Математическое ожидание"
   ]
  },
  {
   "cell_type": "markdown",
   "metadata": {},
   "source": [
    "<img src = \"2.4.png\">"
   ]
  },
  {
   "cell_type": "markdown",
   "metadata": {},
   "source": [
    "## Дисперсия\n",
    "\n",
    "<img src=\"2.5.png\"/>"
   ]
  },
  {
   "cell_type": "markdown",
   "metadata": {},
   "source": [
    "<img src=\"2.1.5.png\"/>"
   ]
  },
  {
   "cell_type": "code",
   "execution_count": 2,
   "metadata": {},
   "outputs": [
    {
     "name": "stdout",
     "output_type": "stream",
     "text": [
      "E(X) =  3.7\n",
      "Var(X) =  0.61\n",
      "σ = 0.78\n"
     ]
    }
   ],
   "source": [
    "X = {\n",
    "    2: 0.1,\n",
    "    3: 0.2,\n",
    "    4: 0.6,\n",
    "    5: 0.1\n",
    "}\n",
    "\n",
    "e_x = 0\n",
    "\n",
    "for x in X:\n",
    "    e_x += x * X[x]\n",
    "\n",
    "print(\"E(X) = \", e_x)\n",
    "\n",
    "var = 0\n",
    "\n",
    "for x in X:\n",
    "    var += (x - e_x)**2 * X[x]\n",
    "\n",
    "print(\"Var(X) = \", var)\n",
    "print(\"σ =\", round(var**0.5, 2))"
   ]
  },
  {
   "cell_type": "markdown",
   "metadata": {},
   "source": [
    "<img src=\"2.5.2.png\"/>\n",
    "         "
   ]
  },
  {
   "cell_type": "markdown",
   "metadata": {},
   "source": [
    "Найдите среднее (математическое ожидание)"
   ]
  },
  {
   "cell_type": "code",
   "execution_count": 3,
   "metadata": {},
   "outputs": [
    {
     "name": "stdout",
     "output_type": "stream",
     "text": [
      "E(X) =  40.6\n"
     ]
    }
   ],
   "source": [
    "import numpy as np\n",
    "\n",
    "Px = {\n",
    "    38: 0.1,\n",
    "    39: 0.1,\n",
    "    40: 0.3,\n",
    "    41: 0.2,\n",
    "    42: 0.2,\n",
    "    43: 0.1\n",
    "}\n",
    "\n",
    "Ex = 0\n",
    "for x in Px:\n",
    "    Ex += x * Px[x]\n",
    "print(\"E(X) = \", Ex)\n",
    "\n",
    "\n",
    "\n",
    "\n",
    "\n"
   ]
  },
  {
   "cell_type": "markdown",
   "metadata": {},
   "source": [
    "Стандартное отклонение (ответ введите с округлением до 2 знаков после разделительной точки) "
   ]
  },
  {
   "cell_type": "code",
   "execution_count": 4,
   "metadata": {},
   "outputs": [
    {
     "name": "stdout",
     "output_type": "stream",
     "text": [
      "Var(x) =  2.04\n",
      "σ = 1.43\n"
     ]
    }
   ],
   "source": [
    "VarX = 0\n",
    "for x in Px:\n",
    "    VarX += (x - Ex)**2 * Px[x]\n",
    "    \n",
    "mu = VarX**0.5\n",
    "\n",
    "print(\"Var(x) = \", round(VarX, 2))\n",
    "print(\"σ =\", round(mu, 2))\n",
    "    \n",
    "\n",
    "\n"
   ]
  },
  {
   "cell_type": "markdown",
   "metadata": {},
   "source": [
    "Вес одного гвоздя 10 граммов, вес пустой упаковки 20 граммов. На основании ответов, полученных в первой части, найдите средний вес упаковки с гвоздями и его стандартное отклонение."
   ]
  },
  {
   "cell_type": "code",
   "execution_count": 5,
   "metadata": {},
   "outputs": [
    {
     "name": "stdout",
     "output_type": "stream",
     "text": [
      "E(x) упаковки =  426.0\n",
      "σ упаковки = 14.3\n"
     ]
    }
   ],
   "source": [
    "pack = 20\n",
    "nail = 10\n",
    "\n",
    "Ex_pack = Ex * nail + pack\n",
    "mu_pack = mu * nail\n",
    "\n",
    "print(\"E(x) упаковки = \", round(Ex_pack, 2))\n",
    "print(\"σ упаковки =\", round(mu_pack, 1))"
   ]
  },
  {
   "cell_type": "markdown",
   "metadata": {},
   "source": [
    "<img src=\"2.5.3.png\"/>"
   ]
  },
  {
   "cell_type": "code",
   "execution_count": 6,
   "metadata": {},
   "outputs": [
    {
     "name": "stdout",
     "output_type": "stream",
     "text": [
      "E(X) =  2.8\n",
      "E(Y) =  0.0\n",
      "Var(X) =  1.16\n",
      "Var(Y) =  1.4\n",
      "E(U) =  9.4\n",
      "E(S) =  5.0\n",
      "Var(U) 10.44\n",
      "Var(S) 1.4\n",
      "E(U - S) =  4.4\n",
      "Var(U - S) =  11.84\n"
     ]
    }
   ],
   "source": [
    "def getMathEx(Px):\n",
    "    Ex = 0\n",
    "    for x in Px:\n",
    "        Ex += x * Px[x]\n",
    "    return Ex\n",
    "\n",
    "def getDispersion(Px, Ex):\n",
    "    VarX = 0\n",
    "    for x in Px:\n",
    "        VarX += (x - Ex)**2 * Px[x]\n",
    "    return VarX\n",
    "\n",
    "Px = {1:0.2, 2:0.1, 3:0.4, 4:0.3}\n",
    "Py = {-1:0.5, 0:0.2, 1: 0.1, 2:0.2}\n",
    "\n",
    "Ex = getMathEx(Px)\n",
    "Ey = getMathEx(Py)\n",
    "\n",
    "VarX = getDispersion(Px, Ex)\n",
    "VarY = getDispersion(Py, Ey)\n",
    "\n",
    "print(\"E(X) = \", round(Ex, 2))\n",
    "print(\"E(Y) = \", round(Ey, 2))\n",
    "print(\"Var(X) = \", round(VarX, 2))\n",
    "print(\"Var(Y) = \", round(VarY, 2))\n",
    "\n",
    "\n",
    "\n",
    "Eu = 3 * Ex + 1\n",
    "Es = 5 - Ey\n",
    "\n",
    "VarU = 9 * VarX\n",
    "VarS = VarY\n",
    "\n",
    "\n",
    "\n",
    "print(\"E(U) = \", round(Eu, 2))\n",
    "print(\"E(S) = \", round(Es, 2))\n",
    "print(\"Var(U)\", round(VarU, 2))\n",
    "print(\"Var(S)\", round(VarS, 2))\n",
    "\n",
    "print(\"E(U - S) = \", round(Eu - Es, 2))\n",
    "print(\"Var(U - S) = \", round(VarU + VarS, 2))\n",
    "    \n",
    "    "
   ]
  },
  {
   "cell_type": "markdown",
   "metadata": {},
   "source": [
    "## Как найти вероятность X через Z?"
   ]
  },
  {
   "cell_type": "code",
   "execution_count": 7,
   "metadata": {},
   "outputs": [
    {
     "name": "stdout",
     "output_type": "stream",
     "text": [
      "0.84\n",
      "0.87\n",
      "0.03\n",
      "0.02\n"
     ]
    }
   ],
   "source": [
    "from scipy.stats import norm\n",
    "print(round(norm.cdf(1), 2))\n",
    "print(round(norm.cdf(1.12), 2))\n",
    "print(round(norm.cdf(-1.87), 2))\n",
    "print(round(norm.cdf(-2), 2))"
   ]
  },
  {
   "cell_type": "markdown",
   "metadata": {},
   "source": [
    "Используя функцию norm.ppf(), найдите число .\n",
    "\n",
    "Ответ округлите до 2 знаков после разделительной точки:\n",
    "P(Z < c)=0.1"
   ]
  },
  {
   "cell_type": "code",
   "execution_count": 8,
   "metadata": {},
   "outputs": [
    {
     "data": {
      "text/plain": [
       "-1.28"
      ]
     },
     "execution_count": 8,
     "metadata": {},
     "output_type": "execute_result"
    }
   ],
   "source": [
    "round(norm.ppf(0.1), 2)"
   ]
  },
  {
   "cell_type": "markdown",
   "metadata": {},
   "source": [
    "P(Z > c)=0.05"
   ]
  },
  {
   "cell_type": "code",
   "execution_count": 9,
   "metadata": {},
   "outputs": [
    {
     "data": {
      "text/plain": [
       "-1.64"
      ]
     },
     "execution_count": 9,
     "metadata": {},
     "output_type": "execute_result"
    }
   ],
   "source": [
    "round(norm.ppf(0.05), 2)"
   ]
  },
  {
   "cell_type": "markdown",
   "metadata": {},
   "source": [
    "P(Z < c)=0.025"
   ]
  },
  {
   "cell_type": "code",
   "execution_count": 10,
   "metadata": {},
   "outputs": [
    {
     "data": {
      "text/plain": [
       "-1.96"
      ]
     },
     "execution_count": 10,
     "metadata": {},
     "output_type": "execute_result"
    }
   ],
   "source": [
    "round(norm.ppf(0.025), 2)"
   ]
  },
  {
   "cell_type": "markdown",
   "metadata": {},
   "source": [
    "P(Z > c)=0.01"
   ]
  },
  {
   "cell_type": "code",
   "execution_count": 11,
   "metadata": {},
   "outputs": [
    {
     "data": {
      "text/plain": [
       "-2.33"
      ]
     },
     "execution_count": 11,
     "metadata": {},
     "output_type": "execute_result"
    }
   ],
   "source": [
    "round(norm.ppf(0.01), 2)"
   ]
  },
  {
   "cell_type": "markdown",
   "metadata": {},
   "source": [
    "P(Z < c)=0.005"
   ]
  },
  {
   "cell_type": "code",
   "execution_count": 12,
   "metadata": {},
   "outputs": [
    {
     "data": {
      "text/plain": [
       "-2.58"
      ]
     },
     "execution_count": 12,
     "metadata": {},
     "output_type": "execute_result"
    }
   ],
   "source": [
    "round(norm.ppf(0.005), 2)"
   ]
  },
  {
   "cell_type": "markdown",
   "metadata": {},
   "source": [
    "Известно, что вес жителя Гонконга распределен нормально со средним в 70 кг и стандартным отклонением 5 кг. Лифт в одном бизнес-центре может поднять не более кг. Также на нем указана вместимость не более 5 человек. Другими словами, если человек входят в лифт, их средний вес не должен превысить кг 75 (как 375/5).\n",
    "\n",
    "Какова вероятность, что средний вес случайно подошедших к лифту человек превысит кг и не позволит лифту подняться? Укажите ответ в виде десяточной дроби с 3 знаками после точки-разделителя."
   ]
  },
  {
   "cell_type": "markdown",
   "metadata": {},
   "source": [
    "<img src=\"2.10.1.jpg\"/>"
   ]
  },
  {
   "cell_type": "code",
   "execution_count": 75,
   "metadata": {},
   "outputs": [
    {
     "data": {
      "text/plain": [
       "0.013"
      ]
     },
     "execution_count": 75,
     "metadata": {},
     "output_type": "execute_result"
    }
   ],
   "source": [
    "mu = 70 \n",
    "sigma = 5\n",
    "max_weight = 375\n",
    "max_person = 5\n",
    "\n",
    "sigma_normal = sigma /  (max_person)**(0.5)\n",
    "\n",
    "need_find_p = max_weight/max_person\n",
    "\n",
    "round(1 - norm.cdf(need_find_p, mu, sigma_normal), 3)\n",
    "\n"
   ]
  },
  {
   "cell_type": "markdown",
   "metadata": {},
   "source": [
    "<img src=\"2.10.2_t.png\"/>"
   ]
  },
  {
   "cell_type": "code",
   "execution_count": 90,
   "metadata": {},
   "outputs": [
    {
     "data": {
      "text/plain": [
       "0.067"
      ]
     },
     "execution_count": 90,
     "metadata": {},
     "output_type": "execute_result"
    }
   ],
   "source": [
    "p = 0.2\n",
    "n = 225\n",
    "\n",
    "var = (p * (1 - p)) / n\n",
    "sigma = var ** 0.5\n",
    "\n",
    "\n",
    "round(norm.cdf(0.16, p, sigma), 3)\n",
    "\n"
   ]
  },
  {
   "cell_type": "markdown",
   "metadata": {},
   "source": [
    "Случайный покупатель в книжном магазине купит одну, две или три книги с вероятностью 0.3, 0.4 и 0.3, соответственно. Каждая книга стоит 400 рублей. Найдите математическое ожидание расходов покупателя магазина."
   ]
  },
  {
   "cell_type": "code",
   "execution_count": 1,
   "metadata": {},
   "outputs": [
    {
     "name": "stdout",
     "output_type": "stream",
     "text": [
      "800.0\n"
     ]
    }
   ],
   "source": [
    "Px = {\n",
    "    1: 0.3,\n",
    "    2: 0.4,\n",
    "    3: 0.3\n",
    "}\n",
    "\n",
    "Ex = 0\n",
    "\n",
    "for x in Px:\n",
    "    Ex += Px[x] * x\n",
    "    \n",
    "Ex = Ex * 400\n",
    "\n",
    "print(Ex)\n"
   ]
  },
  {
   "cell_type": "markdown",
   "metadata": {},
   "source": [
    "<img src=\"2.11.2.png\"/>"
   ]
  },
  {
   "cell_type": "code",
   "execution_count": 4,
   "metadata": {},
   "outputs": [
    {
     "name": "stdout",
     "output_type": "stream",
     "text": [
      "E(x) =  3.7\n"
     ]
    }
   ],
   "source": [
    "Px = {\n",
    "    2: 0.1,\n",
    "    3: 0.2,\n",
    "    4: 0.6,\n",
    "    5: 0.1\n",
    "}\n",
    "\n",
    "Ex = 0\n",
    "\n",
    "for x in Px:\n",
    "    Ex += Px[x] * x\n",
    "\n",
    "print('E(x) = ', Ex)\n"
   ]
  },
  {
   "cell_type": "markdown",
   "metadata": {},
   "source": [
    "Найти E(X(X+1))"
   ]
  },
  {
   "cell_type": "code",
   "execution_count": 10,
   "metadata": {},
   "outputs": [
    {
     "name": "stdout",
     "output_type": "stream",
     "text": [
      "E(X(X+1)) = E(X^2) + E(X)\n",
      "E(x) =  3.7\n",
      "E(x^2) =  14.3\n",
      "E(X^2) + E(X) = E(X(X+1)) = 18.0\n"
     ]
    }
   ],
   "source": [
    "print('E(X(X+1)) = E(X^2) + E(X)')\n",
    "print('E(x) = ', Ex)\n",
    "\n",
    "Ex2 = 0\n",
    "\n",
    "for x in Px:\n",
    "    Ex2 += Px[x] * x**2\n",
    "    \n",
    "print('E(x^2) = ', Ex2)\n",
    "\n",
    "print('E(X^2) + E(X) = E(X(X+1)) =', Ex + Ex2)"
   ]
  },
  {
   "cell_type": "markdown",
   "metadata": {},
   "source": [
    "Оценки студентов на международной онлайн олимпиаде распределены нормально со средним 700 баллов и стандартным отклонением 120 баллов. Диплом первой категории выдается участникам, набравшим более 820 баллов. Диплом второй категории — участникам, набравшим от 730 до 820 баллов. Для решения задачи используйте функции norm.cdf() и norm.ppf() из пакета scipy.stats.\n",
    "\n",
    "1. Какая доля участников получает диплом 1 категории? Ответ укажите с округлением до 2 знаков после точки-разделителя."
   ]
  },
  {
   "cell_type": "code",
   "execution_count": 17,
   "metadata": {},
   "outputs": [
    {
     "name": "stdout",
     "output_type": "stream",
     "text": [
      "\"The first categoru diplom\": 0.16\n"
     ]
    }
   ],
   "source": [
    "from scipy.stats import norm\n",
    "\n",
    "mu = 700\n",
    "sigma = 120 \n",
    "\n",
    "first_catigory = norm.cdf(820, mu, sigma)\n",
    "\n",
    "print('\"The first category diplom\":', round(1 - first_catigory, 2))\n",
    "\n",
    "\n"
   ]
  },
  {
   "cell_type": "markdown",
   "metadata": {},
   "source": [
    "2. Какая доля участников получает диплом 2 категории? Ответ укажите с округлением до 2 знаков после точки-разделителя."
   ]
  },
  {
   "cell_type": "code",
   "execution_count": 32,
   "metadata": {},
   "outputs": [
    {
     "name": "stdout",
     "output_type": "stream",
     "text": [
      "\"The second categoru diplom\": 0.24\n"
     ]
    }
   ],
   "source": [
    "second = norm.cdf([730, 820], mu, sigma)\n",
    "\n",
    "left = 1 - second[0]\n",
    "right = 1 - second[1]\n",
    "\n",
    "print('\"The second category diplom\":', round(left - right, 2))\n",
    "\n"
   ]
  },
  {
   "cell_type": "markdown",
   "metadata": {},
   "source": [
    "3. Некоторые участники порой выставляли ответы, даже не пытаясь решить задачу, случайным образом, стремясь набрать минимальное количество баллов лишь для того, чтобы получить сертификат об участии. Оргкомитет олимпиады принял решение не выдавать сертификатов тем, кто попал в 5 % участников с наименьшими баллами. Какое минимальное количество баллов нужно было набрать, чтобы получить сертификат об участии? Количество баллов – это целое число."
   ]
  },
  {
   "cell_type": "code",
   "execution_count": 36,
   "metadata": {},
   "outputs": [
    {
     "data": {
      "text/plain": [
       "503.0"
      ]
     },
     "execution_count": 36,
     "metadata": {},
     "output_type": "execute_result"
    }
   ],
   "source": [
    "\n",
    "loosers = norm.ppf(0.05, mu, sigma)\n",
    "\n",
    "round(loosers)\n"
   ]
  },
  {
   "cell_type": "code",
   "execution_count": null,
   "metadata": {},
   "outputs": [],
   "source": []
  }
 ],
 "metadata": {
  "kernelspec": {
   "display_name": "Python 3",
   "language": "python",
   "name": "python3"
  },
  "language_info": {
   "codemirror_mode": {
    "name": "ipython",
    "version": 3
   },
   "file_extension": ".py",
   "mimetype": "text/x-python",
   "name": "python",
   "nbconvert_exporter": "python",
   "pygments_lexer": "ipython3",
   "version": "3.7.6"
  }
 },
 "nbformat": 4,
 "nbformat_minor": 4
}
