{
 "cells": [
  {
   "cell_type": "markdown",
   "metadata": {},
   "source": [
    "# 9.2 О массивах NumPy"
   ]
  },
  {
   "cell_type": "markdown",
   "metadata": {},
   "source": [
    "Иногда при решении задач нужно создать массив заданной структуры до того, как становится известно о хранящихся в нём данных. В NumPy есть функции, которые позволяют задавать размерность массива, выделять память для его хранения и заполнять массив элементами (единицами, нулями)."
   ]
  },
  {
   "cell_type": "code",
   "execution_count": 3,
   "metadata": {},
   "outputs": [
    {
     "data": {
      "text/plain": [
       "array([0.  , 0.25, 0.5 , 0.75, 1.  ])"
      ]
     },
     "execution_count": 3,
     "metadata": {},
     "output_type": "execute_result"
    }
   ],
   "source": [
    "np.empty(5) # одномерный массив из пяти элементов, память для которого выделена, но не инициализирована"
   ]
  },
  {
   "cell_type": "code",
   "execution_count": 4,
   "metadata": {},
   "outputs": [
    {
     "data": {
      "text/plain": [
       "array([[0., 0., 0., 0., 0., 0., 0.],\n",
       "       [0., 0., 0., 0., 0., 0., 0.],\n",
       "       [0., 0., 0., 0., 0., 0., 0.],\n",
       "       [0., 0., 0., 0., 0., 0., 0.],\n",
       "       [0., 0., 0., 0., 0., 0., 0.],\n",
       "       [0., 0., 0., 0., 0., 0., 0.],\n",
       "       [0., 0., 0., 0., 0., 0., 0.],\n",
       "       [0., 0., 0., 0., 0., 0., 0.],\n",
       "       [0., 0., 0., 0., 0., 0., 0.],\n",
       "       [0., 0., 0., 0., 0., 0., 0.]])"
      ]
     },
     "execution_count": 4,
     "metadata": {},
     "output_type": "execute_result"
    }
   ],
   "source": [
    "np.zeros((10, 7)) # массив размером 10x7, заполненный нулями "
   ]
  },
  {
   "cell_type": "code",
   "execution_count": 5,
   "metadata": {},
   "outputs": [
    {
     "data": {
      "text/plain": [
       "array([[[1., 1., 1.],\n",
       "        [1., 1., 1.],\n",
       "        [1., 1., 1.]],\n",
       "\n",
       "       [[1., 1., 1.],\n",
       "        [1., 1., 1.],\n",
       "        [1., 1., 1.]],\n",
       "\n",
       "       [[1., 1., 1.],\n",
       "        [1., 1., 1.],\n",
       "        [1., 1., 1.]]])"
      ]
     },
     "execution_count": 5,
     "metadata": {},
     "output_type": "execute_result"
    }
   ],
   "source": [
    "np.ones((3,3,3)) # массив размером 3х3х3, заполненный единицами "
   ]
  },
  {
   "cell_type": "code",
   "execution_count": 6,
   "metadata": {},
   "outputs": [
    {
     "data": {
      "text/plain": [
       "array([[1., 0., 0.],\n",
       "       [0., 1., 0.],\n",
       "       [0., 0., 1.]])"
      ]
     },
     "execution_count": 6,
     "metadata": {},
     "output_type": "execute_result"
    }
   ],
   "source": [
    "np.eye(3) # единичная матрица (элементы главной диагонали равны 1, остальные — 0) размера 3х3"
   ]
  },
  {
   "cell_type": "code",
   "execution_count": 7,
   "metadata": {},
   "outputs": [
    {
     "data": {
      "text/plain": [
       "array([[3.14, 3.14, 3.14, 3.14, 3.14],\n",
       "       [3.14, 3.14, 3.14, 3.14, 3.14],\n",
       "       [3.14, 3.14, 3.14, 3.14, 3.14]])"
      ]
     },
     "execution_count": 7,
     "metadata": {},
     "output_type": "execute_result"
    }
   ],
   "source": [
    "np.full((3, 5), 3.14)  # массив 3x5 заполненный числом 3.14"
   ]
  },
  {
   "cell_type": "code",
   "execution_count": 8,
   "metadata": {},
   "outputs": [
    {
     "data": {
      "text/plain": [
       "array([ 0,  7, 14])"
      ]
     },
     "execution_count": 8,
     "metadata": {},
     "output_type": "execute_result"
    }
   ],
   "source": [
    "np.arange(0, 21, 7)  # одномерный массив, заполненный числами в диапазоне от 0 до 20 с шагом 7"
   ]
  },
  {
   "cell_type": "code",
   "execution_count": 9,
   "metadata": {},
   "outputs": [
    {
     "data": {
      "text/plain": [
       "array([0.  , 0.25, 0.5 , 0.75, 1.  ])"
      ]
     },
     "execution_count": 9,
     "metadata": {},
     "output_type": "execute_result"
    }
   ],
   "source": [
    "np.linspace(0, 1, 5)  # массив из пяти чисел, равномерно распределённых в интервале между 0 и 1 включительно"
   ]
  },
  {
   "cell_type": "code",
   "execution_count": 10,
   "metadata": {},
   "outputs": [
    {
     "data": {
      "text/plain": [
       "array([[7, 3, 3],\n",
       "       [0, 4, 1],\n",
       "       [2, 3, 6]])"
      ]
     },
     "execution_count": 10,
     "metadata": {},
     "output_type": "execute_result"
    }
   ],
   "source": [
    "np.random.randint(0, 10, (3, 3))  # массив размера 3х3, заполненный случайными числами из диапазона от 0 до 9 (включительно)"
   ]
  },
  {
   "cell_type": "markdown",
   "metadata": {},
   "source": [
    "Какие элементы расположены в последнем столбце массива, заданного с помощью кода выше?"
   ]
  },
  {
   "cell_type": "code",
   "execution_count": 11,
   "metadata": {},
   "outputs": [
    {
     "data": {
      "text/plain": [
       "array([[  1. ,  57. ,  71. , 127. , 141. , 197. , 211. , 267. , 281. ],\n",
       "       [  0.5,  28.5,  35.5,  63.5,  70.5,  98.5, 105.5, 133.5, 140.5],\n",
       "       [-99. , -43. , -29. ,  27. ,  41. ,  97. , 111. , 167. , 181. ]])"
      ]
     },
     "execution_count": 11,
     "metadata": {},
     "output_type": "execute_result"
    }
   ],
   "source": [
    "my_secret = [x for x in range(1, 301, 7) if x%10 == 7 or x%10 == 1]\n",
    "np.array([my_secret, [x/2 for x in my_secret], [x-100 for x in my_secret]])"
   ]
  },
  {
   "cell_type": "markdown",
   "metadata": {},
   "source": [
    "## Индексирование массивов NumPy"
   ]
  },
  {
   "cell_type": "markdown",
   "metadata": {},
   "source": [
    "Потренируемся извлекать из двумерного массива отдельные элементы и их срезы и производить над ними математические действия. Задания блока будем выполнять на примере массива, созданного кодом:"
   ]
  },
  {
   "cell_type": "code",
   "execution_count": 98,
   "metadata": {},
   "outputs": [],
   "source": [
    "first_line = [x*y for x in range(2, 100, 6) for y in range (7, 1, -2)]\n",
    "second_line = [x ** 0.5 for x in range(1000, 1101, 2)]\n",
    "third_line = [x**2 for x in range(51)]\n",
    "\n",
    "big_secret = np.array([first_line, second_line, third_line, second_line, first_line])"
   ]
  },
  {
   "cell_type": "markdown",
   "metadata": {},
   "source": [
    "Чему равна сумма элементов последнего столбца массива? Ответ округлите до двух цифр после запятой:"
   ]
  },
  {
   "cell_type": "code",
   "execution_count": 52,
   "metadata": {},
   "outputs": [
    {
     "data": {
      "text/plain": [
       "3154.33"
      ]
     },
     "execution_count": 52,
     "metadata": {},
     "output_type": "execute_result"
    }
   ],
   "source": [
    "round(big_secret[:, -1].sum(), 2)"
   ]
  },
  {
   "cell_type": "markdown",
   "metadata": {},
   "source": [
    "Выделите из каждой строки массива big_secret первые 5 элементов. Чему равна сумма элементов главной диагонали получившейся матрицы? Округлите ответ до двух цифр после запятой:"
   ]
  },
  {
   "cell_type": "code",
   "execution_count": 57,
   "metadata": {},
   "outputs": [
    {
     "data": {
      "text/plain": [
       "121.37"
      ]
     },
     "execution_count": 57,
     "metadata": {},
     "output_type": "execute_result"
    }
   ],
   "source": [
    "round(big_secret[:, :5].diagonal().sum(), 2)"
   ]
  },
  {
   "cell_type": "markdown",
   "metadata": {},
   "source": [
    "Выделите из каждой строки массива big_secret последние 5 элементов. Чему равно произведение элементов главной диагонали получившейся матрицы? Введите полученный результат без изменений и округлений."
   ]
  },
  {
   "cell_type": "code",
   "execution_count": 69,
   "metadata": {},
   "outputs": [
    {
     "data": {
      "text/plain": [
       "341505315559.2347"
      ]
     },
     "execution_count": 69,
     "metadata": {},
     "output_type": "execute_result"
    }
   ],
   "source": [
    "big_secret[:, -5:].diagonal().prod()"
   ]
  },
  {
   "cell_type": "markdown",
   "metadata": {},
   "source": [
    "Особенность индексирования\n",
    "\n",
    "Важное отличие массивов NumPy от списков Python — при изменении среза или отдельных элементов все изменения касаются не только самого среза, но и падают в исходный массив, даже если перед внесением изменений срез был сохранён в виде отдельной переменной. Изначально NumPy проектировался для работы с большими массивами данных, поэтому при бесконтрольном копировании фрагментов массивов возникли бы проблемы с быстродействием и памятью."
   ]
  },
  {
   "cell_type": "code",
   "execution_count": 74,
   "metadata": {},
   "outputs": [
    {
     "name": "stdout",
     "output_type": "stream",
     "text": [
      "[[38 33  9 34 28 77]\n",
      " [56 93 80 32 63  7]\n",
      " [64 75 54  8 58 14]\n",
      " [90 24 99 10 53 45]]\n",
      "\n",
      "\n",
      "[[80 32]\n",
      " [54  8]]\n",
      "\n",
      "\n",
      "[[38 33  9 34 28 77]\n",
      " [56 93  0  0 63  7]\n",
      " [64 75  0  0 58 14]\n",
      " [90 24 99 10 53 45]]\n"
     ]
    }
   ],
   "source": [
    "my_array = np.random.randint(1, 100, (4, 6)) \n",
    "print(my_array)\n",
    "my_slice = my_array[1:3, 2:4]\n",
    "print(\"\\n\")\n",
    "print(my_slice)\n",
    "my_slice[:] = 0\n",
    "print(\"\\n\")\n",
    "print(my_array)"
   ]
  },
  {
   "cell_type": "markdown",
   "metadata": {},
   "source": [
    "Продолжим работать с массивом big_secret. Замените на 1 все элементы, у которых оба индекса нечётные, и на -1 все элементы, у которых оба индекса чётные.\n",
    "\n",
    "\n"
   ]
  },
  {
   "cell_type": "code",
   "execution_count": 99,
   "metadata": {},
   "outputs": [],
   "source": [
    "i = range(len(big_secret))\n",
    "j = range(len(big_secret[0]))\n",
    "\n",
    "for x in i:\n",
    "    for y in j:\n",
    "        if x % 2 == 0 and y % 2 == 0:\n",
    "            big_secret[x][y] = -1\n",
    "        if x % 2 != 0 and y % 2 != 2:\n",
    "            big_secret[x][y] = 1"
   ]
  },
  {
   "cell_type": "markdown",
   "metadata": {},
   "source": [
    "Выделите из каждой строки обновлённого массива big_secret первые 5 элементов. Чему равна сумма элементов главной диагонали получившейся матрицы? Введите полученный ответ без изменений и округлений."
   ]
  },
  {
   "cell_type": "code",
   "execution_count": 100,
   "metadata": {},
   "outputs": [
    {
     "data": {
      "text/plain": [
       "-1.0"
      ]
     },
     "execution_count": 100,
     "metadata": {},
     "output_type": "execute_result"
    }
   ],
   "source": [
    "big_secret[:, :5].diagonal().sum()"
   ]
  },
  {
   "cell_type": "markdown",
   "metadata": {},
   "source": [
    "Выделите из каждой строки обновлённого массива big_secret последние 5 элементов. Чему равно произведение элементов главной диагонали получившейся матрицы? Введите полученный результат без изменений и округлений."
   ]
  },
  {
   "cell_type": "code",
   "execution_count": 105,
   "metadata": {},
   "outputs": [
    {
     "data": {
      "text/plain": [
       "-1.0"
      ]
     },
     "execution_count": 105,
     "metadata": {},
     "output_type": "execute_result"
    }
   ],
   "source": [
    "big_secret[:, -5:].diagonal().prod()"
   ]
  },
  {
   "cell_type": "markdown",
   "metadata": {},
   "source": [
    "## Операции с массивами"
   ]
  },
  {
   "cell_type": "code",
   "execution_count": 106,
   "metadata": {},
   "outputs": [
    {
     "name": "stdout",
     "output_type": "stream",
     "text": [
      "Сумма: [15 21 27]\n",
      "Разность: [9 9 9]\n",
      "Произведение: [ 36  90 162]\n",
      "Частное: [0.25 0.4  0.5 ]\n",
      "Умножение на число: [ 6 12 18]\n"
     ]
    }
   ],
   "source": [
    "a = np.array([3,6,9])\n",
    "b = np.array([12,15,18])\n",
    "\n",
    "result1 = a+b\n",
    "result2 = b-a\n",
    "result3 = a*b\n",
    "result4 = a/b\n",
    "result5 = a*2\n",
    "print('Сумма: {}\\nРазность: {}\\nПроизведение: {}\\nЧастное: {}\\nУмножение на число: {}'.format(result1, result2, result3, result4, result5))"
   ]
  },
  {
   "cell_type": "markdown",
   "metadata": {},
   "source": [
    "Изменение размерности массива\n",
    "\n",
    "В некоторых задачах машинного обучения для подготовки данных к обработке нужно изменить исходную форму массива, например, преобразовать многомерный массив в одномерный, поменять местами строки и столбцы.\n",
    "\n",
    "Замена местами строк и столбцов двумерного массива называется транспонированием. Для выполнения этой операции в NumPy используется метод T:"
   ]
  },
  {
   "cell_type": "code",
   "execution_count": 108,
   "metadata": {},
   "outputs": [
    {
     "data": {
      "text/plain": [
       "array([[ 1,  6],\n",
       "       [ 2,  7],\n",
       "       [ 3,  8],\n",
       "       [ 4,  9],\n",
       "       [ 5, 10]])"
      ]
     },
     "execution_count": 108,
     "metadata": {},
     "output_type": "execute_result"
    }
   ],
   "source": [
    "my_array = np.array([[1,2,3,4,5], [6,7,8,9,10]])\n",
    "my_array.T"
   ]
  },
  {
   "cell_type": "markdown",
   "metadata": {},
   "source": [
    "Для превращения массива одной размерности в массив другой — обычно для преобразования одномерного массива в многомерный — используется метод reshape. Изменить размерность массива можно только в том случае, если число элементов в исходном и в целевом массиве совпадает:"
   ]
  },
  {
   "cell_type": "code",
   "execution_count": 110,
   "metadata": {},
   "outputs": [
    {
     "name": "stdout",
     "output_type": "stream",
     "text": [
      "[5 0 0 5 9 7 1 2 4 3 5 6 1 3 4 0 0 0 3 6]\n",
      "\n",
      "\n"
     ]
    },
    {
     "data": {
      "text/plain": [
       "array([[5, 0, 0, 5, 9],\n",
       "       [7, 1, 2, 4, 3],\n",
       "       [5, 6, 1, 3, 4],\n",
       "       [0, 0, 0, 3, 6]])"
      ]
     },
     "execution_count": 110,
     "metadata": {},
     "output_type": "execute_result"
    }
   ],
   "source": [
    "my_array = np.random.randint(0, 10, 20)\n",
    "print(my_array)\n",
    "print(\"\\n\")\n",
    "my_array.reshape((4,5))"
   ]
  },
  {
   "cell_type": "markdown",
   "metadata": {},
   "source": [
    "Для преобразования многомерного массива в одномерный используется метод flatten:"
   ]
  },
  {
   "cell_type": "code",
   "execution_count": 114,
   "metadata": {},
   "outputs": [
    {
     "name": "stdout",
     "output_type": "stream",
     "text": [
      "[[  1   2   3]\n",
      " [ 11  22  33]\n",
      " [111 222 333]]\n",
      "\n",
      "\n"
     ]
    },
    {
     "data": {
      "text/plain": [
       "array([  1,   2,   3,  11,  22,  33, 111, 222, 333])"
      ]
     },
     "execution_count": 114,
     "metadata": {},
     "output_type": "execute_result"
    }
   ],
   "source": [
    "my_array = np.array([[1,2,3], [11,22,33], [111,222,333]])\n",
    "print(my_array)\n",
    "print(\"\\n\")\n",
    "my_array.flatten()"
   ]
  },
  {
   "cell_type": "markdown",
   "metadata": {},
   "source": [
    "Сравнения и маски\n",
    "\n",
    "Научимся сравнивать элементы массива с числом и извлекать из него только те элементы, которые больше или меньше заданного числа. Для этого создадим массив размера 3х4, произвольно заполненный числами от 0 до 10. При создании массива используется генератор случайных чисел, так что у вас могут получиться другие значения:"
   ]
  },
  {
   "cell_type": "code",
   "execution_count": 121,
   "metadata": {},
   "outputs": [
    {
     "name": "stdout",
     "output_type": "stream",
     "text": [
      "[[9 5 0 3]\n",
      " [9 6 8 2]\n",
      " [5 0 4 6]]\n",
      "\n",
      "\n"
     ]
    },
    {
     "data": {
      "text/plain": [
       "array([0, 3, 2, 0, 4])"
      ]
     },
     "execution_count": 121,
     "metadata": {},
     "output_type": "execute_result"
    }
   ],
   "source": [
    "my_array = np.random.randint(0, 10, (3,4))\n",
    "print(my_array)\n",
    "print(\"\\n\")\n",
    "my_array[my_array<5]"
   ]
  },
  {
   "cell_type": "code",
   "execution_count": 116,
   "metadata": {},
   "outputs": [
    {
     "data": {
      "text/plain": [
       "array([[ True,  True,  True,  True],\n",
       "       [False, False,  True,  True],\n",
       "       [False,  True, False,  True]])"
      ]
     },
     "execution_count": 116,
     "metadata": {},
     "output_type": "execute_result"
    }
   ],
   "source": [
    "my_array<5"
   ]
  },
  {
   "cell_type": "markdown",
   "metadata": {},
   "source": [
    "Маска нужна для выбора только определенных строк или столбцов из всего массива и скрытия остальных. Маска в Python задаётся при помощи булевых 0 и 1, где 0 скрывает столбец или строку, а 1 оставляет ее на виду. Выведем первый и третрий столбец массива:"
   ]
  },
  {
   "cell_type": "code",
   "execution_count": 125,
   "metadata": {},
   "outputs": [
    {
     "data": {
      "text/plain": [
       "array([[9, 0],\n",
       "       [9, 8],\n",
       "       [5, 4]])"
      ]
     },
     "execution_count": 125,
     "metadata": {},
     "output_type": "execute_result"
    }
   ],
   "source": [
    "mask = np.array([1, 0, 1, 0], dtype=bool)\n",
    "my_array[:, mask]"
   ]
  },
  {
   "cell_type": "markdown",
   "metadata": {},
   "source": [
    "Сортировка двумерных массивов\n",
    "\n",
    "В двумерных массивах можно выполнять сортировку элементов строк и столбцов:\n",
    "\n",
    "Сортировка выполняется с помощью функции sort, в качестве параметров функция получает сам массив, а также номер оси (0 (для столбцов) или 1 (для строк)) , элементы которой необходимо отсортировать. \n",
    "\n",
    "Как можно отсортировать элементы строк и столбцов?\n",
    "\n",
    "Отсортируем элементы строк:"
   ]
  },
  {
   "cell_type": "code",
   "execution_count": 130,
   "metadata": {},
   "outputs": [
    {
     "name": "stdout",
     "output_type": "stream",
     "text": [
      "[[5 1 8 1 0 6]\n",
      " [9 9 5 7 8 4]\n",
      " [0 0 1 8 8 0]\n",
      " [5 1 3 3 4 9]]\n",
      "\n",
      "\n",
      "[[0 1 1 5 6 8]\n",
      " [4 5 7 8 9 9]\n",
      " [0 0 0 1 8 8]\n",
      " [1 3 3 4 5 9]]\n",
      "\n",
      "\n",
      "[[0 0 1 1 0 0]\n",
      " [5 1 3 3 4 4]\n",
      " [5 1 5 7 8 6]\n",
      " [9 9 8 8 8 9]]\n"
     ]
    }
   ],
   "source": [
    "my_array = np.random.randint(0, 10, (4, 6))\n",
    "\n",
    "print(my_array)\n",
    "print(\"\\n\")\n",
    "\n",
    "print(np.sort(my_array, axis=1))\n",
    "print(\"\\n\")\n",
    "print(np.sort(my_array, axis=0))\n"
   ]
  },
  {
   "cell_type": "markdown",
   "metadata": {},
   "source": [
    "Для выполнения упражнений из следующего блока мы будем использовать массив, созданный с помощью кода:"
   ]
  },
  {
   "cell_type": "code",
   "execution_count": 131,
   "metadata": {},
   "outputs": [],
   "source": [
    "first = [x**(1/2) for x in range(100)]\n",
    "second = [x**(1/3) for x in range(100, 200)]\n",
    "third = [x/y for x in range(200,300,2) for y in [3,5]]\n",
    "\n",
    "great_secret = np.array([first, second, third]).T"
   ]
  },
  {
   "cell_type": "markdown",
   "metadata": {},
   "source": [
    "Сколько столбцов содержит массив great_secret?"
   ]
  },
  {
   "cell_type": "code",
   "execution_count": 134,
   "metadata": {},
   "outputs": [
    {
     "data": {
      "text/plain": [
       "3"
      ]
     },
     "execution_count": 134,
     "metadata": {},
     "output_type": "execute_result"
    }
   ],
   "source": [
    "len(great_secret[0])"
   ]
  },
  {
   "cell_type": "markdown",
   "metadata": {},
   "source": [
    "Чему равна сумма косинусов элементов первой строки массива great_secret? Ответ округлите до двух знаков после запятой."
   ]
  },
  {
   "cell_type": "code",
   "execution_count": 139,
   "metadata": {},
   "outputs": [
    {
     "data": {
      "text/plain": [
       "0.16"
      ]
     },
     "execution_count": 139,
     "metadata": {},
     "output_type": "execute_result"
    }
   ],
   "source": [
    "first_row_cos = np.cos(great_secret[0])\n",
    "round(first_row_cos.sum(), 2)"
   ]
  },
  {
   "cell_type": "markdown",
   "metadata": {},
   "source": [
    "Чему равна сумма элементов массива great_secret, значение которых больше 50?"
   ]
  },
  {
   "cell_type": "code",
   "execution_count": 141,
   "metadata": {},
   "outputs": [
    {
     "data": {
      "text/plain": [
       "5470.0"
      ]
     },
     "execution_count": 141,
     "metadata": {},
     "output_type": "execute_result"
    }
   ],
   "source": [
    "great_secret[great_secret>50].sum()"
   ]
  },
  {
   "cell_type": "markdown",
   "metadata": {},
   "source": [
    "Переведите массив great_secret в одномерную форму. Какое значение в получившемся массиве имеет элемент с индексом 150? Скопируйте ответ из Jupyter Notebook без изменений."
   ]
  },
  {
   "cell_type": "code",
   "execution_count": 143,
   "metadata": {},
   "outputs": [
    {
     "data": {
      "text/plain": [
       "7.0710678118654755"
      ]
     },
     "execution_count": 143,
     "metadata": {},
     "output_type": "execute_result"
    }
   ],
   "source": [
    "great_secret.flatten()[150]"
   ]
  },
  {
   "cell_type": "markdown",
   "metadata": {},
   "source": [
    "Отсортируйте значения столбцов массива great_secret по возрастанию. Чему равна сумма элементов последней строки отсортированного массива? Ответ округлите до двух цифр после запятой."
   ]
  },
  {
   "cell_type": "code",
   "execution_count": 162,
   "metadata": {},
   "outputs": [
    {
     "data": {
      "text/plain": [
       "115.12"
      ]
     },
     "execution_count": 162,
     "metadata": {},
     "output_type": "execute_result"
    }
   ],
   "source": [
    "round(np.sort(great_secret, axis=0)[-1, :].sum(), 2)"
   ]
  },
  {
   "cell_type": "markdown",
   "metadata": {},
   "source": [
    "## Математические и статистические операции\n",
    "\n",
    "Модуль NumPy содержит множество базовых статистических функций, которые помогают описать имеющиеся данные: среднее арифметическое (mean), медиана (median), стандартное отклонение (std), корреляция (corrcoef) и прочие. Давайте посмотрим, как они работают. \n",
    "\n",
    "Для изучения функций будем использовать набор данных, содержащих информацию об учениках шестого класса. Данные об учениках представлены в таблице:\n",
    "ID (номер в журнале) \tРост, см \tМасса тела, кг \tСредний балл\n",
    "1 \t                       135 \t        34 \t            4\n",
    "2 \t                       160 \t        43 \t            5\n",
    "3 \t                       163 \t        40 \t            4.3\n",
    "4 \t                       147 \t        44 \t            5\n",
    "5 \t                       138 \t        41 \t            4.7\n",
    "6 \t                       149 \t        54 \t            3.9\n",
    "7 \t                       136 \t        39 \t            4.2\n",
    "8 \t                       154 \t        48 \t            4.9\n",
    "9 \t                       137 \t        35 \t            3.7\n",
    "10 \t                       165 \t        60 \t            4.6"
   ]
  },
  {
   "cell_type": "code",
   "execution_count": 166,
   "metadata": {},
   "outputs": [
    {
     "data": {
      "text/plain": [
       "array([[  1. , 135. ,  34. ,   4. ],\n",
       "       [  2. , 160. ,  43. ,   5. ],\n",
       "       [  3. , 163. ,  40. ,   4.3],\n",
       "       [  4. , 147. ,  44. ,   5. ],\n",
       "       [  5. , 138. ,  41. ,   4.7],\n",
       "       [  6. , 149. ,  54. ,   3.9],\n",
       "       [  7. , 136. ,  39. ,   4.2],\n",
       "       [  8. , 154. ,  48. ,   4.9],\n",
       "       [  9. , 137. ,  35. ,   3.7],\n",
       "       [ 10. , 165. ,  60. ,   4.6]])"
      ]
     },
     "execution_count": 166,
     "metadata": {},
     "output_type": "execute_result"
    }
   ],
   "source": [
    "students = np.array(\n",
    "[\n",
    "    [1, 135, 34, 4],\n",
    "    [2, 160, 43, 5],\n",
    "    [3, 163, 40, 4.3],\n",
    "    [4, 147, 44, 5],\n",
    "    [5, 138, 41, 4.7],\n",
    "    [6, 149, 54, 3.9],\n",
    "    [7, 136, 39, 4.2],\n",
    "    [8, 154, 48, 4.9],\n",
    "    [9, 137, 35, 3.7],\n",
    "    [10, 165, 60, 4.6]\n",
    "])\n"
   ]
  },
  {
   "cell_type": "markdown",
   "metadata": {},
   "source": [
    "Средние величины\n",
    "\n",
    "Среднее арифметическое (mean) — сумма всех значений, делённая на их количество, показывает общую тенденцию данных и описывает их одним числом. Узнаем среднюю успеваемость школьников в классе, используя функцию mean:"
   ]
  },
  {
   "cell_type": "code",
   "execution_count": 169,
   "metadata": {},
   "outputs": [
    {
     "name": "stdout",
     "output_type": "stream",
     "text": [
      "mean 4.430000000000001\n",
      "median 4.449999999999999\n"
     ]
    }
   ],
   "source": [
    "print(\"mean\", np.mean(students[:,-1]))\n",
    "print(\"median\", np.median(students[:,-1]))"
   ]
  },
  {
   "cell_type": "markdown",
   "metadata": {},
   "source": [
    "Чему равно медианное значение массы тела школьников?"
   ]
  },
  {
   "cell_type": "code",
   "execution_count": 171,
   "metadata": {},
   "outputs": [
    {
     "data": {
      "text/plain": [
       "42.0"
      ]
     },
     "execution_count": 171,
     "metadata": {},
     "output_type": "execute_result"
    }
   ],
   "source": [
    "np.median(students[:, -2])"
   ]
  },
  {
   "cell_type": "markdown",
   "metadata": {},
   "source": [
    "На сколько среднее арифметическое массы тела школьников больше медианного значения для этого же показателя? Дайте ответ в килограммах с точностью до одной десятой кг."
   ]
  },
  {
   "cell_type": "code",
   "execution_count": 174,
   "metadata": {},
   "outputs": [
    {
     "data": {
      "text/plain": [
       "1.8"
      ]
     },
     "execution_count": 174,
     "metadata": {},
     "output_type": "execute_result"
    }
   ],
   "source": [
    "median = np.median(students[:, -2])\n",
    "mean = np.mean(students[:, -2])\n",
    "\n",
    "round(mean - median, 1)"
   ]
  },
  {
   "cell_type": "markdown",
   "metadata": {},
   "source": [
    "## Коэффициент корреляции\n",
    "\n",
    "Корреляция — статистическая взаимосвязь случайных величин. Мерой корреляции служит одноименный коэффициент, который показывает, насколько сильно связаны величины, он может быть положительным или отрицательным, а по модулю принимает значение от 0 до 1. Отрицательный коэффициент говорит о том, что случайные величины связаны, но при увеличении одной из них вторая уменьшается. Если коэффициент положительный, то величины изменяются в одном направлении.\n",
    "\n",
    "Аналитики часто оперируют в своей работе данной величиной и ошибаются, делая ложные выводы о данных. Связано это с тем, что не всегда наличие корреляции между двумя показателями говорит о том, что между ними есть причинно-следственная связь."
   ]
  },
  {
   "cell_type": "code",
   "execution_count": 175,
   "metadata": {},
   "outputs": [
    {
     "data": {
      "text/plain": [
       "array([[1.        , 0.64314431],\n",
       "       [0.64314431, 1.        ]])"
      ]
     },
     "execution_count": 175,
     "metadata": {},
     "output_type": "execute_result"
    }
   ],
   "source": [
    "corr = np.corrcoef(students[:,1], students[:,2])\n",
    "corr"
   ]
  },
  {
   "cell_type": "markdown",
   "metadata": {},
   "source": [
    "Между какой парой признаков в массиве students наблюдается минимальная корреляция?\n"
   ]
  },
  {
   "cell_type": "code",
   "execution_count": 181,
   "metadata": {},
   "outputs": [
    {
     "data": {
      "text/plain": [
       "[0.6431443103755985, 0.4629371411879519, 0.2980132451286794]"
      ]
     },
     "execution_count": 181,
     "metadata": {},
     "output_type": "execute_result"
    }
   ],
   "source": [
    "height_mass = np.corrcoef(students[:,1], students[:,2])[0][1]\n",
    "height_performance = np.corrcoef(students[:,1], students[:,-1])[0][1]\n",
    "mass_performance = np.corrcoef(students[:,2], students[:,-1])[0][1]\n",
    "\n",
    "[height_mass, height_performance, mass_performance]"
   ]
  },
  {
   "cell_type": "markdown",
   "metadata": {},
   "source": [
    "Используя имеющийся набор данных о школьниках, найдите, чему равно стандартное отклонение их средних баллов.\n"
   ]
  },
  {
   "cell_type": "code",
   "execution_count": 183,
   "metadata": {},
   "outputs": [
    {
     "data": {
      "text/plain": [
       "0.4517742799230607"
      ]
     },
     "execution_count": 183,
     "metadata": {},
     "output_type": "execute_result"
    }
   ],
   "source": [
    "np.std(students[:, -1])"
   ]
  },
  {
   "cell_type": "markdown",
   "metadata": {},
   "source": [
    "Посчитайте, чему равна дисперсия значений веса школьников."
   ]
  },
  {
   "cell_type": "code",
   "execution_count": 184,
   "metadata": {},
   "outputs": [
    {
     "data": {
      "text/plain": [
       "60.36"
      ]
     },
     "execution_count": 184,
     "metadata": {},
     "output_type": "execute_result"
    }
   ],
   "source": [
    "np.var(students[:, 2])"
   ]
  },
  {
   "cell_type": "markdown",
   "metadata": {},
   "source": [
    "Перед вами массив my_array, созданный с помощью кода выше. Напишите код, с помощью которого можно извлечь из него центральный фрагмент размером 3 х 3, с числами 7, 8, 9, 12, 13, 14, 17, 18, 19.\n",
    "\n",
    "Код должен содержать имя массива и набор индексов для получения нужного среза. В ответе использовать только положительные значения индексов и введите ответ в одну строку без пробелов."
   ]
  },
  {
   "cell_type": "code",
   "execution_count": 217,
   "metadata": {},
   "outputs": [],
   "source": [
    "my_array = np.array([[1,2,3,4,5],\n",
    "                     [6,7,8,9,10],\n",
    "                     [11,12,13,14,15],\n",
    "                     [16,17,18,19,20],\n",
    "                     [21,22,23,24,25]])"
   ]
  },
  {
   "cell_type": "code",
   "execution_count": 201,
   "metadata": {},
   "outputs": [
    {
     "data": {
      "text/plain": [
       "array([[ 7,  8,  9],\n",
       "       [12, 13, 14],\n",
       "       [17, 18, 19]])"
      ]
     },
     "execution_count": 201,
     "metadata": {},
     "output_type": "execute_result"
    }
   ],
   "source": [
    "my_array[1:4,1:4]"
   ]
  },
  {
   "cell_type": "markdown",
   "metadata": {},
   "source": [
    "Создайте массив my_sin, состоящий из синусов элементов массива my_array. Посчитайте, чему равна сумма элементов полученного массива. Ответ округлите до трёх цифр после запятой."
   ]
  },
  {
   "cell_type": "code",
   "execution_count": 218,
   "metadata": {},
   "outputs": [
    {
     "data": {
      "text/plain": [
       "-0.058"
      ]
     },
     "execution_count": 218,
     "metadata": {},
     "output_type": "execute_result"
    }
   ],
   "source": [
    "my_sin = np.sin(my_array)\n",
    "round(my_sin.sum(), 3)"
   ]
  },
  {
   "cell_type": "markdown",
   "metadata": {},
   "source": [
    "Замените элементы в центральном фрагменте 3 х 3 массива my_sin на единицы.Чему равна сумма элементов изменённого массива? Ответ округлите до трёх знаков после запятой."
   ]
  },
  {
   "cell_type": "code",
   "execution_count": 222,
   "metadata": {},
   "outputs": [
    {
     "data": {
      "text/plain": [
       "7.572"
      ]
     },
     "execution_count": 222,
     "metadata": {},
     "output_type": "execute_result"
    }
   ],
   "source": [
    "my_sin[1:4,1:4] = 1\n",
    "round(my_sin.sum(), 3)"
   ]
  },
  {
   "cell_type": "markdown",
   "metadata": {},
   "source": [
    "Преобразуйте первые 4 столбца массива my_sin в массив из 10 строк и 2 столбцов. Чему равна сумма элементов первого столбца получившегося массива? Ответ округлите до трёх заков после запятой."
   ]
  },
  {
   "cell_type": "code",
   "execution_count": 232,
   "metadata": {},
   "outputs": [
    {
     "data": {
      "text/plain": [
       "2.406"
      ]
     },
     "execution_count": 232,
     "metadata": {},
     "output_type": "execute_result"
    }
   ],
   "source": [
    "round(my_sin[:, :4].reshape(10, 2)[:, 0].sum(), 3)"
   ]
  },
  {
   "cell_type": "markdown",
   "metadata": {},
   "source": [
    "Создайте массив bigdata, содержащий квадраты всех нечётных чисел в диапазоне от 100 до 1000."
   ]
  },
  {
   "cell_type": "code",
   "execution_count": 255,
   "metadata": {},
   "outputs": [
    {
     "data": {
      "text/plain": [
       "[10201,\n",
       " 10609,\n",
       " 11025,\n",
       " 11449,\n",
       " 11881,\n",
       " 12321,\n",
       " 12769,\n",
       " 13225,\n",
       " 13689,\n",
       " 14161,\n",
       " 14641,\n",
       " 15129,\n",
       " 15625,\n",
       " 16129,\n",
       " 16641,\n",
       " 17161,\n",
       " 17689,\n",
       " 18225,\n",
       " 18769,\n",
       " 19321,\n",
       " 19881,\n",
       " 20449,\n",
       " 21025,\n",
       " 21609,\n",
       " 22201,\n",
       " 22801,\n",
       " 23409,\n",
       " 24025,\n",
       " 24649,\n",
       " 25281,\n",
       " 25921,\n",
       " 26569,\n",
       " 27225,\n",
       " 27889,\n",
       " 28561,\n",
       " 29241,\n",
       " 29929,\n",
       " 30625,\n",
       " 31329,\n",
       " 32041,\n",
       " 32761,\n",
       " 33489,\n",
       " 34225,\n",
       " 34969,\n",
       " 35721,\n",
       " 36481,\n",
       " 37249,\n",
       " 38025,\n",
       " 38809,\n",
       " 39601,\n",
       " 40401,\n",
       " 41209,\n",
       " 42025,\n",
       " 42849,\n",
       " 43681,\n",
       " 44521,\n",
       " 45369,\n",
       " 46225,\n",
       " 47089,\n",
       " 47961,\n",
       " 48841,\n",
       " 49729,\n",
       " 50625,\n",
       " 51529,\n",
       " 52441,\n",
       " 53361,\n",
       " 54289,\n",
       " 55225,\n",
       " 56169,\n",
       " 57121,\n",
       " 58081,\n",
       " 59049,\n",
       " 60025,\n",
       " 61009,\n",
       " 62001,\n",
       " 63001,\n",
       " 64009,\n",
       " 65025,\n",
       " 66049,\n",
       " 67081,\n",
       " 68121,\n",
       " 69169,\n",
       " 70225,\n",
       " 71289,\n",
       " 72361,\n",
       " 73441,\n",
       " 74529,\n",
       " 75625,\n",
       " 76729,\n",
       " 77841,\n",
       " 78961,\n",
       " 80089,\n",
       " 81225,\n",
       " 82369,\n",
       " 83521,\n",
       " 84681,\n",
       " 85849,\n",
       " 87025,\n",
       " 88209,\n",
       " 89401,\n",
       " 90601,\n",
       " 91809,\n",
       " 93025,\n",
       " 94249,\n",
       " 95481,\n",
       " 96721,\n",
       " 97969,\n",
       " 99225,\n",
       " 100489,\n",
       " 101761,\n",
       " 103041,\n",
       " 104329,\n",
       " 105625,\n",
       " 106929,\n",
       " 108241,\n",
       " 109561,\n",
       " 110889,\n",
       " 112225,\n",
       " 113569,\n",
       " 114921,\n",
       " 116281,\n",
       " 117649,\n",
       " 119025,\n",
       " 120409,\n",
       " 121801,\n",
       " 123201,\n",
       " 124609,\n",
       " 126025,\n",
       " 127449,\n",
       " 128881,\n",
       " 130321,\n",
       " 131769,\n",
       " 133225,\n",
       " 134689,\n",
       " 136161,\n",
       " 137641,\n",
       " 139129,\n",
       " 140625,\n",
       " 142129,\n",
       " 143641,\n",
       " 145161,\n",
       " 146689,\n",
       " 148225,\n",
       " 149769,\n",
       " 151321,\n",
       " 152881,\n",
       " 154449,\n",
       " 156025,\n",
       " 157609,\n",
       " 159201,\n",
       " 160801,\n",
       " 162409,\n",
       " 164025,\n",
       " 165649,\n",
       " 167281,\n",
       " 168921,\n",
       " 170569,\n",
       " 172225,\n",
       " 173889,\n",
       " 175561,\n",
       " 177241,\n",
       " 178929,\n",
       " 180625,\n",
       " 182329,\n",
       " 184041,\n",
       " 185761,\n",
       " 187489,\n",
       " 189225,\n",
       " 190969,\n",
       " 192721,\n",
       " 194481,\n",
       " 196249,\n",
       " 198025,\n",
       " 199809,\n",
       " 201601,\n",
       " 203401,\n",
       " 205209,\n",
       " 207025,\n",
       " 208849,\n",
       " 210681,\n",
       " 212521,\n",
       " 214369,\n",
       " 216225,\n",
       " 218089,\n",
       " 219961,\n",
       " 221841,\n",
       " 223729,\n",
       " 225625,\n",
       " 227529,\n",
       " 229441,\n",
       " 231361,\n",
       " 233289,\n",
       " 235225,\n",
       " 237169,\n",
       " 239121,\n",
       " 241081,\n",
       " 243049,\n",
       " 245025,\n",
       " 247009,\n",
       " 249001,\n",
       " 251001,\n",
       " 253009,\n",
       " 255025,\n",
       " 257049,\n",
       " 259081,\n",
       " 261121,\n",
       " 263169,\n",
       " 265225,\n",
       " 267289,\n",
       " 269361,\n",
       " 271441,\n",
       " 273529,\n",
       " 275625,\n",
       " 277729,\n",
       " 279841,\n",
       " 281961,\n",
       " 284089,\n",
       " 286225,\n",
       " 288369,\n",
       " 290521,\n",
       " 292681,\n",
       " 294849,\n",
       " 297025,\n",
       " 299209,\n",
       " 301401,\n",
       " 303601,\n",
       " 305809,\n",
       " 308025,\n",
       " 310249,\n",
       " 312481,\n",
       " 314721,\n",
       " 316969,\n",
       " 319225,\n",
       " 321489,\n",
       " 323761,\n",
       " 326041,\n",
       " 328329,\n",
       " 330625,\n",
       " 332929,\n",
       " 335241,\n",
       " 337561,\n",
       " 339889,\n",
       " 342225,\n",
       " 344569,\n",
       " 346921,\n",
       " 349281,\n",
       " 351649,\n",
       " 354025,\n",
       " 356409,\n",
       " 358801,\n",
       " 361201,\n",
       " 363609,\n",
       " 366025,\n",
       " 368449,\n",
       " 370881,\n",
       " 373321,\n",
       " 375769,\n",
       " 378225,\n",
       " 380689,\n",
       " 383161,\n",
       " 385641,\n",
       " 388129,\n",
       " 390625,\n",
       " 393129,\n",
       " 395641,\n",
       " 398161,\n",
       " 400689,\n",
       " 403225,\n",
       " 405769,\n",
       " 408321,\n",
       " 410881,\n",
       " 413449,\n",
       " 416025,\n",
       " 418609,\n",
       " 421201,\n",
       " 423801,\n",
       " 426409,\n",
       " 429025,\n",
       " 431649,\n",
       " 434281,\n",
       " 436921,\n",
       " 439569,\n",
       " 442225,\n",
       " 444889,\n",
       " 447561,\n",
       " 450241,\n",
       " 452929,\n",
       " 455625,\n",
       " 458329,\n",
       " 461041,\n",
       " 463761,\n",
       " 466489,\n",
       " 469225,\n",
       " 471969,\n",
       " 474721,\n",
       " 477481,\n",
       " 480249,\n",
       " 483025,\n",
       " 485809,\n",
       " 488601,\n",
       " 491401,\n",
       " 494209,\n",
       " 497025,\n",
       " 499849,\n",
       " 502681,\n",
       " 505521,\n",
       " 508369,\n",
       " 511225,\n",
       " 514089,\n",
       " 516961,\n",
       " 519841,\n",
       " 522729,\n",
       " 525625,\n",
       " 528529,\n",
       " 531441,\n",
       " 534361,\n",
       " 537289,\n",
       " 540225,\n",
       " 543169,\n",
       " 546121,\n",
       " 549081,\n",
       " 552049,\n",
       " 555025,\n",
       " 558009,\n",
       " 561001,\n",
       " 564001,\n",
       " 567009,\n",
       " 570025,\n",
       " 573049,\n",
       " 576081,\n",
       " 579121,\n",
       " 582169,\n",
       " 585225,\n",
       " 588289,\n",
       " 591361,\n",
       " 594441,\n",
       " 597529,\n",
       " 600625,\n",
       " 603729,\n",
       " 606841,\n",
       " 609961,\n",
       " 613089,\n",
       " 616225,\n",
       " 619369,\n",
       " 622521,\n",
       " 625681,\n",
       " 628849,\n",
       " 632025,\n",
       " 635209,\n",
       " 638401,\n",
       " 641601,\n",
       " 644809,\n",
       " 648025,\n",
       " 651249,\n",
       " 654481,\n",
       " 657721,\n",
       " 660969,\n",
       " 664225,\n",
       " 667489,\n",
       " 670761,\n",
       " 674041,\n",
       " 677329,\n",
       " 680625,\n",
       " 683929,\n",
       " 687241,\n",
       " 690561,\n",
       " 693889,\n",
       " 697225,\n",
       " 700569,\n",
       " 703921,\n",
       " 707281,\n",
       " 710649,\n",
       " 714025,\n",
       " 717409,\n",
       " 720801,\n",
       " 724201,\n",
       " 727609,\n",
       " 731025,\n",
       " 734449,\n",
       " 737881,\n",
       " 741321,\n",
       " 744769,\n",
       " 748225,\n",
       " 751689,\n",
       " 755161,\n",
       " 758641,\n",
       " 762129,\n",
       " 765625,\n",
       " 769129,\n",
       " 772641,\n",
       " 776161,\n",
       " 779689,\n",
       " 783225,\n",
       " 786769,\n",
       " 790321,\n",
       " 793881,\n",
       " 797449,\n",
       " 801025,\n",
       " 804609,\n",
       " 808201,\n",
       " 811801,\n",
       " 815409,\n",
       " 819025,\n",
       " 822649,\n",
       " 826281,\n",
       " 829921,\n",
       " 833569,\n",
       " 837225,\n",
       " 840889,\n",
       " 844561,\n",
       " 848241,\n",
       " 851929,\n",
       " 855625,\n",
       " 859329,\n",
       " 863041,\n",
       " 866761,\n",
       " 870489,\n",
       " 874225,\n",
       " 877969,\n",
       " 881721,\n",
       " 885481,\n",
       " 889249,\n",
       " 893025,\n",
       " 896809,\n",
       " 900601,\n",
       " 904401,\n",
       " 908209,\n",
       " 912025,\n",
       " 915849,\n",
       " 919681,\n",
       " 923521,\n",
       " 927369,\n",
       " 931225,\n",
       " 935089,\n",
       " 938961,\n",
       " 942841,\n",
       " 946729,\n",
       " 950625,\n",
       " 954529,\n",
       " 958441,\n",
       " 962361,\n",
       " 966289,\n",
       " 970225,\n",
       " 974169,\n",
       " 978121,\n",
       " 982081,\n",
       " 986049,\n",
       " 990025,\n",
       " 994009,\n",
       " 998001]"
      ]
     },
     "execution_count": 255,
     "metadata": {},
     "output_type": "execute_result"
    }
   ],
   "source": [
    "# bigdata = np.arange(100, 1000)\n",
    "\n",
    "bigdata = [x**2 for x in range(101, 1000, 2)]"
   ]
  },
  {
   "cell_type": "markdown",
   "metadata": {},
   "source": [
    "Чему равна медиана массива bigdata?"
   ]
  },
  {
   "cell_type": "code",
   "execution_count": 256,
   "metadata": {},
   "outputs": [
    {
     "data": {
      "text/plain": [
       "302501.0"
      ]
     },
     "execution_count": 256,
     "metadata": {},
     "output_type": "execute_result"
    }
   ],
   "source": [
    "np.median(bigdata)"
   ]
  },
  {
   "cell_type": "markdown",
   "metadata": {},
   "source": [
    "Чему равно стандартное отклонение для массива bigdata? Ответ округлите до целых"
   ]
  },
  {
   "cell_type": "code",
   "execution_count": 258,
   "metadata": {},
   "outputs": [
    {
     "data": {
      "text/plain": [
       "292095.0"
      ]
     },
     "execution_count": 258,
     "metadata": {},
     "output_type": "execute_result"
    }
   ],
   "source": [
    "round(np.std(bigdata))"
   ]
  },
  {
   "cell_type": "markdown",
   "metadata": {},
   "source": [
    "Чему равен коэффициент корреляции между элементами массива bigdata с чётными и нечётными индексами? Введите полученный ответ без изменений и округлений."
   ]
  },
  {
   "cell_type": "code",
   "execution_count": 270,
   "metadata": {},
   "outputs": [
    {
     "data": {
      "text/plain": [
       "array([[1.        , 0.99999973],\n",
       "       [0.99999973, 1.        ]])"
      ]
     },
     "execution_count": 270,
     "metadata": {},
     "output_type": "execute_result"
    }
   ],
   "source": [
    "bigdata = np.array(bigdata)\n",
    "\n",
    "even = []\n",
    "odd = []\n",
    "\n",
    "for n, i in enumerate(bigdata):\n",
    "    if n % 2 == 0:\n",
    "        odd.append(i)\n",
    "    else:\n",
    "        even.append(i)\n",
    "        \n",
    "np.corrcoef(even, odd)"
   ]
  },
  {
   "cell_type": "code",
   "execution_count": null,
   "metadata": {},
   "outputs": [],
   "source": []
  }
 ],
 "metadata": {
  "kernelspec": {
   "display_name": "Python 3",
   "language": "python",
   "name": "python3"
  },
  "language_info": {
   "codemirror_mode": {
    "name": "ipython",
    "version": 3
   },
   "file_extension": ".py",
   "mimetype": "text/x-python",
   "name": "python",
   "nbconvert_exporter": "python",
   "pygments_lexer": "ipython3",
   "version": "3.7.6"
  }
 },
 "nbformat": 4,
 "nbformat_minor": 4
}
