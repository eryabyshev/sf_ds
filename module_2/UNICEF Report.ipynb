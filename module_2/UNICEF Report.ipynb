{
 "cells": [
  {
   "cell_type": "markdown",
   "metadata": {},
   "source": [
    "# Проект 2. Разведывательный анализ данных\n",
    "## Итоговое задание"
   ]
  },
  {
   "cell_type": "markdown",
   "metadata": {},
   "source": [
    "### Содержание\n",
    "- <a href=\"#school\">Атрибут school (аббревиатура школы, в которой учится ученик)</a>\n",
    "- <a href=\"#sex\">Атрибут sex (пол ученика)</a>\n",
    "- <a href=\"#age\">Атрибут age (возраст ученика)</a>\n",
    "- <a href=\"#address\">Атрибут address (тип адреса ученика)</a>\n",
    "- <a href=\"#famsize\">Атрибут famsize (размер семьи)</a>\n",
    "- <a href=\"#Pstatus\">Атрибут Pstatus (статус совместного жилья родителей)</a>\n",
    "- <a href=\"#Medu\">Атрибут Medu (образование матери)</a>\n",
    "- <a href=\"#Fedu\">Атрибут Fedu (работа матери)</a>\n",
    "- <a href=\"#Mjob\">Атрибут Mjob (образование отца)</a>\n",
    "- <a href=\"#Fjob\">Атрибут Fjob (работа отца)</a>\n",
    "- <a href=\"#reason\">Атрибут reason (причина выбора школы)</a>\n",
    "- <a href=\"#guardian\">Атрибут guardian (опекун)</a>\n",
    "- <a href=\"#traveltime\">Атрибут traveltime (время в пути до школы)</a>\n",
    "- <a href=\"#studytime\">Атрибут studytime (время на учёбу помимо школы в неделю)</a>\n",
    "- <a href=\"#failures\">Атрибут failures (количество внеучебных неудач)</a>\n",
    "- <a href=\"#schoolsup\">Атрибут schoolsup (дополнительная образовательная поддержка)</a>\n",
    "- <a href=\"#famsup\">Атрибут famsup (семейная образовательная поддержка)</a>\n",
    "- <a href=\"#paid\">Атрибут paid (дополнительные платные занятия по математике)</a>\n",
    "- <a href=\"#activities\">Атрибут activities (дополнительные внеучебные занятия)</a>\n",
    "- <a href=\"#nursery\">Атрибут nursery (посещал детский сад)</a>\n",
    "- <a href=\"#higher\">Атрибут higher (хочет получить высшее образование)</a>\n",
    "- <a href=\"#internet\">Атрибут internet (наличие интернета дома)</a>\n",
    "- <a href=\"#romantic\">Атрибут romantic (в романтических отношениях)</a>\n",
    "- <a href=\"#famrel\">Атрибут famrel (семейные отношения)</a>\n",
    "- <a href=\"#freetime\">Атрибут freetime (свободное время после школы)</a>\n",
    "- <a href=\"#goout\">Атрибут goout (проведение времени с друзьями)</a>\n",
    "- <a href=\"#health\">Атрибут health (текущее состояние здоровья)</a>\n",
    "- <a href=\"#absences\">Атрибут absences (количество пропущенных занятий)</a>\n",
    "- <a href=\"#score\">Атрибут score (баллы по госэкзамену по математике)</a>"
   ]
  },
  {
   "cell_type": "markdown",
   "metadata": {},
   "source": [
    "### Описание датасета\n",
    "\n",
    "- **school** — аббревиатура школы, в которой учится ученик\n",
    "- **sex** — пол ученика ('F' - женский, 'M' - мужской)\n",
    "- **age** — возраст ученика (от 15 до 22)\n",
    "- **address** — тип адреса ученика ('U' - городской, 'R' - за городом)\n",
    "- **famsize** — размер семьи('LE3' <= 3, 'GT3' >3)\n",
    "- **Pstatus** — статус совместного жилья родителей ('T' - живут вместе 'A' - раздельно)\n",
    "- **Medu** — образование матери (0 - нет, 1 - 4 класса, 2 - 5-9 классы, 3 - среднее специальное или 11 классов, 4 - высшее)\n",
    "- **Fedu** — образование отца (0 - нет, 1 - 4 класса, 2 - 5-9 классы, 3 - среднее специальное или 11 классов, 4 - высшее)\n",
    "- **Mjob** — работа матери ('teacher' - учитель, 'health' - сфера здравоохранения, 'services' - гос служба, 'at_home' - не работает, 'other' - другое)\n",
    "- **Fjob** — работа отца ('teacher' - учитель, 'health' - сфера здравоохранения, 'services' - гос служба, 'at_home' - не работает, 'other' - другое)\n",
    "- **reason** — причина выбора школы ('home' - близость к дому, 'reputation' - репутация школы, 'course' - образовательная программа, 'other' - другое)\n",
    "- **guardian** — опекун ('mother' - мать, 'father' - отец, 'other' - другое)\n",
    "- **traveltime** — время в пути до школы (1 - <15 мин., 2 - 15-30 мин., 3 - 30-60 мин., 4 - >60 мин.)\n",
    "- **studytime** — время на учёбу помимо школы в неделю (1 - <2 часов, 2 - 2-5 часов, 3 - 5-10 часов, 4 - >10 часов)\n",
    "- **failures** — количество внеучебных неудач (n, если 1<=n<3, иначе 0)\n",
    "- **schoolsup** — дополнительная образовательная поддержка (yes или no)\n",
    "- **famsup** — семейная образовательная поддержка (yes или no)\n",
    "- **paid** — дополнительные платные занятия по математике (yes или no)\n",
    "- **activities** — дополнительные внеучебные занятия (yes или no)\n",
    "- **nursery** — посещал детский сад (yes или no)\n",
    "- **higher** — хочет получить высшее образование (yes или no)\n",
    "- **internet** — наличие интернета дома (yes или no)\n",
    "- **romantic** — в романтических отношениях (yes или no)\n",
    "- **famrel** — семейные отношения (от 1 - очень плохо до 5 - очень хорошо)\n",
    "- **freetime** — свободное время после школы (от 1 - очень мало до 5 - очень мого)\n",
    "- **goout** — проведение времени с друзьями (от 1 - очень мало до 5 - очень много)\n",
    "- **health** — текущее состояние здоровья (от 1 - очень плохо до 5 - очень хорошо)\n",
    "- **absences** — количество пропущенных занятий\n",
    "- **score** — баллы по госэкзамену по математике\n"
   ]
  },
  {
   "cell_type": "code",
   "execution_count": 447,
   "metadata": {},
   "outputs": [
    {
     "data": {
      "text/html": [
       "        <script type=\"text/javascript\">\n",
       "        window.PlotlyConfig = {MathJaxConfig: 'local'};\n",
       "        if (window.MathJax) {MathJax.Hub.Config({SVG: {font: \"STIX-Web\"}});}\n",
       "        if (typeof require !== 'undefined') {\n",
       "        require.undef(\"plotly\");\n",
       "        requirejs.config({\n",
       "            paths: {\n",
       "                'plotly': ['https://cdn.plot.ly/plotly-latest.min']\n",
       "            }\n",
       "        });\n",
       "        require(['plotly'], function(Plotly) {\n",
       "            window._Plotly = Plotly;\n",
       "        });\n",
       "        }\n",
       "        </script>\n",
       "        "
      ]
     },
     "metadata": {},
     "output_type": "display_data"
    },
    {
     "data": {
      "text/html": [
       "        <script type=\"text/javascript\">\n",
       "        window.PlotlyConfig = {MathJaxConfig: 'local'};\n",
       "        if (window.MathJax) {MathJax.Hub.Config({SVG: {font: \"STIX-Web\"}});}\n",
       "        if (typeof require !== 'undefined') {\n",
       "        require.undef(\"plotly\");\n",
       "        requirejs.config({\n",
       "            paths: {\n",
       "                'plotly': ['https://cdn.plot.ly/plotly-latest.min']\n",
       "            }\n",
       "        });\n",
       "        require(['plotly'], function(Plotly) {\n",
       "            window._Plotly = Plotly;\n",
       "        });\n",
       "        }\n",
       "        </script>\n",
       "        "
      ]
     },
     "metadata": {},
     "output_type": "display_data"
    },
    {
     "data": {
      "text/html": [
       "<div>\n",
       "<style scoped>\n",
       "    .dataframe tbody tr th:only-of-type {\n",
       "        vertical-align: middle;\n",
       "    }\n",
       "\n",
       "    .dataframe tbody tr th {\n",
       "        vertical-align: top;\n",
       "    }\n",
       "\n",
       "    .dataframe thead th {\n",
       "        text-align: right;\n",
       "    }\n",
       "</style>\n",
       "<table border=\"1\" class=\"dataframe\">\n",
       "  <thead>\n",
       "    <tr style=\"text-align: right;\">\n",
       "      <th></th>\n",
       "      <th>school</th>\n",
       "      <th>sex</th>\n",
       "      <th>age</th>\n",
       "      <th>address</th>\n",
       "      <th>famsize</th>\n",
       "      <th>Pstatus</th>\n",
       "      <th>Medu</th>\n",
       "      <th>Fedu</th>\n",
       "      <th>Mjob</th>\n",
       "      <th>Fjob</th>\n",
       "      <th>...</th>\n",
       "      <th>studytime, granular</th>\n",
       "      <th>higher</th>\n",
       "      <th>internet</th>\n",
       "      <th>romantic</th>\n",
       "      <th>famrel</th>\n",
       "      <th>freetime</th>\n",
       "      <th>goout</th>\n",
       "      <th>health</th>\n",
       "      <th>absences</th>\n",
       "      <th>score</th>\n",
       "    </tr>\n",
       "  </thead>\n",
       "  <tbody>\n",
       "    <tr>\n",
       "      <th>0</th>\n",
       "      <td>GP</td>\n",
       "      <td>F</td>\n",
       "      <td>18</td>\n",
       "      <td>U</td>\n",
       "      <td>NaN</td>\n",
       "      <td>A</td>\n",
       "      <td>4.0</td>\n",
       "      <td>4.0</td>\n",
       "      <td>at_home</td>\n",
       "      <td>teacher</td>\n",
       "      <td>...</td>\n",
       "      <td>-6.0</td>\n",
       "      <td>yes</td>\n",
       "      <td>NaN</td>\n",
       "      <td>no</td>\n",
       "      <td>4.0</td>\n",
       "      <td>3.0</td>\n",
       "      <td>4.0</td>\n",
       "      <td>3.0</td>\n",
       "      <td>6.0</td>\n",
       "      <td>30.0</td>\n",
       "    </tr>\n",
       "    <tr>\n",
       "      <th>1</th>\n",
       "      <td>GP</td>\n",
       "      <td>F</td>\n",
       "      <td>17</td>\n",
       "      <td>U</td>\n",
       "      <td>GT3</td>\n",
       "      <td>NaN</td>\n",
       "      <td>1.0</td>\n",
       "      <td>1.0</td>\n",
       "      <td>at_home</td>\n",
       "      <td>other</td>\n",
       "      <td>...</td>\n",
       "      <td>-6.0</td>\n",
       "      <td>yes</td>\n",
       "      <td>yes</td>\n",
       "      <td>no</td>\n",
       "      <td>5.0</td>\n",
       "      <td>3.0</td>\n",
       "      <td>3.0</td>\n",
       "      <td>3.0</td>\n",
       "      <td>4.0</td>\n",
       "      <td>30.0</td>\n",
       "    </tr>\n",
       "    <tr>\n",
       "      <th>2</th>\n",
       "      <td>GP</td>\n",
       "      <td>F</td>\n",
       "      <td>15</td>\n",
       "      <td>U</td>\n",
       "      <td>LE3</td>\n",
       "      <td>T</td>\n",
       "      <td>1.0</td>\n",
       "      <td>1.0</td>\n",
       "      <td>at_home</td>\n",
       "      <td>other</td>\n",
       "      <td>...</td>\n",
       "      <td>-6.0</td>\n",
       "      <td>yes</td>\n",
       "      <td>yes</td>\n",
       "      <td>NaN</td>\n",
       "      <td>4.0</td>\n",
       "      <td>3.0</td>\n",
       "      <td>2.0</td>\n",
       "      <td>3.0</td>\n",
       "      <td>10.0</td>\n",
       "      <td>50.0</td>\n",
       "    </tr>\n",
       "    <tr>\n",
       "      <th>3</th>\n",
       "      <td>GP</td>\n",
       "      <td>F</td>\n",
       "      <td>15</td>\n",
       "      <td>U</td>\n",
       "      <td>GT3</td>\n",
       "      <td>T</td>\n",
       "      <td>4.0</td>\n",
       "      <td>2.0</td>\n",
       "      <td>health</td>\n",
       "      <td>NaN</td>\n",
       "      <td>...</td>\n",
       "      <td>-9.0</td>\n",
       "      <td>yes</td>\n",
       "      <td>yes</td>\n",
       "      <td>yes</td>\n",
       "      <td>3.0</td>\n",
       "      <td>2.0</td>\n",
       "      <td>2.0</td>\n",
       "      <td>5.0</td>\n",
       "      <td>2.0</td>\n",
       "      <td>75.0</td>\n",
       "    </tr>\n",
       "    <tr>\n",
       "      <th>4</th>\n",
       "      <td>GP</td>\n",
       "      <td>F</td>\n",
       "      <td>16</td>\n",
       "      <td>U</td>\n",
       "      <td>GT3</td>\n",
       "      <td>T</td>\n",
       "      <td>3.0</td>\n",
       "      <td>3.0</td>\n",
       "      <td>other</td>\n",
       "      <td>other</td>\n",
       "      <td>...</td>\n",
       "      <td>-6.0</td>\n",
       "      <td>yes</td>\n",
       "      <td>no</td>\n",
       "      <td>no</td>\n",
       "      <td>4.0</td>\n",
       "      <td>3.0</td>\n",
       "      <td>2.0</td>\n",
       "      <td>5.0</td>\n",
       "      <td>4.0</td>\n",
       "      <td>50.0</td>\n",
       "    </tr>\n",
       "    <tr>\n",
       "      <th>...</th>\n",
       "      <td>...</td>\n",
       "      <td>...</td>\n",
       "      <td>...</td>\n",
       "      <td>...</td>\n",
       "      <td>...</td>\n",
       "      <td>...</td>\n",
       "      <td>...</td>\n",
       "      <td>...</td>\n",
       "      <td>...</td>\n",
       "      <td>...</td>\n",
       "      <td>...</td>\n",
       "      <td>...</td>\n",
       "      <td>...</td>\n",
       "      <td>...</td>\n",
       "      <td>...</td>\n",
       "      <td>...</td>\n",
       "      <td>...</td>\n",
       "      <td>...</td>\n",
       "      <td>...</td>\n",
       "      <td>...</td>\n",
       "      <td>...</td>\n",
       "    </tr>\n",
       "    <tr>\n",
       "      <th>390</th>\n",
       "      <td>MS</td>\n",
       "      <td>M</td>\n",
       "      <td>20</td>\n",
       "      <td>U</td>\n",
       "      <td>LE3</td>\n",
       "      <td>A</td>\n",
       "      <td>2.0</td>\n",
       "      <td>2.0</td>\n",
       "      <td>services</td>\n",
       "      <td>services</td>\n",
       "      <td>...</td>\n",
       "      <td>-6.0</td>\n",
       "      <td>yes</td>\n",
       "      <td>no</td>\n",
       "      <td>no</td>\n",
       "      <td>5.0</td>\n",
       "      <td>5.0</td>\n",
       "      <td>4.0</td>\n",
       "      <td>4.0</td>\n",
       "      <td>212.0</td>\n",
       "      <td>45.0</td>\n",
       "    </tr>\n",
       "    <tr>\n",
       "      <th>391</th>\n",
       "      <td>MS</td>\n",
       "      <td>M</td>\n",
       "      <td>17</td>\n",
       "      <td>U</td>\n",
       "      <td>LE3</td>\n",
       "      <td>T</td>\n",
       "      <td>3.0</td>\n",
       "      <td>1.0</td>\n",
       "      <td>services</td>\n",
       "      <td>services</td>\n",
       "      <td>...</td>\n",
       "      <td>-3.0</td>\n",
       "      <td>yes</td>\n",
       "      <td>yes</td>\n",
       "      <td>no</td>\n",
       "      <td>2.0</td>\n",
       "      <td>4.0</td>\n",
       "      <td>5.0</td>\n",
       "      <td>2.0</td>\n",
       "      <td>3.0</td>\n",
       "      <td>80.0</td>\n",
       "    </tr>\n",
       "    <tr>\n",
       "      <th>392</th>\n",
       "      <td>MS</td>\n",
       "      <td>M</td>\n",
       "      <td>21</td>\n",
       "      <td>R</td>\n",
       "      <td>GT3</td>\n",
       "      <td>T</td>\n",
       "      <td>1.0</td>\n",
       "      <td>1.0</td>\n",
       "      <td>other</td>\n",
       "      <td>other</td>\n",
       "      <td>...</td>\n",
       "      <td>-3.0</td>\n",
       "      <td>NaN</td>\n",
       "      <td>no</td>\n",
       "      <td>no</td>\n",
       "      <td>5.0</td>\n",
       "      <td>5.0</td>\n",
       "      <td>3.0</td>\n",
       "      <td>3.0</td>\n",
       "      <td>3.0</td>\n",
       "      <td>35.0</td>\n",
       "    </tr>\n",
       "    <tr>\n",
       "      <th>393</th>\n",
       "      <td>MS</td>\n",
       "      <td>M</td>\n",
       "      <td>18</td>\n",
       "      <td>R</td>\n",
       "      <td>LE3</td>\n",
       "      <td>T</td>\n",
       "      <td>3.0</td>\n",
       "      <td>2.0</td>\n",
       "      <td>services</td>\n",
       "      <td>other</td>\n",
       "      <td>...</td>\n",
       "      <td>-3.0</td>\n",
       "      <td>yes</td>\n",
       "      <td>yes</td>\n",
       "      <td>no</td>\n",
       "      <td>4.0</td>\n",
       "      <td>4.0</td>\n",
       "      <td>1.0</td>\n",
       "      <td>5.0</td>\n",
       "      <td>0.0</td>\n",
       "      <td>50.0</td>\n",
       "    </tr>\n",
       "    <tr>\n",
       "      <th>394</th>\n",
       "      <td>MS</td>\n",
       "      <td>M</td>\n",
       "      <td>19</td>\n",
       "      <td>U</td>\n",
       "      <td>LE3</td>\n",
       "      <td>T</td>\n",
       "      <td>1.0</td>\n",
       "      <td>1.0</td>\n",
       "      <td>other</td>\n",
       "      <td>at_home</td>\n",
       "      <td>...</td>\n",
       "      <td>-3.0</td>\n",
       "      <td>yes</td>\n",
       "      <td>yes</td>\n",
       "      <td>no</td>\n",
       "      <td>3.0</td>\n",
       "      <td>2.0</td>\n",
       "      <td>3.0</td>\n",
       "      <td>5.0</td>\n",
       "      <td>5.0</td>\n",
       "      <td>45.0</td>\n",
       "    </tr>\n",
       "  </tbody>\n",
       "</table>\n",
       "<p>395 rows × 30 columns</p>\n",
       "</div>"
      ],
      "text/plain": [
       "    school sex  age address famsize Pstatus  Medu  Fedu      Mjob      Fjob  \\\n",
       "0       GP   F   18       U     NaN       A   4.0   4.0   at_home   teacher   \n",
       "1       GP   F   17       U     GT3     NaN   1.0   1.0   at_home     other   \n",
       "2       GP   F   15       U     LE3       T   1.0   1.0   at_home     other   \n",
       "3       GP   F   15       U     GT3       T   4.0   2.0    health       NaN   \n",
       "4       GP   F   16       U     GT3       T   3.0   3.0     other     other   \n",
       "..     ...  ..  ...     ...     ...     ...   ...   ...       ...       ...   \n",
       "390     MS   M   20       U     LE3       A   2.0   2.0  services  services   \n",
       "391     MS   M   17       U     LE3       T   3.0   1.0  services  services   \n",
       "392     MS   M   21       R     GT3       T   1.0   1.0     other     other   \n",
       "393     MS   M   18       R     LE3       T   3.0   2.0  services     other   \n",
       "394     MS   M   19       U     LE3       T   1.0   1.0     other   at_home   \n",
       "\n",
       "     ... studytime, granular higher  internet  romantic  famrel freetime  \\\n",
       "0    ...                -6.0    yes       NaN        no     4.0      3.0   \n",
       "1    ...                -6.0    yes       yes        no     5.0      3.0   \n",
       "2    ...                -6.0    yes       yes       NaN     4.0      3.0   \n",
       "3    ...                -9.0    yes       yes       yes     3.0      2.0   \n",
       "4    ...                -6.0    yes        no        no     4.0      3.0   \n",
       "..   ...                 ...    ...       ...       ...     ...      ...   \n",
       "390  ...                -6.0    yes        no        no     5.0      5.0   \n",
       "391  ...                -3.0    yes       yes        no     2.0      4.0   \n",
       "392  ...                -3.0    NaN        no        no     5.0      5.0   \n",
       "393  ...                -3.0    yes       yes        no     4.0      4.0   \n",
       "394  ...                -3.0    yes       yes        no     3.0      2.0   \n",
       "\n",
       "    goout health absences score  \n",
       "0     4.0    3.0      6.0  30.0  \n",
       "1     3.0    3.0      4.0  30.0  \n",
       "2     2.0    3.0     10.0  50.0  \n",
       "3     2.0    5.0      2.0  75.0  \n",
       "4     2.0    5.0      4.0  50.0  \n",
       "..    ...    ...      ...   ...  \n",
       "390   4.0    4.0    212.0  45.0  \n",
       "391   5.0    2.0      3.0  80.0  \n",
       "392   3.0    3.0      3.0  35.0  \n",
       "393   1.0    5.0      0.0  50.0  \n",
       "394   3.0    5.0      5.0  45.0  \n",
       "\n",
       "[395 rows x 30 columns]"
      ]
     },
     "metadata": {},
     "output_type": "display_data"
    }
   ],
   "source": [
    "import pandas as pd\n",
    "import cufflinks as cf\n",
    "from plotly.offline import download_plotlyjs, init_notebook_mode, plot, iplot\n",
    "import matplotlib.pyplot as plt\n",
    "import seaborn as sns\n",
    "import warnings; warnings.simplefilter('ignore')\n",
    "import numpy as np\n",
    "\n",
    "init_notebook_mode(connected = True)\n",
    "cf.go_offline()\n",
    "\n",
    "%matplotlib inline\n",
    "\n",
    "data = pd.read_csv('stud_math.csv')\n",
    "\n",
    "total_data_size = len(data)\n",
    "\n",
    "display(data)\n",
    "\n",
    "def getAllValuesByColumn(column):\n",
    "    return list(column.value_counts().reset_index()['index'].values)\n",
    "\n",
    "def detValueCounts(column):\n",
    "    display(data[column].value_counts())\n",
    "\n",
    "def buildHist(column):\n",
    "    display(data[column].hist())\n",
    "    \n",
    "def clearData(column, filter=default_filter):\n",
    "    all = getAllValuesByColumn(data[column])\n",
    "    data[column] = data[column].apply(lambda x: x if x in all else None)\n",
    "    \n",
    "def getNoneData(column):\n",
    "    all = getAllValuesByColumn(data[column])\n",
    "    return len(data[~data[column].isin(all)])\n",
    "\n",
    "def printResume(column, mapper, desc):\n",
    "    total = data[column].value_counts().sum()\n",
    "    att = data[column].value_counts().reset_index()\n",
    "\n",
    "    for i in att.iloc():\n",
    "        print(desc, mapper[i['index']], '-', round((int(i[column]) / total) * 100, 2), '%')\n",
    "    \n",
    "    print('Нет данных - ', round((getNoneData(column)/total) * 100, 2), '%')\n",
    "    \n",
    "\n",
    "def doMapperWork(column, mapper, desc):\n",
    "    detValueCounts(column)\n",
    "    clearData(column)\n",
    "    buildHist(column)\n",
    "    printResume(column, mapper, desc)    "
   ]
  },
  {
   "cell_type": "markdown",
   "metadata": {},
   "source": [
    "## Атрибут **school**\n",
    "<a name=\"school\"/>"
   ]
  },
  {
   "cell_type": "code",
   "execution_count": 448,
   "metadata": {},
   "outputs": [
    {
     "data": {
      "text/plain": [
       "<matplotlib.axes._subplots.AxesSubplot at 0x7fcd32691d10>"
      ]
     },
     "execution_count": 448,
     "metadata": {},
     "output_type": "execute_result"
    },
    {
     "data": {
      "image/png": "[encoded data removed]",
      "text/plain": [
       "<Figure size 432x288 with 1 Axes>"
      ]
     },
     "metadata": {
      "needs_background": "light"
     },
     "output_type": "display_data"
    }
   ],
   "source": [
    "data['school'].hist(bins=4)"
   ]
  },
  {
   "cell_type": "markdown",
   "metadata": {},
   "source": [
    "### Вывод по Атрибут **school**"
   ]
  },
  {
   "cell_type": "code",
   "execution_count": 449,
   "metadata": {},
   "outputs": [
    {
     "name": "stdout",
     "output_type": "stream",
     "text": [
      "В школе  GP  учатся  88.35 % от общей массы учеников\n",
      "В школе  MS  учатся  11.65 % от общей массы учеников\n"
     ]
    }
   ],
   "source": [
    "total = data.school.value_counts().sum()\n",
    "school_att = data.school.value_counts().reset_index()\n",
    "school_att.iloc()[0]['index']\n",
    "for i in school_att.iloc():\n",
    "    print('В школе ', i['index'], ' учатся ', round((int(i['school']) / total) * 100, 2), '% от общей массы учеников') \n"
   ]
  },
  {
   "cell_type": "markdown",
   "metadata": {},
   "source": [
    "__То есть в имеющемся датасете представлена выборка из двух школ. Основная масса учеников учится в школе 'GP' - более 88%__"
   ]
  },
  {
   "cell_type": "markdown",
   "metadata": {},
   "source": [
    "## Атрибут **sex**\n",
    "<a name=\"sex\"/>"
   ]
  },
  {
   "cell_type": "code",
   "execution_count": 450,
   "metadata": {},
   "outputs": [
    {
     "data": {
      "text/html": [
       "<div>\n",
       "<style scoped>\n",
       "    .dataframe tbody tr th:only-of-type {\n",
       "        vertical-align: middle;\n",
       "    }\n",
       "\n",
       "    .dataframe tbody tr th {\n",
       "        vertical-align: top;\n",
       "    }\n",
       "\n",
       "    .dataframe thead th {\n",
       "        text-align: right;\n",
       "    }\n",
       "</style>\n",
       "<table border=\"1\" class=\"dataframe\">\n",
       "  <thead>\n",
       "    <tr style=\"text-align: right;\">\n",
       "      <th></th>\n",
       "      <th></th>\n",
       "      <th>count</th>\n",
       "    </tr>\n",
       "    <tr>\n",
       "      <th>sex</th>\n",
       "      <th>school</th>\n",
       "      <th></th>\n",
       "    </tr>\n",
       "  </thead>\n",
       "  <tbody>\n",
       "    <tr>\n",
       "      <th rowspan=\"2\" valign=\"top\">F</th>\n",
       "      <th>GP</th>\n",
       "      <td>183</td>\n",
       "    </tr>\n",
       "    <tr>\n",
       "      <th>MS</th>\n",
       "      <td>25</td>\n",
       "    </tr>\n",
       "    <tr>\n",
       "      <th rowspan=\"2\" valign=\"top\">M</th>\n",
       "      <th>GP</th>\n",
       "      <td>166</td>\n",
       "    </tr>\n",
       "    <tr>\n",
       "      <th>MS</th>\n",
       "      <td>21</td>\n",
       "    </tr>\n",
       "  </tbody>\n",
       "</table>\n",
       "</div>"
      ],
      "text/plain": [
       "            count\n",
       "sex school       \n",
       "F   GP        183\n",
       "    MS         25\n",
       "M   GP        166\n",
       "    MS         21"
      ]
     },
     "metadata": {},
     "output_type": "display_data"
    },
    {
     "data": {
      "image/png": "[encoded data removed]",
      "text/plain": [
       "<Figure size 432x288 with 1 Axes>"
      ]
     },
     "metadata": {
      "needs_background": "light"
     },
     "output_type": "display_data"
    }
   ],
   "source": [
    "sex_att_data = data.pivot_table(values = ['age'], \n",
    "               index = ['sex', 'school'], \n",
    "               aggfunc = 'count')\n",
    "sex_att_data.columns = ['count']\n",
    "data.groupby('sex')['school'].hist(bins=3)\n",
    "display(sex_att_data)"
   ]
  },
  {
   "cell_type": "markdown",
   "metadata": {},
   "source": [
    "### Выводы по атрибуту sex\n",
    "В обеих школах учится примерно поровну мальчиков и девочек."
   ]
  },
  {
   "cell_type": "code",
   "execution_count": 451,
   "metadata": {},
   "outputs": [
    {
     "name": "stdout",
     "output_type": "stream",
     "text": [
      "В школе GP учатся 47.56 и 52.44 девочек\n",
      "В школе MS учатся 45.65 и 54.35 девочек\n"
     ]
    }
   ],
   "source": [
    "temp_sex_att_data = sex_att_data.reset_index()\n",
    "\n",
    "for i in temp_sex_att_data['school'].unique():\n",
    "    s = temp_sex_att_data[temp_sex_att_data.school == i]\n",
    "    m = int(s[s.sex == 'M']['count'])\n",
    "    f = int(s[s.sex == 'F']['count'])\n",
    "\n",
    "    m_p = round((m / (m + f)) * 100, 2)\n",
    "    f_p = round((f / (m + f)) * 100, 2)\n",
    "    \n",
    "    print('В школе', i, 'учатся', m_p, 'и', f_p, 'девочек')\n",
    "  "
   ]
  },
  {
   "cell_type": "markdown",
   "metadata": {},
   "source": [
    "## Атрибут age\n",
    "<a name=\"age\"/>"
   ]
  },
  {
   "cell_type": "code",
   "execution_count": 452,
   "metadata": {},
   "outputs": [
    {
     "data": {
      "text/plain": [
       "<matplotlib.axes._subplots.AxesSubplot at 0x7fcd32498cd0>"
      ]
     },
     "execution_count": 452,
     "metadata": {},
     "output_type": "execute_result"
    },
    {
     "data": {
      "image/png": "[encoded data removed]",
      "text/plain": [
       "<Figure size 432x288 with 1 Axes>"
      ]
     },
     "metadata": {},
     "output_type": "display_data"
    }
   ],
   "source": [
    "sns.set()\n",
    "sns.distplot(data['age'])"
   ]
  },
  {
   "cell_type": "code",
   "execution_count": 453,
   "metadata": {},
   "outputs": [
    {
     "data": {
      "text/html": [
       "<div>\n",
       "<style scoped>\n",
       "    .dataframe tbody tr th:only-of-type {\n",
       "        vertical-align: middle;\n",
       "    }\n",
       "\n",
       "    .dataframe tbody tr th {\n",
       "        vertical-align: top;\n",
       "    }\n",
       "\n",
       "    .dataframe thead th {\n",
       "        text-align: right;\n",
       "    }\n",
       "</style>\n",
       "<table border=\"1\" class=\"dataframe\">\n",
       "  <thead>\n",
       "    <tr style=\"text-align: right;\">\n",
       "      <th></th>\n",
       "      <th>age</th>\n",
       "      <th>count</th>\n",
       "    </tr>\n",
       "  </thead>\n",
       "  <tbody>\n",
       "    <tr>\n",
       "      <th>0</th>\n",
       "      <td>15</td>\n",
       "      <td>82</td>\n",
       "    </tr>\n",
       "    <tr>\n",
       "      <th>1</th>\n",
       "      <td>16</td>\n",
       "      <td>104</td>\n",
       "    </tr>\n",
       "    <tr>\n",
       "      <th>2</th>\n",
       "      <td>17</td>\n",
       "      <td>98</td>\n",
       "    </tr>\n",
       "    <tr>\n",
       "      <th>3</th>\n",
       "      <td>18</td>\n",
       "      <td>82</td>\n",
       "    </tr>\n",
       "    <tr>\n",
       "      <th>4</th>\n",
       "      <td>19</td>\n",
       "      <td>24</td>\n",
       "    </tr>\n",
       "    <tr>\n",
       "      <th>5</th>\n",
       "      <td>20</td>\n",
       "      <td>3</td>\n",
       "    </tr>\n",
       "    <tr>\n",
       "      <th>6</th>\n",
       "      <td>21</td>\n",
       "      <td>1</td>\n",
       "    </tr>\n",
       "    <tr>\n",
       "      <th>7</th>\n",
       "      <td>22</td>\n",
       "      <td>1</td>\n",
       "    </tr>\n",
       "  </tbody>\n",
       "</table>\n",
       "</div>"
      ],
      "text/plain": [
       "   age  count\n",
       "0   15     82\n",
       "1   16    104\n",
       "2   17     98\n",
       "3   18     82\n",
       "4   19     24\n",
       "5   20      3\n",
       "6   21      1\n",
       "7   22      1"
      ]
     },
     "metadata": {},
     "output_type": "display_data"
    },
    {
     "data": {
      "text/plain": [
       "<matplotlib.axes._subplots.AxesSubplot at 0x7fcd31ffa5d0>"
      ]
     },
     "metadata": {},
     "output_type": "display_data"
    },
    {
     "data": {
      "image/png": "[encoded data removed]",
      "text/plain": [
       "<Figure size 432x288 with 1 Axes>"
      ]
     },
     "metadata": {},
     "output_type": "display_data"
    }
   ],
   "source": [
    "age_att = data.groupby(['age']).count()['school'].reset_index()\n",
    "age_att.columns = ['age', 'count']\n",
    "display(age_att)\n",
    "display(sns.boxplot(x = 'age', y = 'school', data = data))"
   ]
  },
  {
   "cell_type": "code",
   "execution_count": 454,
   "metadata": {},
   "outputs": [
    {
     "data": {
      "text/plain": [
       "<matplotlib.axes._subplots.AxesSubplot at 0x7fcd321ec890>"
      ]
     },
     "metadata": {},
     "output_type": "display_data"
    },
    {
     "data": {
      "image/png": "[encoded data removed]",
      "text/plain": [
       "<Figure size 432x288 with 1 Axes>"
      ]
     },
     "metadata": {},
     "output_type": "display_data"
    }
   ],
   "source": [
    "display(sns.boxplot(x = 'age', y = 'sex', data = data))"
   ]
  },
  {
   "cell_type": "markdown",
   "metadata": {},
   "source": [
    "### Вывод по атрибуту age\n",
    "Исходя из полученных графиков можно сделать вывод что для значений age имеются выбросы как для данных скрупированных по школе, так и для данных сгруппированных по полу. Но так как по описанию атрибута __age — возраст ученика (от 15 до 22)__ все значения попадают в указанный интервал, дата сет можно не фильтровать по атрибуту age\n",
    "\n",
    "Основные статистические характеристики:"
   ]
  },
  {
   "cell_type": "code",
   "execution_count": 455,
   "metadata": {},
   "outputs": [
    {
     "name": "stdout",
     "output_type": "stream",
     "text": [
      "count    395.000000\n",
      "mean      16.696203\n",
      "std        1.276043\n",
      "min       15.000000\n",
      "25%       16.000000\n",
      "50%       17.000000\n",
      "75%       18.000000\n",
      "max       22.000000\n",
      "Name: age, dtype: float64\n"
     ]
    }
   ],
   "source": [
    "print(data['age'].describe())"
   ]
  },
  {
   "cell_type": "markdown",
   "metadata": {},
   "source": [
    "Также исходя из полученны результатов по выборке можно сказать что в школе MS в среднем учатся более старшие дети.\n",
    "А возрат и пол никак не коррелируется"
   ]
  },
  {
   "cell_type": "markdown",
   "metadata": {},
   "source": [
    "## Атрибут address\n",
    "<a name=\"address\"/>"
   ]
  },
  {
   "cell_type": "code",
   "execution_count": 456,
   "metadata": {},
   "outputs": [
    {
     "data": {
      "text/plain": [
       "U    295\n",
       "R     83\n",
       "Name: address, dtype: int64"
      ]
     },
     "execution_count": 456,
     "metadata": {},
     "output_type": "execute_result"
    }
   ],
   "source": [
    "data.address.value_counts()"
   ]
  },
  {
   "cell_type": "code",
   "execution_count": 457,
   "metadata": {},
   "outputs": [
    {
     "data": {
      "text/plain": [
       "<matplotlib.axes._subplots.AxesSubplot at 0x7fcd3287d090>"
      ]
     },
     "execution_count": 457,
     "metadata": {},
     "output_type": "execute_result"
    },
    {
     "data": {
      "image/png": "[encoded data removed]",
      "text/plain": [
       "<Figure size 432x288 with 1 Axes>"
      ]
     },
     "metadata": {},
     "output_type": "display_data"
    }
   ],
   "source": [
    "data.address.hist(bins=2)"
   ]
  },
  {
   "cell_type": "code",
   "execution_count": 458,
   "metadata": {},
   "outputs": [
    {
     "name": "stdout",
     "output_type": "stream",
     "text": [
      "В U проживает  78.04 %\n",
      "В R проживает  21.96 %\n"
     ]
    }
   ],
   "source": [
    "total = data.address.value_counts().sum()\n",
    "address_att = data.address.value_counts().reset_index()\n",
    "address_att\n",
    "\n",
    "for i in address_att.iloc():\n",
    "    print('В', i['index'], 'проживает ', round((int(i['address']) / total) * 100, 2), '%')"
   ]
  },
  {
   "cell_type": "code",
   "execution_count": 459,
   "metadata": {},
   "outputs": [
    {
     "data": {
      "text/html": [
       "<div>\n",
       "<style scoped>\n",
       "    .dataframe tbody tr th:only-of-type {\n",
       "        vertical-align: middle;\n",
       "    }\n",
       "\n",
       "    .dataframe tbody tr th {\n",
       "        vertical-align: top;\n",
       "    }\n",
       "\n",
       "    .dataframe thead th {\n",
       "        text-align: right;\n",
       "    }\n",
       "</style>\n",
       "<table border=\"1\" class=\"dataframe\">\n",
       "  <thead>\n",
       "    <tr style=\"text-align: right;\">\n",
       "      <th></th>\n",
       "      <th></th>\n",
       "      <th>count</th>\n",
       "    </tr>\n",
       "    <tr>\n",
       "      <th>school</th>\n",
       "      <th>address</th>\n",
       "      <th></th>\n",
       "    </tr>\n",
       "  </thead>\n",
       "  <tbody>\n",
       "    <tr>\n",
       "      <th rowspan=\"2\" valign=\"top\">GP</th>\n",
       "      <th>R</th>\n",
       "      <td>60</td>\n",
       "    </tr>\n",
       "    <tr>\n",
       "      <th>U</th>\n",
       "      <td>277</td>\n",
       "    </tr>\n",
       "    <tr>\n",
       "      <th rowspan=\"2\" valign=\"top\">MS</th>\n",
       "      <th>R</th>\n",
       "      <td>23</td>\n",
       "    </tr>\n",
       "    <tr>\n",
       "      <th>U</th>\n",
       "      <td>18</td>\n",
       "    </tr>\n",
       "  </tbody>\n",
       "</table>\n",
       "</div>"
      ],
      "text/plain": [
       "                count\n",
       "school address       \n",
       "GP     R           60\n",
       "       U          277\n",
       "MS     R           23\n",
       "       U           18"
      ]
     },
     "metadata": {},
     "output_type": "display_data"
    },
    {
     "name": "stdout",
     "output_type": "stream",
     "text": [
      "Школа: GP\n",
      "В R проживает  17.8 %\n",
      "В U проживает  82.2 %\n",
      "Школа: MS\n",
      "В R проживает  56.1 %\n",
      "В U проживает  43.9 %\n"
     ]
    }
   ],
   "source": [
    "address_att_data = data.pivot_table(values = ['age'], \n",
    "               index = ['school', 'address'], \n",
    "               aggfunc = 'count')\n",
    "address_att_data.columns = ['count']\n",
    "\n",
    "display(address_att_data)\n",
    "\n",
    "address_att_data = address_att_data.reset_index()\n",
    "\n",
    "all_schools = address_att_data['school'].unique()\n",
    "all_address = address_att_data['address'].unique()\n",
    "\n",
    "for s in all_schools:\n",
    "    s_name = str(s)\n",
    "    total_by_school = address_att_data[(address_att_data.school == s_name)]['count'].sum()\n",
    "    print('Школа:', s_name)\n",
    "    for a in all_address:\n",
    "        a_name = str(a)\n",
    "        targer = address_att_data[(address_att_data.school == s_name) & (address_att_data.address == a_name)]\n",
    "        print('В', a_name, 'проживает ', round((int(targer['count']) / total_by_school) * 100, 2), '%')\n",
    "        "
   ]
  },
  {
   "cell_type": "code",
   "execution_count": 460,
   "metadata": {
    "scrolled": true
   },
   "outputs": [
    {
     "data": {
      "text/plain": [
       "array([<matplotlib.axes._subplots.AxesSubplot object at 0x7fcd3208a350>,\n",
       "       <matplotlib.axes._subplots.AxesSubplot object at 0x7fcd31c28e10>],\n",
       "      dtype=object)"
      ]
     },
     "execution_count": 460,
     "metadata": {},
     "output_type": "execute_result"
    },
    {
     "data": {
      "image/png": "[encoded data removed]",
      "text/plain": [
       "<Figure size 432x288 with 2 Axes>"
      ]
     },
     "metadata": {},
     "output_type": "display_data"
    }
   ],
   "source": [
    "data.hist(column='address', by='school', bins=3)"
   ]
  },
  {
   "cell_type": "code",
   "execution_count": 461,
   "metadata": {},
   "outputs": [],
   "source": [
    "all_addresses = list(data.address.value_counts().reset_index()['index'].values)\n",
    "\n",
    "def noneAndNanFilter(x):\n",
    "    if x not in all_addresses:\n",
    "        return ''\n",
    "    return x\n",
    "\n",
    "data.address = data.address.astype(str).apply(noneAndNanFilter)\n",
    "none_address = len(data[data.address == ''])"
   ]
  },
  {
   "cell_type": "markdown",
   "metadata": {},
   "source": [
    "### Выводы по атрибуту address\n",
    "\n",
    "Почти 80% всех учащихся проживают в городе. Так как в выборку попало только 11.65 % учащихся в MS, то не стоит обращать внимание на отношение почти 50 на 50 по группировке school и\taddress для школы MS\n",
    "\n",
    "Пустым и отличным от 'U' и 'R' значениям было проставлено значение 'None' имеют"
   ]
  },
  {
   "cell_type": "code",
   "execution_count": 462,
   "metadata": {},
   "outputs": [
    {
     "name": "stdout",
     "output_type": "stream",
     "text": [
      "Нет данных по адресам для :  17  учеников - 4 %\n"
     ]
    }
   ],
   "source": [
    "print('Нет данных по адресам для : ', none_address, ' учеников -' ,round((none_address / total_data_size) * 100), '%')"
   ]
  },
  {
   "cell_type": "markdown",
   "metadata": {},
   "source": [
    "## Атрибут famsize\n",
    "<a name=\"famsize\"/>"
   ]
  },
  {
   "cell_type": "code",
   "execution_count": 463,
   "metadata": {},
   "outputs": [
    {
     "data": {
      "text/plain": [
       "GT3    261\n",
       "LE3    107\n",
       "Name: famsize, dtype: int64"
      ]
     },
     "metadata": {},
     "output_type": "display_data"
    },
    {
     "data": {
      "text/plain": [
       "<matplotlib.axes._subplots.AxesSubplot at 0x7fcd31d89550>"
      ]
     },
     "metadata": {},
     "output_type": "display_data"
    },
    {
     "name": "stdout",
     "output_type": "stream",
     "text": [
      "Численость семьи больше 3 человек - 70.92 %\n",
      "Численость семьи меньше 3 человек - 29.08 %\n",
      "Нет данных -  7.34 %\n"
     ]
    },
    {
     "data": {
      "image/png": "[encoded data removed]",
      "text/plain": [
       "<Figure size 432x288 with 1 Axes>"
      ]
     },
     "metadata": {},
     "output_type": "display_data"
    }
   ],
   "source": [
    "mapper = {\n",
    "    'GT3': 'больше 3 человек',\n",
    "    'LE3': 'меньше 3 человек',\n",
    "}\n",
    "doMapperWork('famsize', mapper, 'Численость семьи')"
   ]
  },
  {
   "cell_type": "markdown",
   "metadata": {},
   "source": [
    "### Вывод по аттрибуту famsize\n",
    "Большая часть учеников проживают в семьях численностью более 3 человек. Также есть пропуски данных около 7%. Эти пропуски были заменены на значение None"
   ]
  },
  {
   "cell_type": "markdown",
   "metadata": {},
   "source": [
    "## Атрибут Pstatus\n",
    "<a name=\"Pstatus\"/>"
   ]
  },
  {
   "cell_type": "code",
   "execution_count": 464,
   "metadata": {},
   "outputs": [
    {
     "data": {
      "text/plain": [
       "T    314\n",
       "A     36\n",
       "Name: Pstatus, dtype: int64"
      ]
     },
     "metadata": {},
     "output_type": "display_data"
    },
    {
     "data": {
      "text/plain": [
       "<matplotlib.axes._subplots.AxesSubplot at 0x7fcd31cb7c10>"
      ]
     },
     "metadata": {},
     "output_type": "display_data"
    },
    {
     "name": "stdout",
     "output_type": "stream",
     "text": [
      "В семьях родители живут вместе - 89.71 %\n",
      "В семьях родители живут раздельно - 10.29 %\n",
      "Нет данных -  12.86 %\n"
     ]
    },
    {
     "data": {
      "image/png": "[encoded data removed]",
      "text/plain": [
       "<Figure size 432x288 with 1 Axes>"
      ]
     },
     "metadata": {},
     "output_type": "display_data"
    }
   ],
   "source": [
    "mapper = {\n",
    "    'T': 'живут вместе',\n",
    "    'A': 'живут раздельно', \n",
    "}\n",
    "\n",
    "doMapperWork('Pstatus', mapper, 'В семьях родители')\n"
   ]
  },
  {
   "cell_type": "markdown",
   "metadata": {},
   "source": [
    "### Вывод по атрибуту Pstatus\n",
    "Большая часть учеников проживают в семьях где родители живут вместе. Также есть пропуски данных около 13%. Эти пропуски были заменены на значение None"
   ]
  },
  {
   "cell_type": "code",
   "execution_count": 465,
   "metadata": {},
   "outputs": [
    {
     "data": {
      "text/html": [
       "<div>\n",
       "<style scoped>\n",
       "    .dataframe tbody tr th:only-of-type {\n",
       "        vertical-align: middle;\n",
       "    }\n",
       "\n",
       "    .dataframe tbody tr th {\n",
       "        vertical-align: top;\n",
       "    }\n",
       "\n",
       "    .dataframe thead th {\n",
       "        text-align: right;\n",
       "    }\n",
       "</style>\n",
       "<table border=\"1\" class=\"dataframe\">\n",
       "  <thead>\n",
       "    <tr style=\"text-align: right;\">\n",
       "      <th></th>\n",
       "      <th></th>\n",
       "      <th>count</th>\n",
       "    </tr>\n",
       "    <tr>\n",
       "      <th>famsize</th>\n",
       "      <th>Pstatus</th>\n",
       "      <th></th>\n",
       "    </tr>\n",
       "  </thead>\n",
       "  <tbody>\n",
       "    <tr>\n",
       "      <th rowspan=\"2\" valign=\"top\">GT3</th>\n",
       "      <th>A</th>\n",
       "      <td>20</td>\n",
       "    </tr>\n",
       "    <tr>\n",
       "      <th>T</th>\n",
       "      <td>213</td>\n",
       "    </tr>\n",
       "    <tr>\n",
       "      <th rowspan=\"2\" valign=\"top\">LE3</th>\n",
       "      <th>A</th>\n",
       "      <td>13</td>\n",
       "    </tr>\n",
       "    <tr>\n",
       "      <th>T</th>\n",
       "      <td>81</td>\n",
       "    </tr>\n",
       "  </tbody>\n",
       "</table>\n",
       "</div>"
      ],
      "text/plain": [
       "                 count\n",
       "famsize Pstatus       \n",
       "GT3     A           20\n",
       "        T          213\n",
       "LE3     A           13\n",
       "        T           81"
      ]
     },
     "metadata": {},
     "output_type": "display_data"
    },
    {
     "data": {
      "image/png": "[encoded data removed]",
      "text/plain": [
       "<Figure size 432x288 with 1 Axes>"
      ]
     },
     "metadata": {},
     "output_type": "display_data"
    }
   ],
   "source": [
    "table = data.pivot_table(values = ['age'], \n",
    "               index = ['famsize', 'Pstatus'], \n",
    "               aggfunc = 'count')\n",
    "table.columns = ['count']\n",
    "data.groupby('famsize')['Pstatus'].hist(bins=3)\n",
    "display(table)"
   ]
  },
  {
   "cell_type": "markdown",
   "metadata": {},
   "source": [
    "Также можно заметить что в семьях численностью более 3 человек, родители живут вместе чаще"
   ]
  },
  {
   "cell_type": "markdown",
   "metadata": {},
   "source": [
    "## Атрибут Medu\n",
    "<a name=\"Medu\"/>\n",
    "\n",
    "- 0 - нет\n",
    "- 1 - 4 класса \n",
    "- 2 - 5-9 классы, \n",
    "- 3 - среднее специальное или 11 классов, \n",
    "- 4 - высшее"
   ]
  },
  {
   "cell_type": "code",
   "execution_count": 466,
   "metadata": {},
   "outputs": [
    {
     "data": {
      "text/plain": [
       "4.0    131\n",
       "2.0    102\n",
       "3.0     97\n",
       "1.0     59\n",
       "0.0      3\n",
       "Name: Medu, dtype: int64"
      ]
     },
     "metadata": {},
     "output_type": "display_data"
    },
    {
     "data": {
      "text/plain": [
       "<matplotlib.axes._subplots.AxesSubplot at 0x7fcd31b1f350>"
      ]
     },
     "metadata": {},
     "output_type": "display_data"
    },
    {
     "name": "stdout",
     "output_type": "stream",
     "text": [
      "Образование матери высшее образование - 33.42 %\n",
      "Образование матери 5-9 классы - 26.02 %\n",
      "Образование матери среднее специальное или 11 классов - 24.74 %\n",
      "Образование матери 4 класса - 15.05 %\n",
      "Образование матери нет образования - 0.77 %\n",
      "Нет данных -  0.77 %\n"
     ]
    },
    {
     "data": {
      "image/png": "[encoded data removed]",
      "text/plain": [
       "<Figure size 432x288 with 1 Axes>"
      ]
     },
     "metadata": {},
     "output_type": "display_data"
    }
   ],
   "source": [
    "mapper = {\n",
    "    0.0 : 'нет образования',\n",
    "    1.0 : '4 класса',\n",
    "    2.0 : '5-9 классы',\n",
    "    3.0 : 'среднее специальное или 11 классов',\n",
    "    4.0 : 'высшее образование',\n",
    "}\n",
    "\n",
    "doMapperWork('Medu', mapper, 'Образование матери')"
   ]
  },
  {
   "cell_type": "markdown",
   "metadata": {},
   "source": [
    "### Вывод по атрибуту Medu\n",
    "\n",
    "Больше половины матерей имеею среднее специальное или закончиди 11 классов школы, около 1/3 от всех матерей в выборке имеют высшее образование\n",
    "Пропущенных данных меньше 1%\n"
   ]
  },
  {
   "cell_type": "markdown",
   "metadata": {},
   "source": [
    "## Атрибут Fedu\n",
    "<a name=\"Fedu\"/>\n",
    "\n",
    "- 0 - нет\n",
    "- 1 - 4 класса \n",
    "- 2 - 5-9 классы, \n",
    "- 3 - среднее специальное или 11 классов, \n",
    "- 4 - высшее"
   ]
  },
  {
   "cell_type": "code",
   "execution_count": 467,
   "metadata": {},
   "outputs": [
    {
     "data": {
      "text/plain": [
       "<matplotlib.axes._subplots.AxesSubplot at 0x7fcd3757b3d0>"
      ]
     },
     "metadata": {},
     "output_type": "display_data"
    },
    {
     "data": {
      "image/png": "[encoded data removed]",
      "text/plain": [
       "<Figure size 432x288 with 1 Axes>"
      ]
     },
     "metadata": {},
     "output_type": "display_data"
    }
   ],
   "source": [
    "buildHist('Fedu')"
   ]
  },
  {
   "cell_type": "code",
   "execution_count": 468,
   "metadata": {
    "scrolled": true
   },
   "outputs": [
    {
     "data": {
      "text/plain": [
       "<matplotlib.axes._subplots.AxesSubplot at 0x7fcd319c7110>"
      ]
     },
     "metadata": {},
     "output_type": "display_data"
    },
    {
     "data": {
      "image/png": "[encoded data removed]",
      "text/plain": [
       "<Figure size 432x288 with 1 Axes>"
      ]
     },
     "metadata": {},
     "output_type": "display_data"
    }
   ],
   "source": [
    "mapper = {\n",
    "    0.0 : 'нет образования',\n",
    "    1.0 : '4 класса',\n",
    "    2.0 : '5-9 классы',\n",
    "    3.0 : 'среднее специальное или 11 классов',\n",
    "    4.0 : 'высшее образование',\n",
    "    None : 'нет данных'\n",
    "}\n",
    "\n",
    "display(sns.boxplot(x = 'age', y = 'Fedu', data = data))"
   ]
  },
  {
   "cell_type": "code",
   "execution_count": 469,
   "metadata": {},
   "outputs": [
    {
     "name": "stdout",
     "output_type": "stream",
     "text": [
      "Образование отца 5-9 классы - 28.65 %\n",
      "Образование отца среднее специальное или 11 классов - 25.95 %\n",
      "Образование отца высшее образование - 23.78 %\n",
      "Образование отца 4 класса - 21.08 %\n",
      "Образование отца нет образования - 0.54 %\n",
      "Нет данных -  6.76 %\n"
     ]
    }
   ],
   "source": [
    "def feduFilter(x):\n",
    "    if(x not in all or x == 40):\n",
    "        return None\n",
    "    else:\n",
    "        return x\n",
    "    \n",
    "all = getAllValuesByColumn(data['Fedu'])\n",
    "data['Fedu'] = data['Fedu'].apply(lambda x: None if x not in all or x == 40  else x)\n",
    "\n",
    "printResume('Fedu', mapper, 'Образование отца')"
   ]
  },
  {
   "cell_type": "markdown",
   "metadata": {},
   "source": [
    "### Вывод по атрибуту Fedu\n",
    "В датасете был есть выброс, он был (40.0), он был замене на None.\n",
    "Как и случае с образованием матерей, у отцов также более половины человек имеет среднее специальное или 11 классов."
   ]
  },
  {
   "cell_type": "markdown",
   "metadata": {},
   "source": [
    "## Атрибут Mjob\n",
    "<a name=\"Mjob\"/>\n",
    "\n",
    " - teacher' - учитель, \n",
    " - 'health' - сфера здравоохранения, \n",
    " - 'services' - гос служба, \n",
    " - 'at_home' - не работает, \n",
    " - 'other' - другое"
   ]
  },
  {
   "cell_type": "code",
   "execution_count": 470,
   "metadata": {},
   "outputs": [
    {
     "data": {
      "text/plain": [
       "other       133\n",
       "services     98\n",
       "at_home      58\n",
       "teacher      55\n",
       "health       32\n",
       "Name: Mjob, dtype: int64"
      ]
     },
     "metadata": {},
     "output_type": "display_data"
    },
    {
     "data": {
      "text/plain": [
       "<matplotlib.axes._subplots.AxesSubplot at 0x7fcd3192d410>"
      ]
     },
     "metadata": {},
     "output_type": "display_data"
    },
    {
     "name": "stdout",
     "output_type": "stream",
     "text": [
      "Работа матери другое - 35.37 %\n",
      "Работа матери гос служба - 26.06 %\n",
      "Работа матери не работает - 15.43 %\n",
      "Работа матери учитель - 14.63 %\n",
      "Работа матери сфера здравоохранения - 8.51 %\n",
      "Нет данных -  5.05 %\n"
     ]
    },
    {
     "data": {
      "image/png": "[encoded data removed]",
      "text/plain": [
       "<Figure size 432x288 with 1 Axes>"
      ]
     },
     "metadata": {},
     "output_type": "display_data"
    }
   ],
   "source": [
    "mapper = {\n",
    "    'teacher': 'учитель',\n",
    "    'health':  'сфера здравоохранения',\n",
    "    'services': 'гос служба',\n",
    "    'at_home':  'не работает',\n",
    "    'other':  'другое',\n",
    "}\n",
    "\n",
    "doMapperWork('Mjob', mapper, 'Работа матери')"
   ]
  },
  {
   "cell_type": "markdown",
   "metadata": {},
   "source": [
    "### Вывод по атрибуту Mjob\n",
    "\n",
    "По данным сложно сделать какой то вывод, есть пропуски около 5%"
   ]
  },
  {
   "cell_type": "markdown",
   "metadata": {},
   "source": [
    "## Атрибут Fjob\n",
    "<a name=\"Fjob\"/>\n",
    "\n",
    " - teacher' - учитель, \n",
    " - 'health' - сфера здравоохранения, \n",
    " - 'services' - гос служба, \n",
    " - 'at_home' - не работает, \n",
    " - 'other' - другое"
   ]
  },
  {
   "cell_type": "code",
   "execution_count": 471,
   "metadata": {},
   "outputs": [
    {
     "data": {
      "text/plain": [
       "other       197\n",
       "services    102\n",
       "teacher      29\n",
       "at_home      16\n",
       "health       15\n",
       "Name: Fjob, dtype: int64"
      ]
     },
     "metadata": {},
     "output_type": "display_data"
    },
    {
     "data": {
      "text/plain": [
       "<matplotlib.axes._subplots.AxesSubplot at 0x7fcd318aba90>"
      ]
     },
     "metadata": {},
     "output_type": "display_data"
    },
    {
     "name": "stdout",
     "output_type": "stream",
     "text": [
      "Работа отца другое - 54.87 %\n",
      "Работа отца гос служба - 28.41 %\n",
      "Работа отца учитель - 8.08 %\n",
      "Работа отца не работает - 4.46 %\n",
      "Работа отца сфера здравоохранения - 4.18 %\n",
      "Нет данных -  10.03 %\n"
     ]
    },
    {
     "data": {
      "image/png": "[encoded data removed]",
      "text/plain": [
       "<Figure size 432x288 with 1 Axes>"
      ]
     },
     "metadata": {},
     "output_type": "display_data"
    }
   ],
   "source": [
    "mapper = {\n",
    "    'teacher': 'учитель',\n",
    "    'health':  'сфера здравоохранения',\n",
    "    'services': 'гос служба',\n",
    "    'at_home':  'не работает',\n",
    "    'other':  'другое',\n",
    "}\n",
    "\n",
    "\n",
    "doMapperWork('Fjob', mapper, 'Работа отца')"
   ]
  },
  {
   "cell_type": "markdown",
   "metadata": {},
   "source": [
    "### Вывод по атрибуту Fjob\n",
    "\n",
    "Как и в случае с Mjob сложно сделать какой либо вывод, но большая часть относится к other. Также отсутствует около 10% данных."
   ]
  },
  {
   "cell_type": "markdown",
   "metadata": {},
   "source": [
    "## Атрибут reason\n",
    "<a name=\"reason\"/>\n",
    "\n",
    " - 'home' - близость к дому, \n",
    " - 'reputation' - репутация школы, \n",
    " - 'course' - образовательная программа, \n",
    " - 'other' - другое"
   ]
  },
  {
   "cell_type": "code",
   "execution_count": 472,
   "metadata": {},
   "outputs": [
    {
     "data": {
      "text/plain": [
       "course        137\n",
       "home          104\n",
       "reputation    103\n",
       "other          34\n",
       "Name: reason, dtype: int64"
      ]
     },
     "metadata": {},
     "output_type": "display_data"
    },
    {
     "data": {
      "text/plain": [
       "<matplotlib.axes._subplots.AxesSubplot at 0x7fcd319750d0>"
      ]
     },
     "metadata": {},
     "output_type": "display_data"
    },
    {
     "name": "stdout",
     "output_type": "stream",
     "text": [
      "Причина выбора школы образовательная программа - 36.24 %\n",
      "Причина выбора школы близость к дому - 27.51 %\n",
      "Причина выбора школы репутация школы - 27.25 %\n",
      "Причина выбора школы другоу - 8.99 %\n",
      "Нет данных -  4.5 %\n"
     ]
    },
    {
     "data": {
      "image/png": "[encoded data removed]",
      "text/plain": [
       "<Figure size 432x288 with 1 Axes>"
      ]
     },
     "metadata": {},
     "output_type": "display_data"
    }
   ],
   "source": [
    "mapper = {\n",
    "    'home': 'близость к дому',\n",
    "    'reputation': 'репутация школы',\n",
    "    'course': 'образовательная программа',\n",
    "    'other': 'другоу'\n",
    "}\n",
    "\n",
    "\n",
    "doMapperWork('reason', mapper, 'Причина выбора школы')"
   ]
  },
  {
   "cell_type": "markdown",
   "metadata": {},
   "source": [
    "### Вывод по атрибуту reason\n",
    "Судя по данным около 1/3 родителей выбрали школу исходя из образовательной программы."
   ]
  },
  {
   "cell_type": "markdown",
   "metadata": {},
   "source": [
    "## Атрибут guardian\n",
    "<a name=\"guardian\"/>\n",
    "\n",
    "- 'mother' - мать, \n",
    "- 'father' - отец, \n",
    "- 'other' - другое"
   ]
  },
  {
   "cell_type": "code",
   "execution_count": 473,
   "metadata": {},
   "outputs": [
    {
     "data": {
      "text/plain": [
       "mother    250\n",
       "father     86\n",
       "other      28\n",
       "Name: guardian, dtype: int64"
      ]
     },
     "metadata": {},
     "output_type": "display_data"
    },
    {
     "data": {
      "text/plain": [
       "<matplotlib.axes._subplots.AxesSubplot at 0x7fcd319c7ad0>"
      ]
     },
     "metadata": {},
     "output_type": "display_data"
    },
    {
     "name": "stdout",
     "output_type": "stream",
     "text": [
      "Опекун мать - 68.68 %\n",
      "Опекун отец - 23.63 %\n",
      "Опекун другое - 7.69 %\n",
      "Нет данных -  8.52 %\n"
     ]
    },
    {
     "data": {
      "image/png": "[encoded data removed]",
      "text/plain": [
       "<Figure size 432x288 with 1 Axes>"
      ]
     },
     "metadata": {},
     "output_type": "display_data"
    }
   ],
   "source": [
    "mapper = {\n",
    "    'mother' : 'мать', \n",
    "    'father' : 'отец', \n",
    "    'other'  : 'другое'\n",
    "}\n",
    "\n",
    "\n",
    "doMapperWork('guardian', mapper, 'Опекун')"
   ]
  },
  {
   "cell_type": "markdown",
   "metadata": {},
   "source": [
    "### Вывод по атрибуту guardian\n",
    "Большая часть учащихся, около 70% сказали что из основной опекун мать, но около 9% данных нет"
   ]
  },
  {
   "cell_type": "markdown",
   "metadata": {},
   "source": [
    "## Атрибут traveltime\n",
    "<a name=\"traveltime\"/>\n",
    "\n",
    "- 1 - <15 мин., \n",
    "- 2 - 15-30 мин., \n",
    "- 3 - 30-60 мин., \n",
    "- 4 - >60 мин."
   ]
  },
  {
   "cell_type": "code",
   "execution_count": 474,
   "metadata": {},
   "outputs": [
    {
     "data": {
      "text/plain": [
       "1.0    242\n",
       "2.0     96\n",
       "3.0     22\n",
       "4.0      7\n",
       "Name: traveltime, dtype: int64"
      ]
     },
     "metadata": {},
     "output_type": "display_data"
    },
    {
     "data": {
      "text/plain": [
       "<matplotlib.axes._subplots.AxesSubplot at 0x7fcd31d893d0>"
      ]
     },
     "metadata": {},
     "output_type": "display_data"
    },
    {
     "name": "stdout",
     "output_type": "stream",
     "text": [
      "Время в пути до школы <15 мин. - 65.94 %\n",
      "Время в пути до школы 15-30 мин. - 26.16 %\n",
      "Время в пути до школы 30-60 мин. - 5.99 %\n",
      "Время в пути до школы  >60 мин. - 1.91 %\n",
      "Нет данных -  7.63 %\n"
     ]
    },
    {
     "data": {
      "image/png": "[encoded data removed]",
      "text/plain": [
       "<Figure size 432x288 with 1 Axes>"
      ]
     },
     "metadata": {},
     "output_type": "display_data"
    }
   ],
   "source": [
    "mapper = {\n",
    "    1: '<15 мин.',\n",
    "    2: '15-30 мин.',\n",
    "    3: '30-60 мин.',\n",
    "    4: ' >60 мин.'\n",
    "}\n",
    "\n",
    "doMapperWork('traveltime', mapper, 'Время в пути до школы')"
   ]
  },
  {
   "cell_type": "markdown",
   "metadata": {},
   "source": [
    "### Вывод по атрибуту traveltime\n",
    "Большая часть студентов добирается до школы до 15 минут. Но достаточно большая часть данных отсутствует 8%"
   ]
  },
  {
   "cell_type": "markdown",
   "metadata": {},
   "source": [
    "## Атрибут studytime\n",
    "<a name=\"studytime\"/>\n",
    "\n",
    "- 1 - <2 часов, \n",
    "- 2 - 2-5 часов, \n",
    "- 3 - 5-10 часов, \n",
    "- 4 - >10 часов"
   ]
  },
  {
   "cell_type": "code",
   "execution_count": 475,
   "metadata": {},
   "outputs": [
    {
     "data": {
      "text/plain": [
       "2.0    194\n",
       "1.0    103\n",
       "3.0     64\n",
       "4.0     27\n",
       "Name: studytime, dtype: int64"
      ]
     },
     "metadata": {},
     "output_type": "display_data"
    },
    {
     "data": {
      "text/plain": [
       "<matplotlib.axes._subplots.AxesSubplot at 0x7fcd31eaa110>"
      ]
     },
     "metadata": {},
     "output_type": "display_data"
    },
    {
     "name": "stdout",
     "output_type": "stream",
     "text": [
      "Время на учёбу помимо школы в неделю 2-5 часов - 50.0 %\n",
      "Время на учёбу помимо школы в неделю <2 часов - 26.55 %\n",
      "Время на учёбу помимо школы в неделю 5-10 часов - 16.49 %\n",
      "Время на учёбу помимо школы в неделю >10 часов - 6.96 %\n",
      "Нет данных -  1.8 %\n"
     ]
    },
    {
     "data": {
      "image/png": "[encoded data removed]",
      "text/plain": [
       "<Figure size 432x288 with 1 Axes>"
      ]
     },
     "metadata": {},
     "output_type": "display_data"
    }
   ],
   "source": [
    "mapper = {\n",
    "    1 : '<2 часов',\n",
    "    2 : '2-5 часов',\n",
    "    3 : '5-10 часов',\n",
    "    4 : '>10 часов'\n",
    "}\n",
    "\n",
    "doMapperWork('studytime', mapper, 'Время на учёбу помимо школы в неделю')"
   ]
  },
  {
   "cell_type": "markdown",
   "metadata": {},
   "source": [
    "### Вывод по атрибут studytime\n",
    "\n",
    "Около половины всех учеников тратят от 2 до 5 часов на учебу помимо школы в неделю, при этом около 1/4 менее 2 часов"
   ]
  },
  {
   "cell_type": "markdown",
   "metadata": {},
   "source": [
    "## Атрибут failures\n",
    "<a name=\"failures\"/>\n",
    "\n",
    "количество внеучебных неудач (n, если 1<=n<3, иначе 0)"
   ]
  },
  {
   "cell_type": "code",
   "execution_count": 478,
   "metadata": {},
   "outputs": [
    {
     "data": {
      "text/plain": [
       "0.0    293\n",
       "1.0     49\n",
       "2.0     16\n",
       "3.0     15\n",
       "Name: failures, dtype: int64"
      ]
     },
     "metadata": {},
     "output_type": "display_data"
    },
    {
     "data": {
      "text/plain": [
       "<matplotlib.axes._subplots.AxesSubplot at 0x7fcd329c6f90>"
      ]
     },
     "metadata": {},
     "output_type": "display_data"
    },
    {
     "data": {
      "image/png": "[encoded data removed]",
      "text/plain": [
       "<Figure size 432x288 with 1 Axes>"
      ]
     },
     "metadata": {},
     "output_type": "display_data"
    }
   ],
   "source": [
    "detValueCounts('failures')\n",
    "buildHist('failures')\n",
    "all = getAllValuesByColumn(data['failures'])\n",
    "\n",
    "def filter(x):\n",
    "    if(x not in all):\n",
    "        return None\n",
    "    if(x > 3 or x < 1):\n",
    "        return 0\n",
    "    return x\n",
    "\n",
    "data['failures'] = data['failures'].apply(filter)"
   ]
  },
  {
   "cell_type": "code",
   "execution_count": 479,
   "metadata": {},
   "outputs": [
    {
     "data": {
      "text/plain": [
       "<matplotlib.axes._subplots.AxesSubplot at 0x7fcd3216b9d0>"
      ]
     },
     "metadata": {},
     "output_type": "display_data"
    },
    {
     "data": {
      "image/png": "[encoded data removed]",
      "text/plain": [
       "<Figure size 432x288 with 1 Axes>"
      ]
     },
     "metadata": {},
     "output_type": "display_data"
    }
   ],
   "source": [
    "buildHist('failures')"
   ]
  },
  {
   "cell_type": "code",
   "execution_count": 486,
   "metadata": {},
   "outputs": [
    {
     "name": "stdout",
     "output_type": "stream",
     "text": [
      "Количество внеучебных неудач 0.0 - 78.55 %\n",
      "Количество внеучебных неудач 1.0 - 13.14 %\n",
      "Количество внеучебных неудач 2.0 - 4.29 %\n",
      "Количество внеучебных неудач 3.0 - 4.02 %\n",
      "Нет данных -  5.9 %\n"
     ]
    }
   ],
   "source": [
    "mapper = {}\n",
    "\n",
    "for i in getAllValuesByColumn(data['failures']):\n",
    "    mapper[i] = str(i)\n",
    "    \n",
    "printResume('failures', mapper, 'Количество внеучебных неудач')"
   ]
  },
  {
   "cell_type": "code",
   "execution_count": 487,
   "metadata": {},
   "outputs": [
    {
     "data": {
      "text/plain": [
       "<matplotlib.axes._subplots.AxesSubplot at 0x7fcd321f6750>"
      ]
     },
     "metadata": {},
     "output_type": "display_data"
    },
    {
     "data": {
      "image/png": "[encoded data removed]",
      "text/plain": [
       "<Figure size 432x288 with 1 Axes>"
      ]
     },
     "metadata": {},
     "output_type": "display_data"
    }
   ],
   "source": [
    "display(sns.boxplot(x = 'age', y = 'failures', data = data))"
   ]
  },
  {
   "cell_type": "markdown",
   "metadata": {},
   "source": [
    "### Вывод по атрибуту failures\n",
    "Судя по данным внеучебные неудачи начинаются после 19 лет."
   ]
  },
  {
   "cell_type": "markdown",
   "metadata": {},
   "source": [
    "## Атрибут schoolsup\n",
    "<a name=\"schoolsup\"/>\n",
    "\n",
    "дополнительная образовательная поддержка (yes или no)"
   ]
  },
  {
   "cell_type": "code",
   "execution_count": 491,
   "metadata": {},
   "outputs": [
    {
     "data": {
      "text/plain": [
       "no     335\n",
       "yes     51\n",
       "Name: schoolsup, dtype: int64"
      ]
     },
     "metadata": {},
     "output_type": "display_data"
    },
    {
     "data": {
      "text/plain": [
       "<matplotlib.axes._subplots.AxesSubplot at 0x7fcd31dc5710>"
      ]
     },
     "metadata": {},
     "output_type": "display_data"
    },
    {
     "name": "stdout",
     "output_type": "stream",
     "text": [
      "Дополнительная образовательная поддержка Нет - 86.79 %\n",
      "Дополнительная образовательная поддержка Есть - 13.21 %\n",
      "Нет данных -  2.33 %\n"
     ]
    },
    {
     "data": {
      "image/png": "[encoded data removed]",
      "text/plain": [
       "<Figure size 432x288 with 1 Axes>"
      ]
     },
     "metadata": {},
     "output_type": "display_data"
    }
   ],
   "source": [
    "mapper = {\n",
    "    'yes': 'Есть',\n",
    "    'no' : 'Нет'\n",
    "}\n",
    "\n",
    "doMapperWork('schoolsup', mapper, 'Дополнительная образовательная поддержка')"
   ]
  },
  {
   "cell_type": "markdown",
   "metadata": {},
   "source": [
    "### Вывод по атрибуту schoolsup\n",
    "Основная часть учащихся не имеет дополнительная образовательной поддержки"
   ]
  },
  {
   "cell_type": "markdown",
   "metadata": {},
   "source": [
    "## Атрибут famsup\n",
    "<a name=\"famsup\"/>\n",
    "семейная образовательная поддержка (yes или no)"
   ]
  },
  {
   "cell_type": "code",
   "execution_count": 497,
   "metadata": {},
   "outputs": [
    {
     "data": {
      "text/plain": [
       "yes    219\n",
       "no     137\n",
       "Name: famsup, dtype: int64"
      ]
     },
     "metadata": {},
     "output_type": "display_data"
    },
    {
     "data": {
      "text/plain": [
       "<matplotlib.axes._subplots.AxesSubplot at 0x7fcd34bf15d0>"
      ]
     },
     "metadata": {},
     "output_type": "display_data"
    },
    {
     "name": "stdout",
     "output_type": "stream",
     "text": [
      "Семейная образовательная поддержка Есть - 61.52 %\n",
      "Семейная образовательная поддержка Нет - 38.48 %\n",
      "Нет данных -  10.96 %\n"
     ]
    },
    {
     "data": {
      "image/png": "[encoded data removed]",
      "text/plain": [
       "<Figure size 432x288 with 1 Axes>"
      ]
     },
     "metadata": {},
     "output_type": "display_data"
    }
   ],
   "source": [
    "mapper = {\n",
    "    'yes': 'Есть',\n",
    "    'no' : 'Нет'\n",
    "}\n",
    "\n",
    "doMapperWork('famsup', mapper, 'Семейная образовательная поддержка')"
   ]
  },
  {
   "cell_type": "markdown",
   "metadata": {},
   "source": [
    "### Вывод по Атрибут famsup\n",
    "2/3 студентов имеют семейная образовательная поддержка, но при этом 10% данных нет"
   ]
  },
  {
   "cell_type": "code",
   "execution_count": 498,
   "metadata": {},
   "outputs": [
    {
     "data": {
      "text/plain": [
       "<matplotlib.axes._subplots.AxesSubplot at 0x7fcd31cefed0>"
      ]
     },
     "metadata": {},
     "output_type": "display_data"
    },
    {
     "data": {
      "image/png": "[encoded data removed]",
      "text/plain": [
       "<Figure size 432x288 with 1 Axes>"
      ]
     },
     "metadata": {},
     "output_type": "display_data"
    }
   ],
   "source": [
    "display(sns.boxplot(x = 'age', y = 'schoolsup', data = data))"
   ]
  },
  {
   "cell_type": "code",
   "execution_count": 499,
   "metadata": {},
   "outputs": [
    {
     "data": {
      "text/plain": [
       "<matplotlib.axes._subplots.AxesSubplot at 0x7fcd31a87590>"
      ]
     },
     "metadata": {},
     "output_type": "display_data"
    },
    {
     "data": {
      "image/png": "[encoded data removed]",
      "text/plain": [
       "<Figure size 432x288 with 1 Axes>"
      ]
     },
     "metadata": {},
     "output_type": "display_data"
    }
   ],
   "source": [
    "display(sns.boxplot(x = 'age', y = 'famsup', data = data))"
   ]
  },
  {
   "cell_type": "markdown",
   "metadata": {},
   "source": [
    "Как видно по данным в основном поддержку с обучением получают учащиеся от 15 до 17 лет"
   ]
  },
  {
   "cell_type": "markdown",
   "metadata": {},
   "source": [
    "## Атрибут paid\n",
    "<a name=\"paid\"/>\n",
    "\n",
    "дополнительные платные занятия по математике (yes или no)"
   ]
  },
  {
   "cell_type": "code",
   "execution_count": 500,
   "metadata": {},
   "outputs": [
    {
     "data": {
      "text/plain": [
       "no     200\n",
       "yes    155\n",
       "Name: paid, dtype: int64"
      ]
     },
     "metadata": {},
     "output_type": "display_data"
    },
    {
     "data": {
      "text/plain": [
       "<matplotlib.axes._subplots.AxesSubplot at 0x7fcd31d154d0>"
      ]
     },
     "metadata": {},
     "output_type": "display_data"
    },
    {
     "name": "stdout",
     "output_type": "stream",
     "text": [
      "Дополнительные платные занятия по математике Нет - 56.34 %\n",
      "Дополнительные платные занятия по математике Есть - 43.66 %\n",
      "Нет данных -  11.27 %\n"
     ]
    },
    {
     "data": {
      "image/png": "[encoded data removed]",
      "text/plain": [
       "<Figure size 432x288 with 1 Axes>"
      ]
     },
     "metadata": {},
     "output_type": "display_data"
    }
   ],
   "source": [
    "mapper = {\n",
    "    'yes': 'Есть',\n",
    "    'no' : 'Нет'\n",
    "}\n",
    "\n",
    "doMapperWork('paid', mapper, 'Дополнительные платные занятия по математике')"
   ]
  },
  {
   "cell_type": "markdown",
   "metadata": {},
   "source": [
    "###  Вывод по атрибуту paid"
   ]
  },
  {
   "cell_type": "markdown",
   "metadata": {},
   "source": [
    "Исходя из полученных данных примерно нет данных о 11% учащихся, также можно проверить корреляцию с 'schoolsup', 'famsup'"
   ]
  },
  {
   "cell_type": "code",
   "execution_count": 511,
   "metadata": {},
   "outputs": [
    {
     "data": {
      "text/plain": [
       "<matplotlib.axes._subplots.AxesSubplot at 0x7fcd31990d50>"
      ]
     },
     "execution_count": 511,
     "metadata": {},
     "output_type": "execute_result"
    },
    {
     "data": {
      "image/png": "[encoded data removed]",
      "text/plain": [
       "<Figure size 432x288 with 2 Axes>"
      ]
     },
     "metadata": {},
     "output_type": "display_data"
    }
   ],
   "source": [
    "def trandformToBinar(x):\n",
    "    if x == 'yes':\n",
    "        return 1\n",
    "    if x == 'no':\n",
    "        return 0\n",
    "    return x\n",
    "\n",
    "temp = data[(['schoolsup', 'famsup', 'paid'])]\n",
    "\n",
    "for i in ['schoolsup', 'famsup', 'paid']:\n",
    "    temp[i] = temp[i].apply(trandformToBinar)\n",
    "    \n",
    "correlation = temp.corr()\n",
    "sns.heatmap(correlation, annot = True)\n"
   ]
  },
  {
   "cell_type": "markdown",
   "metadata": {},
   "source": [
    "## Атрибут activities\n",
    "<a name=\"activities\"/>\n",
    "дополнительные внеучебные занятия (yes или no)"
   ]
  },
  {
   "cell_type": "code",
   "execution_count": 512,
   "metadata": {},
   "outputs": [
    {
     "data": {
      "text/plain": [
       "yes    195\n",
       "no     186\n",
       "Name: activities, dtype: int64"
      ]
     },
     "metadata": {},
     "output_type": "display_data"
    },
    {
     "data": {
      "text/plain": [
       "<matplotlib.axes._subplots.AxesSubplot at 0x7fcd32032fd0>"
      ]
     },
     "metadata": {},
     "output_type": "display_data"
    },
    {
     "name": "stdout",
     "output_type": "stream",
     "text": [
      "Дополнительные внеучебные занятия Есть - 51.18 %\n",
      "Дополнительные внеучебные занятия Нет - 48.82 %\n",
      "Нет данных -  3.67 %\n"
     ]
    },
    {
     "data": {
      "image/png": "[encoded data removed]",
      "text/plain": [
       "<Figure size 432x288 with 1 Axes>"
      ]
     },
     "metadata": {},
     "output_type": "display_data"
    }
   ],
   "source": [
    "mapper = {\n",
    "    'yes': 'Есть',\n",
    "    'no' : 'Нет'\n",
    "}\n",
    "\n",
    "doMapperWork('activities', mapper, 'Дополнительные внеучебные занятия')"
   ]
  },
  {
   "cell_type": "markdown",
   "metadata": {},
   "source": [
    "###  Вывод по атрибуту activities\n",
    "Судя по данным выборки 1/2 учащихся имеет дополнительные внеучебные занятия. Также проверим корреляцию с 'schoolsup', 'famsup', 'paid'"
   ]
  },
  {
   "cell_type": "code",
   "execution_count": 513,
   "metadata": {},
   "outputs": [
    {
     "data": {
      "text/plain": [
       "<matplotlib.axes._subplots.AxesSubplot at 0x7fcd3174d3d0>"
      ]
     },
     "execution_count": 513,
     "metadata": {},
     "output_type": "execute_result"
    },
    {
     "data": {
      "image/png": "[encoded data removed]",
      "text/plain": [
       "<Figure size 432x288 with 2 Axes>"
      ]
     },
     "metadata": {},
     "output_type": "display_data"
    }
   ],
   "source": [
    "temp = data[(['schoolsup', 'famsup', 'paid', 'activities'])]\n",
    "\n",
    "for i in ['schoolsup', 'famsup', 'paid', 'activities']:\n",
    "    temp[i] = temp[i].apply(trandformToBinar)\n",
    "    \n",
    "correlation = temp.corr()\n",
    "sns.heatmap(correlation, annot = True)"
   ]
  },
  {
   "cell_type": "markdown",
   "metadata": {},
   "source": [
    "## Атрибут nursery\n",
    "<a name=\"nursery\"/>\n",
    "\n",
    "посещал детский сад (yes или no)"
   ]
  },
  {
   "cell_type": "code",
   "execution_count": 514,
   "metadata": {},
   "outputs": [
    {
     "data": {
      "text/plain": [
       "yes    300\n",
       "no      79\n",
       "Name: nursery, dtype: int64"
      ]
     },
     "metadata": {},
     "output_type": "display_data"
    },
    {
     "data": {
      "text/plain": [
       "<matplotlib.axes._subplots.AxesSubplot at 0x7fcd316f69d0>"
      ]
     },
     "metadata": {},
     "output_type": "display_data"
    },
    {
     "name": "stdout",
     "output_type": "stream",
     "text": [
      "Посещал детский сад Да - 79.16 %\n",
      "Посещал детский сад Нет - 20.84 %\n",
      "Нет данных -  4.22 %\n"
     ]
    },
    {
     "data": {
      "image/png": "[encoded data removed]",
      "text/plain": [
       "<Figure size 432x288 with 1 Axes>"
      ]
     },
     "metadata": {},
     "output_type": "display_data"
    }
   ],
   "source": [
    "mapper = {\n",
    "    'yes': 'Да',\n",
    "    'no' : 'Нет'\n",
    "}\n",
    "\n",
    "doMapperWork('nursery', mapper, 'Посещал детский сад')"
   ]
  },
  {
   "cell_type": "markdown",
   "metadata": {},
   "source": [
    "###  Вывод по атрибуту nursery\n",
    "\n",
    "Из представленной выборки видно что 80% всех учащихся посещали детский сад"
   ]
  },
  {
   "cell_type": "markdown",
   "metadata": {},
   "source": [
    "## Атрибут higher\n",
    "<a name=\"higher\"/>\n",
    "\n",
    "хочет получить высшее образование (yes или no)"
   ]
  },
  {
   "cell_type": "code",
   "execution_count": 515,
   "metadata": {},
   "outputs": [
    {
     "data": {
      "text/plain": [
       "yes    356\n",
       "no      19\n",
       "Name: higher, dtype: int64"
      ]
     },
     "metadata": {},
     "output_type": "display_data"
    },
    {
     "data": {
      "text/plain": [
       "<matplotlib.axes._subplots.AxesSubplot at 0x7fcd31672650>"
      ]
     },
     "metadata": {},
     "output_type": "display_data"
    },
    {
     "name": "stdout",
     "output_type": "stream",
     "text": [
      "Хочет получить высшее образование Да - 94.93 %\n",
      "Хочет получить высшее образование Нет - 5.07 %\n",
      "Нет данных -  5.33 %\n"
     ]
    },
    {
     "data": {
      "image/png": "[encoded data removed]",
      "text/plain": [
       "<Figure size 432x288 with 1 Axes>"
      ]
     },
     "metadata": {},
     "output_type": "display_data"
    }
   ],
   "source": [
    "mapper = {\n",
    "    'yes': 'Да',\n",
    "    'no' : 'Нет'\n",
    "}\n",
    "\n",
    "doMapperWork('higher', mapper, 'Хочет получить высшее образование')"
   ]
  },
  {
   "cell_type": "markdown",
   "metadata": {},
   "source": [
    "###  Вывод по атрибуту higher\n",
    "Почти все студенты хотят получить высшее образование"
   ]
  },
  {
   "cell_type": "markdown",
   "metadata": {},
   "source": [
    "## Атрибут internet\n",
    "<a name=\"internet\"/>\n",
    "наличие интернета дома (yes или no)"
   ]
  },
  {
   "cell_type": "code",
   "execution_count": 517,
   "metadata": {},
   "outputs": [
    {
     "data": {
      "text/plain": [
       "yes    305\n",
       "no      56\n",
       "Name: internet, dtype: int64"
      ]
     },
     "metadata": {},
     "output_type": "display_data"
    },
    {
     "data": {
      "text/plain": [
       "<matplotlib.axes._subplots.AxesSubplot at 0x7fcd315dced0>"
      ]
     },
     "metadata": {},
     "output_type": "display_data"
    },
    {
     "name": "stdout",
     "output_type": "stream",
     "text": [
      "Наличие интернета дома Да - 84.49 %\n",
      "Наличие интернета дома Нет - 15.51 %\n",
      "Нет данных -  9.42 %\n"
     ]
    },
    {
     "data": {
      "image/png": "[encoded data removed]",
      "text/plain": [
       "<Figure size 432x288 with 1 Axes>"
      ]
     },
     "metadata": {},
     "output_type": "display_data"
    }
   ],
   "source": [
    "mapper = {\n",
    "    'yes': 'Да',\n",
    "    'no' : 'Нет'\n",
    "}\n",
    "\n",
    "doMapperWork('internet', mapper, 'Наличие интернета дома')"
   ]
  },
  {
   "cell_type": "markdown",
   "metadata": {},
   "source": [
    "###  Вывод по атрибуту internet\n",
    "Почти все студенты имеют дома интернет, но около 10% данных отсутствуют "
   ]
  },
  {
   "cell_type": "markdown",
   "metadata": {},
   "source": [
    "## Атрибут romantic\n",
    "<a name=\"romantic\"/>\n",
    "в романтических отношениях (yes или no)"
   ]
  },
  {
   "cell_type": "code",
   "execution_count": 519,
   "metadata": {},
   "outputs": [
    {
     "data": {
      "text/plain": [
       "no     240\n",
       "yes    124\n",
       "Name: romantic, dtype: int64"
      ]
     },
     "metadata": {},
     "output_type": "display_data"
    },
    {
     "data": {
      "text/plain": [
       "<matplotlib.axes._subplots.AxesSubplot at 0x7fcd315a8390>"
      ]
     },
     "metadata": {},
     "output_type": "display_data"
    },
    {
     "name": "stdout",
     "output_type": "stream",
     "text": [
      "Состоят в романтических отношениях Нет - 65.93 %\n",
      "Состоят в романтических отношениях Да - 34.07 %\n",
      "Нет данных -  8.52 %\n"
     ]
    },
    {
     "data": {
      "image/png": "[encoded data removed]",
      "text/plain": [
       "<Figure size 432x288 with 1 Axes>"
      ]
     },
     "metadata": {},
     "output_type": "display_data"
    }
   ],
   "source": [
    "mapper = {\n",
    "    'yes': 'Да',\n",
    "    'no' : 'Нет'\n",
    "}\n",
    "\n",
    "doMapperWork('romantic', mapper, 'Состоят в романтических отношениях')"
   ]
  },
  {
   "cell_type": "code",
   "execution_count": 520,
   "metadata": {},
   "outputs": [
    {
     "data": {
      "text/plain": [
       "<matplotlib.axes._subplots.AxesSubplot at 0x7fcd315a8f50>"
      ]
     },
     "metadata": {},
     "output_type": "display_data"
    },
    {
     "data": {
      "image/png": "[encoded data removed]",
      "text/plain": [
       "<Figure size 432x288 with 1 Axes>"
      ]
     },
     "metadata": {},
     "output_type": "display_data"
    }
   ],
   "source": [
    "display(sns.boxplot(x = 'age', y = 'romantic', data = data))"
   ]
  },
  {
   "cell_type": "markdown",
   "metadata": {},
   "source": [
    "###  Вывод по атрибуту romantic\n",
    "\n",
    "Большая часть учащихся состоит в романтических отношениях. В основном это учащиеся от 16 до 18 лет "
   ]
  },
  {
   "cell_type": "markdown",
   "metadata": {},
   "source": [
    "## Атрибут famrel\n",
    "<a name=\"famrel\"/>\n",
    "семейные отношения (от 1 - очень плохо до 5 - очень хорошо)"
   ]
  },
  {
   "cell_type": "code",
   "execution_count": 522,
   "metadata": {},
   "outputs": [
    {
     "data": {
      "text/plain": [
       "[4.0, 5.0, 3.0, 2.0, 1.0, -1.0]"
      ]
     },
     "execution_count": 522,
     "metadata": {},
     "output_type": "execute_result"
    }
   ],
   "source": [
    "getAllValuesByColumn(data.famrel)"
   ]
  },
  {
   "cell_type": "code",
   "execution_count": 523,
   "metadata": {},
   "outputs": [
    {
     "data": {
      "text/plain": [
       "<matplotlib.axes._subplots.AxesSubplot at 0x7fcd317a1a50>"
      ]
     },
     "metadata": {},
     "output_type": "display_data"
    },
    {
     "data": {
      "image/png": "[encoded data removed]",
      "text/plain": [
       "<Figure size 432x288 with 1 Axes>"
      ]
     },
     "metadata": {},
     "output_type": "display_data"
    }
   ],
   "source": [
    "buildHist('famrel')"
   ]
  },
  {
   "cell_type": "code",
   "execution_count": 524,
   "metadata": {},
   "outputs": [
    {
     "data": {
      "text/plain": [
       "<matplotlib.axes._subplots.AxesSubplot at 0x7fcd31b37b10>"
      ]
     },
     "metadata": {},
     "output_type": "display_data"
    },
    {
     "data": {
      "image/png": "[encoded data removed]",
      "text/plain": [
       "<Figure size 432x288 with 1 Axes>"
      ]
     },
     "metadata": {},
     "output_type": "display_data"
    }
   ],
   "source": [
    "def trandformToBinar(x):\n",
    "    if x == -1:\n",
    "        return None\n",
    "    if x not in getAllValuesByColumn(data.famrel):\n",
    "        return None\n",
    "    return x\n",
    "\n",
    "data.famrel = data.famrel.apply(trandformToBinar)\n",
    "buildHist('famrel')\n"
   ]
  },
  {
   "cell_type": "code",
   "execution_count": 527,
   "metadata": {},
   "outputs": [
    {
     "data": {
      "text/plain": [
       "4.0    182\n",
       "5.0     99\n",
       "3.0     62\n",
       "2.0     17\n",
       "1.0      7\n",
       "Name: famrel, dtype: int64"
      ]
     },
     "metadata": {},
     "output_type": "display_data"
    },
    {
     "data": {
      "text/plain": [
       "<matplotlib.axes._subplots.AxesSubplot at 0x7fcd32265f50>"
      ]
     },
     "metadata": {},
     "output_type": "display_data"
    },
    {
     "name": "stdout",
     "output_type": "stream",
     "text": [
      "Оценка семейные отношений 4.0 - 49.59 %\n",
      "Оценка семейные отношений 5.0 - 26.98 %\n",
      "Оценка семейные отношений 3.0 - 16.89 %\n",
      "Оценка семейные отношений 2.0 - 4.63 %\n",
      "Оценка семейные отношений 1.0 - 1.91 %\n",
      "Нет данных -  7.63 %\n"
     ]
    },
    {
     "data": {
      "image/png": "[encoded data removed]",
      "text/plain": [
       "<Figure size 432x288 with 1 Axes>"
      ]
     },
     "metadata": {},
     "output_type": "display_data"
    }
   ],
   "source": [
    "mapper = {}\n",
    "\n",
    "for i in getAllValuesByColumn(data.famrel):\n",
    "    mapper[i] = i\n",
    "\n",
    "doMapperWork('famrel', mapper, 'Оценка семейные отношений')"
   ]
  },
  {
   "cell_type": "code",
   "execution_count": 528,
   "metadata": {},
   "outputs": [
    {
     "name": "stdout",
     "output_type": "stream",
     "text": [
      "count    367.000000\n",
      "mean       3.950954\n",
      "std        0.891853\n",
      "min        1.000000\n",
      "25%        4.000000\n",
      "50%        4.000000\n",
      "75%        5.000000\n",
      "max        5.000000\n",
      "Name: famrel, dtype: float64\n"
     ]
    }
   ],
   "source": [
    "print(data['famrel'].describe())"
   ]
  },
  {
   "cell_type": "markdown",
   "metadata": {},
   "source": [
    "### Вывод о атрибут famrel"
   ]
  },
  {
   "cell_type": "code",
   "execution_count": 537,
   "metadata": {},
   "outputs": [
    {
     "data": {
      "text/html": [
       "<div>\n",
       "<style scoped>\n",
       "    .dataframe tbody tr th:only-of-type {\n",
       "        vertical-align: middle;\n",
       "    }\n",
       "\n",
       "    .dataframe tbody tr th {\n",
       "        vertical-align: top;\n",
       "    }\n",
       "\n",
       "    .dataframe thead th {\n",
       "        text-align: right;\n",
       "    }\n",
       "</style>\n",
       "<table border=\"1\" class=\"dataframe\">\n",
       "  <thead>\n",
       "    <tr style=\"text-align: right;\">\n",
       "      <th></th>\n",
       "      <th></th>\n",
       "      <th></th>\n",
       "      <th>count</th>\n",
       "    </tr>\n",
       "    <tr>\n",
       "      <th>famsize</th>\n",
       "      <th>Pstatus</th>\n",
       "      <th>famrel</th>\n",
       "      <th></th>\n",
       "    </tr>\n",
       "  </thead>\n",
       "  <tbody>\n",
       "    <tr>\n",
       "      <th rowspan=\"10\" valign=\"top\">GT3</th>\n",
       "      <th rowspan=\"5\" valign=\"top\">A</th>\n",
       "      <th>1.0</th>\n",
       "      <td>1</td>\n",
       "    </tr>\n",
       "    <tr>\n",
       "      <th>2.0</th>\n",
       "      <td>2</td>\n",
       "    </tr>\n",
       "    <tr>\n",
       "      <th>3.0</th>\n",
       "      <td>4</td>\n",
       "    </tr>\n",
       "    <tr>\n",
       "      <th>4.0</th>\n",
       "      <td>6</td>\n",
       "    </tr>\n",
       "    <tr>\n",
       "      <th>5.0</th>\n",
       "      <td>5</td>\n",
       "    </tr>\n",
       "    <tr>\n",
       "      <th rowspan=\"5\" valign=\"top\">T</th>\n",
       "      <th>1.0</th>\n",
       "      <td>3</td>\n",
       "    </tr>\n",
       "    <tr>\n",
       "      <th>2.0</th>\n",
       "      <td>7</td>\n",
       "    </tr>\n",
       "    <tr>\n",
       "      <th>3.0</th>\n",
       "      <td>30</td>\n",
       "    </tr>\n",
       "    <tr>\n",
       "      <th>4.0</th>\n",
       "      <td>102</td>\n",
       "    </tr>\n",
       "    <tr>\n",
       "      <th>5.0</th>\n",
       "      <td>54</td>\n",
       "    </tr>\n",
       "    <tr>\n",
       "      <th rowspan=\"9\" valign=\"top\">LE3</th>\n",
       "      <th rowspan=\"4\" valign=\"top\">A</th>\n",
       "      <th>2.0</th>\n",
       "      <td>1</td>\n",
       "    </tr>\n",
       "    <tr>\n",
       "      <th>3.0</th>\n",
       "      <td>1</td>\n",
       "    </tr>\n",
       "    <tr>\n",
       "      <th>4.0</th>\n",
       "      <td>4</td>\n",
       "    </tr>\n",
       "    <tr>\n",
       "      <th>5.0</th>\n",
       "      <td>6</td>\n",
       "    </tr>\n",
       "    <tr>\n",
       "      <th rowspan=\"5\" valign=\"top\">T</th>\n",
       "      <th>1.0</th>\n",
       "      <td>1</td>\n",
       "    </tr>\n",
       "    <tr>\n",
       "      <th>2.0</th>\n",
       "      <td>6</td>\n",
       "    </tr>\n",
       "    <tr>\n",
       "      <th>3.0</th>\n",
       "      <td>14</td>\n",
       "    </tr>\n",
       "    <tr>\n",
       "      <th>4.0</th>\n",
       "      <td>38</td>\n",
       "    </tr>\n",
       "    <tr>\n",
       "      <th>5.0</th>\n",
       "      <td>17</td>\n",
       "    </tr>\n",
       "  </tbody>\n",
       "</table>\n",
       "</div>"
      ],
      "text/plain": [
       "                        count\n",
       "famsize Pstatus famrel       \n",
       "GT3     A       1.0         1\n",
       "                2.0         2\n",
       "                3.0         4\n",
       "                4.0         6\n",
       "                5.0         5\n",
       "        T       1.0         3\n",
       "                2.0         7\n",
       "                3.0        30\n",
       "                4.0       102\n",
       "                5.0        54\n",
       "LE3     A       2.0         1\n",
       "                3.0         1\n",
       "                4.0         4\n",
       "                5.0         6\n",
       "        T       1.0         1\n",
       "                2.0         6\n",
       "                3.0        14\n",
       "                4.0        38\n",
       "                5.0        17"
      ]
     },
     "metadata": {},
     "output_type": "display_data"
    },
    {
     "data": {
      "text/plain": [
       "famsize  Pstatus\n",
       "GT3      A          AxesSubplot(0.125,0.125;0.775x0.755)\n",
       "         T          AxesSubplot(0.125,0.125;0.775x0.755)\n",
       "LE3      A          AxesSubplot(0.125,0.125;0.775x0.755)\n",
       "         T          AxesSubplot(0.125,0.125;0.775x0.755)\n",
       "Name: famrel, dtype: object"
      ]
     },
     "execution_count": 537,
     "metadata": {},
     "output_type": "execute_result"
    },
    {
     "data": {
      "image/png": "[encoded data removed]",
      "text/plain": [
       "<Figure size 432x288 with 1 Axes>"
      ]
     },
     "metadata": {},
     "output_type": "display_data"
    }
   ],
   "source": [
    "table = data.pivot_table(values = ['age'], \n",
    "               index = ['famsize', 'Pstatus', 'famrel'], \n",
    "               aggfunc = 'count')\n",
    "table.columns = ['count']\n",
    "display(table)\n",
    "data.groupby(['famsize', 'Pstatus'])['famrel'].hist()"
   ]
  },
  {
   "cell_type": "markdown",
   "metadata": {},
   "source": [
    "Чаще всего встречается оценка 4 и выше в семьях где родители живут вместе"
   ]
  },
  {
   "cell_type": "markdown",
   "metadata": {},
   "source": [
    "## Атрибут freetime\n",
    "<a name=\"freetime\"/>\n",
    "свободное время после школы (от 1 - очень мало до 5 - очень много)"
   ]
  },
  {
   "cell_type": "code",
   "execution_count": 539,
   "metadata": {},
   "outputs": [
    {
     "data": {
      "text/plain": [
       "<matplotlib.axes._subplots.AxesSubplot at 0x7fcd31aaa990>"
      ]
     },
     "execution_count": 539,
     "metadata": {},
     "output_type": "execute_result"
    },
    {
     "data": {
      "image/png": "[encoded data removed]",
      "text/plain": [
       "<Figure size 432x288 with 1 Axes>"
      ]
     },
     "metadata": {},
     "output_type": "display_data"
    }
   ],
   "source": [
    "data.freetime.hist()"
   ]
  },
  {
   "cell_type": "code",
   "execution_count": 540,
   "metadata": {},
   "outputs": [
    {
     "data": {
      "text/plain": [
       "4.0    182\n",
       "5.0     99\n",
       "3.0     62\n",
       "2.0     17\n",
       "1.0      7\n",
       "Name: famrel, dtype: int64"
      ]
     },
     "metadata": {},
     "output_type": "display_data"
    },
    {
     "data": {
      "text/plain": [
       "<matplotlib.axes._subplots.AxesSubplot at 0x7fcd31bb6e50>"
      ]
     },
     "metadata": {},
     "output_type": "display_data"
    },
    {
     "name": "stdout",
     "output_type": "stream",
     "text": [
      "Оценка свободного времени после школы 4.0 - 49.59 %\n",
      "Оценка свободного времени после школы 5.0 - 26.98 %\n",
      "Оценка свободного времени после школы 3.0 - 16.89 %\n",
      "Оценка свободного времени после школы 2.0 - 4.63 %\n",
      "Оценка свободного времени после школы 1.0 - 1.91 %\n",
      "Нет данных -  7.63 %\n"
     ]
    },
    {
     "data": {
      "image/png": "[encoded data removed]",
      "text/plain": [
       "<Figure size 432x288 with 1 Axes>"
      ]
     },
     "metadata": {},
     "output_type": "display_data"
    }
   ],
   "source": [
    "mapper = {}\n",
    "\n",
    "for i in getAllValuesByColumn(data.freetime):\n",
    "    mapper[i] = i\n",
    "\n",
    "doMapperWork('famrel', mapper, 'Оценка свободного времени после школы')"
   ]
  },
  {
   "cell_type": "code",
   "execution_count": 541,
   "metadata": {},
   "outputs": [
    {
     "name": "stdout",
     "output_type": "stream",
     "text": [
      "count    384.000000\n",
      "mean       3.231771\n",
      "std        0.993940\n",
      "min        1.000000\n",
      "25%        3.000000\n",
      "50%        3.000000\n",
      "75%        4.000000\n",
      "max        5.000000\n",
      "Name: freetime, dtype: float64\n"
     ]
    }
   ],
   "source": [
    "print(data['freetime'].describe())"
   ]
  },
  {
   "cell_type": "markdown",
   "metadata": {},
   "source": [
    "### Вывод по атрибуту freetime\n",
    "Около 50% всех учащихся оценили свое свободное время на 4, при при этом средняя оценка около 3. Также около 8% данных нет."
   ]
  },
  {
   "cell_type": "markdown",
   "metadata": {},
   "source": [
    "## Атрибут goout\n",
    "<a name=\"goout\"/>\n",
    "\n",
    "проведение времени с друзьями (от 1 - очень мало до 5 - очень много)"
   ]
  },
  {
   "cell_type": "code",
   "execution_count": 545,
   "metadata": {},
   "outputs": [
    {
     "data": {
      "text/plain": [
       "<matplotlib.axes._subplots.AxesSubplot at 0x7fcd319c97d0>"
      ]
     },
     "execution_count": 545,
     "metadata": {},
     "output_type": "execute_result"
    },
    {
     "data": {
      "image/png": "[encoded data removed]",
      "text/plain": [
       "<Figure size 432x288 with 1 Axes>"
      ]
     },
     "metadata": {},
     "output_type": "display_data"
    }
   ],
   "source": [
    "data.goout.hist(bins = 5)"
   ]
  },
  {
   "cell_type": "code",
   "execution_count": 546,
   "metadata": {},
   "outputs": [
    {
     "data": {
      "text/plain": [
       "3.0    127\n",
       "2.0    101\n",
       "4.0     84\n",
       "5.0     52\n",
       "1.0     23\n",
       "Name: goout, dtype: int64"
      ]
     },
     "metadata": {},
     "output_type": "display_data"
    },
    {
     "data": {
      "text/plain": [
       "<matplotlib.axes._subplots.AxesSubplot at 0x7fcd31894a90>"
      ]
     },
     "metadata": {},
     "output_type": "display_data"
    },
    {
     "name": "stdout",
     "output_type": "stream",
     "text": [
      "Оценка проведение времени с друзьями 3.0 - 32.82 %\n",
      "Оценка проведение времени с друзьями 2.0 - 26.1 %\n",
      "Оценка проведение времени с друзьями 4.0 - 21.71 %\n",
      "Оценка проведение времени с друзьями 5.0 - 13.44 %\n",
      "Оценка проведение времени с друзьями 1.0 - 5.94 %\n",
      "Нет данных -  2.07 %\n"
     ]
    },
    {
     "data": {
      "image/png": "[encoded data removed]",
      "text/plain": [
       "<Figure size 432x288 with 1 Axes>"
      ]
     },
     "metadata": {},
     "output_type": "display_data"
    }
   ],
   "source": [
    "mapper = {}\n",
    "\n",
    "for i in getAllValuesByColumn(data.freetime):\n",
    "    mapper[i] = i\n",
    "\n",
    "doMapperWork('goout', mapper, 'Оценка проведение времени с друзьями')"
   ]
  },
  {
   "cell_type": "code",
   "execution_count": 547,
   "metadata": {},
   "outputs": [
    {
     "name": "stdout",
     "output_type": "stream",
     "text": [
      "count    387.000000\n",
      "mean       3.105943\n",
      "std        1.115896\n",
      "min        1.000000\n",
      "25%        2.000000\n",
      "50%        3.000000\n",
      "75%        4.000000\n",
      "max        5.000000\n",
      "Name: goout, dtype: float64\n"
     ]
    }
   ],
   "source": [
    "print(data['goout'].describe())"
   ]
  },
  {
   "cell_type": "markdown",
   "metadata": {},
   "source": [
    "### Вывод по атрибуту goout"
   ]
  },
  {
   "cell_type": "code",
   "execution_count": 550,
   "metadata": {},
   "outputs": [
    {
     "data": {
      "text/plain": [
       "<matplotlib.axes._subplots.AxesSubplot at 0x7fcd31533f50>"
      ]
     },
     "metadata": {},
     "output_type": "display_data"
    },
    {
     "data": {
      "image/png": "[encoded data removed]",
      "text/plain": [
       "<Figure size 432x288 with 1 Axes>"
      ]
     },
     "metadata": {},
     "output_type": "display_data"
    }
   ],
   "source": [
    "display(sns.boxplot(x = 'age', y = 'goout', data = data))"
   ]
  },
  {
   "cell_type": "code",
   "execution_count": 551,
   "metadata": {},
   "outputs": [
    {
     "data": {
      "text/plain": [
       "<matplotlib.axes._subplots.AxesSubplot at 0x7fcd3134ab50>"
      ]
     },
     "metadata": {},
     "output_type": "display_data"
    },
    {
     "data": {
      "image/png": "[encoded data removed]",
      "text/plain": [
       "<Figure size 432x288 with 1 Axes>"
      ]
     },
     "metadata": {},
     "output_type": "display_data"
    }
   ],
   "source": [
    "display(sns.boxplot(x = 'age', y = 'freetime', data = data))"
   ]
  },
  {
   "cell_type": "markdown",
   "metadata": {},
   "source": [
    "## Атрибут health\n",
    "<a name=\"health\"/>\n",
    "текущее состояние здоровья (от 1 - очень плохо до 5 - очень хорошо)"
   ]
  },
  {
   "cell_type": "code",
   "execution_count": 553,
   "metadata": {},
   "outputs": [
    {
     "data": {
      "text/plain": [
       "5.0    138\n",
       "3.0     89\n",
       "4.0     63\n",
       "1.0     47\n",
       "2.0     43\n",
       "Name: health, dtype: int64"
      ]
     },
     "metadata": {},
     "output_type": "display_data"
    },
    {
     "data": {
      "text/plain": [
       "<matplotlib.axes._subplots.AxesSubplot at 0x7fcd31b37610>"
      ]
     },
     "metadata": {},
     "output_type": "display_data"
    },
    {
     "name": "stdout",
     "output_type": "stream",
     "text": [
      "Оценка текущего состояние здоровья 5.0 - 36.32 %\n",
      "Оценка текущего состояние здоровья 3.0 - 23.42 %\n",
      "Оценка текущего состояние здоровья 4.0 - 16.58 %\n",
      "Оценка текущего состояние здоровья 1.0 - 12.37 %\n",
      "Оценка текущего состояние здоровья 2.0 - 11.32 %\n",
      "Нет данных -  3.95 %\n"
     ]
    },
    {
     "data": {
      "image/png": "[encoded data removed]",
      "text/plain": [
       "<Figure size 432x288 with 1 Axes>"
      ]
     },
     "metadata": {},
     "output_type": "display_data"
    }
   ],
   "source": [
    "mapper = {}\n",
    "\n",
    "for i in getAllValuesByColumn(data.health):\n",
    "    mapper[i] = i\n",
    "\n",
    "doMapperWork('health', mapper, 'Оценка текущего состояние здоровья')"
   ]
  },
  {
   "cell_type": "code",
   "execution_count": 554,
   "metadata": {},
   "outputs": [
    {
     "data": {
      "text/plain": [
       "<matplotlib.axes._subplots.AxesSubplot at 0x7fcd315a8a90>"
      ]
     },
     "metadata": {},
     "output_type": "display_data"
    },
    {
     "data": {
      "image/png": "[encoded data removed]",
      "text/plain": [
       "<Figure size 432x288 with 1 Axes>"
      ]
     },
     "metadata": {},
     "output_type": "display_data"
    }
   ],
   "source": [
    "display(sns.boxplot(x = 'age', y = 'health', data = data))"
   ]
  },
  {
   "cell_type": "code",
   "execution_count": 556,
   "metadata": {},
   "outputs": [
    {
     "data": {
      "text/plain": [
       "<matplotlib.axes._subplots.AxesSubplot at 0x7fcd31409850>"
      ]
     },
     "metadata": {},
     "output_type": "display_data"
    },
    {
     "data": {
      "image/png": "[encoded data removed]",
      "text/plain": [
       "<Figure size 432x288 with 1 Axes>"
      ]
     },
     "metadata": {},
     "output_type": "display_data"
    }
   ],
   "source": [
    "display(sns.boxplot(x = 'sex', y = 'health', data = data))"
   ]
  },
  {
   "cell_type": "code",
   "execution_count": 555,
   "metadata": {},
   "outputs": [
    {
     "data": {
      "text/plain": [
       "count    380.000000\n",
       "mean       3.531579\n",
       "std        1.396019\n",
       "min        1.000000\n",
       "25%        3.000000\n",
       "50%        4.000000\n",
       "75%        5.000000\n",
       "max        5.000000\n",
       "Name: health, dtype: float64"
      ]
     },
     "execution_count": 555,
     "metadata": {},
     "output_type": "execute_result"
    }
   ],
   "source": [
    "data.health.describe()"
   ]
  },
  {
   "cell_type": "markdown",
   "metadata": {},
   "source": [
    "### Вывод по атрибуту health\n",
    "\n",
    "Большая часть учащихся (1/3) оченивают свое состояния здоровья на 5, при этом можно заметить что разброс оценок выше чем возраст ниже. А также у девушек средняя оценка ниже чем молодых людей"
   ]
  },
  {
   "cell_type": "markdown",
   "metadata": {},
   "source": [
    "## Атрибут absences\n",
    "<a name=\"absences\"/>\n",
    "количество пропущенных занятий"
   ]
  },
  {
   "cell_type": "code",
   "execution_count": 563,
   "metadata": {},
   "outputs": [
    {
     "data": {
      "text/plain": [
       "<matplotlib.axes._subplots.AxesSubplot at 0x7fcd31095fd0>"
      ]
     },
     "execution_count": 563,
     "metadata": {},
     "output_type": "execute_result"
    },
    {
     "data": {
      "image/png": "[encoded data removed]",
      "text/plain": [
       "<Figure size 432x288 with 1 Axes>"
      ]
     },
     "metadata": {},
     "output_type": "display_data"
    }
   ],
   "source": [
    "data.absences.plot()"
   ]
  },
  {
   "cell_type": "code",
   "execution_count": 564,
   "metadata": {},
   "outputs": [
    {
     "data": {
      "text/plain": [
       "<matplotlib.axes._subplots.AxesSubplot at 0x7fcd30e7cbd0>"
      ]
     },
     "execution_count": 564,
     "metadata": {},
     "output_type": "execute_result"
    },
    {
     "data": {
      "image/png": "[encoded data removed]",
      "text/plain": [
       "<Figure size 432x288 with 1 Axes>"
      ]
     },
     "metadata": {},
     "output_type": "display_data"
    }
   ],
   "source": [
    "sns.distplot(data['absences'])"
   ]
  },
  {
   "cell_type": "code",
   "execution_count": 565,
   "metadata": {},
   "outputs": [
    {
     "data": {
      "text/plain": [
       "count    383.000000\n",
       "mean       7.279373\n",
       "std       23.465197\n",
       "min        0.000000\n",
       "25%        0.000000\n",
       "50%        4.000000\n",
       "75%        8.000000\n",
       "max      385.000000\n",
       "Name: absences, dtype: float64"
      ]
     },
     "execution_count": 565,
     "metadata": {},
     "output_type": "execute_result"
    }
   ],
   "source": [
    "data.absences.describe()"
   ]
  },
  {
   "cell_type": "code",
   "execution_count": 567,
   "metadata": {},
   "outputs": [
    {
     "data": {
      "text/plain": [
       "<matplotlib.axes._subplots.AxesSubplot at 0x7fcd30d7cb50>"
      ]
     },
     "execution_count": 567,
     "metadata": {},
     "output_type": "execute_result"
    },
    {
     "data": {
      "image/png": "[encoded data removed]",
      "text/plain": [
       "<Figure size 432x288 with 1 Axes>"
      ]
     },
     "metadata": {},
     "output_type": "display_data"
    }
   ],
   "source": [
    "sns.boxplot(x = 'absences', data = data)"
   ]
  },
  {
   "cell_type": "code",
   "execution_count": 568,
   "metadata": {},
   "outputs": [
    {
     "name": "stdout",
     "output_type": "stream",
     "text": [
      "Значений, встретившихся в столбце более 10 раз: 8\n"
     ]
    }
   ],
   "source": [
    "print(\"Значений, встретившихся в столбце более 10 раз:\", (data.absences.value_counts()>10).sum())"
   ]
  },
  {
   "cell_type": "code",
   "execution_count": 575,
   "metadata": {},
   "outputs": [
    {
     "data": {
      "text/html": [
       "<div>\n",
       "<style scoped>\n",
       "    .dataframe tbody tr th:only-of-type {\n",
       "        vertical-align: middle;\n",
       "    }\n",
       "\n",
       "    .dataframe tbody tr th {\n",
       "        vertical-align: top;\n",
       "    }\n",
       "\n",
       "    .dataframe thead th {\n",
       "        text-align: right;\n",
       "    }\n",
       "</style>\n",
       "<table border=\"1\" class=\"dataframe\">\n",
       "  <thead>\n",
       "    <tr style=\"text-align: right;\">\n",
       "      <th></th>\n",
       "      <th>index</th>\n",
       "      <th>absences</th>\n",
       "    </tr>\n",
       "  </thead>\n",
       "  <tbody>\n",
       "    <tr>\n",
       "      <th>0</th>\n",
       "      <td>0.0</td>\n",
       "      <td>111</td>\n",
       "    </tr>\n",
       "    <tr>\n",
       "      <th>1</th>\n",
       "      <td>2.0</td>\n",
       "      <td>60</td>\n",
       "    </tr>\n",
       "    <tr>\n",
       "      <th>2</th>\n",
       "      <td>4.0</td>\n",
       "      <td>53</td>\n",
       "    </tr>\n",
       "    <tr>\n",
       "      <th>3</th>\n",
       "      <td>6.0</td>\n",
       "      <td>31</td>\n",
       "    </tr>\n",
       "    <tr>\n",
       "      <th>4</th>\n",
       "      <td>8.0</td>\n",
       "      <td>21</td>\n",
       "    </tr>\n",
       "    <tr>\n",
       "      <th>5</th>\n",
       "      <td>10.0</td>\n",
       "      <td>17</td>\n",
       "    </tr>\n",
       "    <tr>\n",
       "      <th>6</th>\n",
       "      <td>12.0</td>\n",
       "      <td>12</td>\n",
       "    </tr>\n",
       "    <tr>\n",
       "      <th>7</th>\n",
       "      <td>14.0</td>\n",
       "      <td>12</td>\n",
       "    </tr>\n",
       "  </tbody>\n",
       "</table>\n",
       "</div>"
      ],
      "text/plain": [
       "   index  absences\n",
       "0    0.0       111\n",
       "1    2.0        60\n",
       "2    4.0        53\n",
       "3    6.0        31\n",
       "4    8.0        21\n",
       "5   10.0        17\n",
       "6   12.0        12\n",
       "7   14.0        12"
      ]
     },
     "metadata": {},
     "output_type": "display_data"
    },
    {
     "data": {
      "text/html": [
       "<div>\n",
       "<style scoped>\n",
       "    .dataframe tbody tr th:only-of-type {\n",
       "        vertical-align: middle;\n",
       "    }\n",
       "\n",
       "    .dataframe tbody tr th {\n",
       "        vertical-align: top;\n",
       "    }\n",
       "\n",
       "    .dataframe thead th {\n",
       "        text-align: right;\n",
       "    }\n",
       "</style>\n",
       "<table border=\"1\" class=\"dataframe\">\n",
       "  <thead>\n",
       "    <tr style=\"text-align: right;\">\n",
       "      <th></th>\n",
       "      <th>index</th>\n",
       "      <th>absences</th>\n",
       "    </tr>\n",
       "  </thead>\n",
       "  <tbody>\n",
       "    <tr>\n",
       "      <th>count</th>\n",
       "      <td>8.000000</td>\n",
       "      <td>8.000000</td>\n",
       "    </tr>\n",
       "    <tr>\n",
       "      <th>mean</th>\n",
       "      <td>7.000000</td>\n",
       "      <td>39.625000</td>\n",
       "    </tr>\n",
       "    <tr>\n",
       "      <th>std</th>\n",
       "      <td>4.898979</td>\n",
       "      <td>34.117183</td>\n",
       "    </tr>\n",
       "    <tr>\n",
       "      <th>min</th>\n",
       "      <td>0.000000</td>\n",
       "      <td>12.000000</td>\n",
       "    </tr>\n",
       "    <tr>\n",
       "      <th>25%</th>\n",
       "      <td>3.500000</td>\n",
       "      <td>15.750000</td>\n",
       "    </tr>\n",
       "    <tr>\n",
       "      <th>50%</th>\n",
       "      <td>7.000000</td>\n",
       "      <td>26.000000</td>\n",
       "    </tr>\n",
       "    <tr>\n",
       "      <th>75%</th>\n",
       "      <td>10.500000</td>\n",
       "      <td>54.750000</td>\n",
       "    </tr>\n",
       "    <tr>\n",
       "      <th>max</th>\n",
       "      <td>14.000000</td>\n",
       "      <td>111.000000</td>\n",
       "    </tr>\n",
       "  </tbody>\n",
       "</table>\n",
       "</div>"
      ],
      "text/plain": [
       "           index    absences\n",
       "count   8.000000    8.000000\n",
       "mean    7.000000   39.625000\n",
       "std     4.898979   34.117183\n",
       "min     0.000000   12.000000\n",
       "25%     3.500000   15.750000\n",
       "50%     7.000000   26.000000\n",
       "75%    10.500000   54.750000\n",
       "max    14.000000  111.000000"
      ]
     },
     "execution_count": 575,
     "metadata": {},
     "output_type": "execute_result"
    }
   ],
   "source": [
    "absences_data = data.absences.value_counts().reset_index()\n",
    "temp = absences_data[absences_data.absences > 10]\n",
    "display(temp)\n",
    "temp.describe()"
   ]
  },
  {
   "cell_type": "markdown",
   "metadata": {},
   "source": [
    "### Вывод по атрибуту absences"
   ]
  },
  {
   "cell_type": "markdown",
   "metadata": {},
   "source": [
    "В выборке точно есть выбросы, среднее значение около 39 по выборке где значение пропусков более 10"
   ]
  },
  {
   "cell_type": "markdown",
   "metadata": {},
   "source": [
    "## Атрибут score\n",
    "<a name=\"score\"/>\n",
    "баллы по госэкзамену по математике"
   ]
  },
  {
   "cell_type": "code",
   "execution_count": 578,
   "metadata": {},
   "outputs": [
    {
     "data": {
      "text/plain": [
       "<matplotlib.axes._subplots.AxesSubplot at 0x7fcd30b69950>"
      ]
     },
     "execution_count": 578,
     "metadata": {},
     "output_type": "execute_result"
    },
    {
     "data": {
      "image/png": "[encoded data removed]",
      "text/plain": [
       "<Figure size 432x288 with 1 Axes>"
      ]
     },
     "metadata": {},
     "output_type": "display_data"
    }
   ],
   "source": [
    "sns.distplot(data['score'])"
   ]
  },
  {
   "cell_type": "code",
   "execution_count": 581,
   "metadata": {},
   "outputs": [
    {
     "data": {
      "text/plain": [
       "count    389.000000\n",
       "mean      52.262211\n",
       "std       22.919022\n",
       "min        0.000000\n",
       "25%       40.000000\n",
       "50%       55.000000\n",
       "75%       70.000000\n",
       "max      100.000000\n",
       "Name: score, dtype: float64"
      ]
     },
     "execution_count": 581,
     "metadata": {},
     "output_type": "execute_result"
    }
   ],
   "source": [
    "data.score.describe()"
   ]
  },
  {
   "cell_type": "code",
   "execution_count": 582,
   "metadata": {},
   "outputs": [
    {
     "data": {
      "text/plain": [
       "<matplotlib.axes._subplots.AxesSubplot at 0x7fcd30ae0b90>"
      ]
     },
     "execution_count": 582,
     "metadata": {},
     "output_type": "execute_result"
    },
    {
     "data": {
      "image/png": "[encoded data removed]",
      "text/plain": [
       "<Figure size 432x288 with 1 Axes>"
      ]
     },
     "metadata": {},
     "output_type": "display_data"
    }
   ],
   "source": [
    "sns.boxplot(x = 'score', data = data)"
   ]
  },
  {
   "cell_type": "markdown",
   "metadata": {},
   "source": [
    "### Вывод по атрибуту score\n",
    "\n",
    "Судя по распределению - оно нормальное, средняя оценка около 52 балов, скорее всего для оценки использовалась 100 бальная система"
   ]
  },
  {
   "cell_type": "code",
   "execution_count": null,
   "metadata": {},
   "outputs": [],
   "source": []
  }
 ],
 "metadata": {
  "kernelspec": {
   "display_name": "Python 3",
   "language": "python",
   "name": "python3"
  },
  "language_info": {
   "codemirror_mode": {
    "name": "ipython",
    "version": 3
   },
   "file_extension": ".py",
   "mimetype": "text/x-python",
   "name": "python",
   "nbconvert_exporter": "python",
   "pygments_lexer": "ipython3",
   "version": "3.7.6"
  }
 },
 "nbformat": 4,
 "nbformat_minor": 4
}
